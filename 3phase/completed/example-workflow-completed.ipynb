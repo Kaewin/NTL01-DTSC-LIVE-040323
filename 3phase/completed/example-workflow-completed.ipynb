{
 "cells": [
  {
   "cell_type": "code",
   "execution_count": 1,
   "id": "3b38385c",
   "metadata": {
    "ExecuteTime": {
     "end_time": "2023-05-31T22:00:00.566536Z",
     "start_time": "2023-05-31T21:59:58.750539Z"
    }
   },
   "outputs": [],
   "source": [
    "import pandas as pd\n",
    "import numpy as np\n",
    "from matplotlib import pyplot as plt\n",
    "import seaborn as sns\n",
    "\n",
    "from sklearn.model_selection import train_test_split, GridSearchCV, cross_val_score\n",
    "from sklearn.pipeline import Pipeline\n",
    "from sklearn.preprocessing import StandardScaler, OneHotEncoder, FunctionTransformer\n",
    "from sklearn.impute import SimpleImputer\n",
    "from sklearn.compose import ColumnTransformer,  make_column_selector as selector\n",
    "from sklearn.linear_model import LogisticRegression\n",
    "from sklearn.metrics import plot_confusion_matrix, recall_score,\\\n",
    "    accuracy_score, precision_score, f1_score, plot_roc_curve, classification_report\n",
    "\n",
    "from sklearn.tree import DecisionTreeClassifier\n",
    "\n",
    "from sklearn.dummy import DummyClassifier\n",
    "\n",
    "from imblearn.over_sampling import SMOTE\n",
    "from imblearn.pipeline import Pipeline as ImPipeline\n",
    "\n",
    "from sklearn.datasets import make_classification\n",
    "\n",
    "import string"
   ]
  },
  {
   "cell_type": "code",
   "execution_count": 2,
   "id": "45e99b1d",
   "metadata": {
    "ExecuteTime": {
     "end_time": "2023-05-31T22:00:18.127142Z",
     "start_time": "2023-05-31T22:00:18.090144Z"
    }
   },
   "outputs": [],
   "source": [
    "X,y = make_classification(n_samples=50_000, n_features=10, n_informative=3, n_classes=2, weights=[.95])"
   ]
  },
  {
   "cell_type": "code",
   "execution_count": 3,
   "id": "47cbf790",
   "metadata": {
    "ExecuteTime": {
     "end_time": "2023-05-31T22:00:18.866575Z",
     "start_time": "2023-05-31T22:00:18.861576Z"
    }
   },
   "outputs": [],
   "source": [
    "column_names = ['num__' + str(x) for x in range(1,11)]"
   ]
  },
  {
   "cell_type": "code",
   "execution_count": 4,
   "id": "23906b3a",
   "metadata": {
    "ExecuteTime": {
     "end_time": "2023-05-31T22:00:19.438577Z",
     "start_time": "2023-05-31T22:00:19.421576Z"
    }
   },
   "outputs": [
    {
     "data": {
      "text/plain": [
       "['num__1',\n",
       " 'num__2',\n",
       " 'num__3',\n",
       " 'num__4',\n",
       " 'num__5',\n",
       " 'num__6',\n",
       " 'num__7',\n",
       " 'num__8',\n",
       " 'num__9',\n",
       " 'num__10']"
      ]
     },
     "execution_count": 4,
     "metadata": {},
     "output_type": "execute_result"
    }
   ],
   "source": [
    "column_names"
   ]
  },
  {
   "cell_type": "code",
   "execution_count": 5,
   "id": "3e3fc386",
   "metadata": {
    "ExecuteTime": {
     "end_time": "2023-05-31T22:00:20.234207Z",
     "start_time": "2023-05-31T22:00:20.230237Z"
    }
   },
   "outputs": [],
   "source": [
    "column_names.append('target')"
   ]
  },
  {
   "cell_type": "code",
   "execution_count": 6,
   "id": "be4d7eac",
   "metadata": {
    "ExecuteTime": {
     "end_time": "2023-05-31T22:00:20.838362Z",
     "start_time": "2023-05-31T22:00:20.825362Z"
    }
   },
   "outputs": [
    {
     "data": {
      "text/plain": [
       "0        0\n",
       "1        0\n",
       "2        0\n",
       "3        1\n",
       "4        0\n",
       "        ..\n",
       "49995    0\n",
       "49996    0\n",
       "49997    0\n",
       "49998    0\n",
       "49999    0\n",
       "Length: 50000, dtype: int32"
      ]
     },
     "execution_count": 6,
     "metadata": {},
     "output_type": "execute_result"
    }
   ],
   "source": [
    "pd.Series(y)"
   ]
  },
  {
   "cell_type": "code",
   "execution_count": 7,
   "id": "921a7a54",
   "metadata": {
    "ExecuteTime": {
     "end_time": "2023-05-31T22:00:23.667154Z",
     "start_time": "2023-05-31T22:00:23.657154Z"
    },
    "scrolled": true
   },
   "outputs": [],
   "source": [
    "df = pd.concat([pd.DataFrame(X),pd.Series(y)], axis=1)\n",
    "df.columns = column_names"
   ]
  },
  {
   "cell_type": "code",
   "execution_count": 8,
   "id": "1697c1a9",
   "metadata": {
    "ExecuteTime": {
     "end_time": "2023-05-31T22:00:24.319549Z",
     "start_time": "2023-05-31T22:00:24.298548Z"
    },
    "scrolled": true
   },
   "outputs": [
    {
     "data": {
      "text/html": [
       "<div>\n",
       "<style scoped>\n",
       "    .dataframe tbody tr th:only-of-type {\n",
       "        vertical-align: middle;\n",
       "    }\n",
       "\n",
       "    .dataframe tbody tr th {\n",
       "        vertical-align: top;\n",
       "    }\n",
       "\n",
       "    .dataframe thead th {\n",
       "        text-align: right;\n",
       "    }\n",
       "</style>\n",
       "<table border=\"1\" class=\"dataframe\">\n",
       "  <thead>\n",
       "    <tr style=\"text-align: right;\">\n",
       "      <th></th>\n",
       "      <th>num__1</th>\n",
       "      <th>num__2</th>\n",
       "      <th>num__3</th>\n",
       "      <th>num__4</th>\n",
       "      <th>num__5</th>\n",
       "      <th>num__6</th>\n",
       "      <th>num__7</th>\n",
       "      <th>num__8</th>\n",
       "      <th>num__9</th>\n",
       "      <th>num__10</th>\n",
       "      <th>target</th>\n",
       "    </tr>\n",
       "  </thead>\n",
       "  <tbody>\n",
       "    <tr>\n",
       "      <th>0</th>\n",
       "      <td>0.482061</td>\n",
       "      <td>-0.900028</td>\n",
       "      <td>-0.559278</td>\n",
       "      <td>-0.185681</td>\n",
       "      <td>-2.316284</td>\n",
       "      <td>-2.848956</td>\n",
       "      <td>0.936779</td>\n",
       "      <td>1.646479</td>\n",
       "      <td>-1.473565</td>\n",
       "      <td>0.162436</td>\n",
       "      <td>0</td>\n",
       "    </tr>\n",
       "    <tr>\n",
       "      <th>1</th>\n",
       "      <td>0.687614</td>\n",
       "      <td>1.465527</td>\n",
       "      <td>1.024936</td>\n",
       "      <td>0.063998</td>\n",
       "      <td>0.719797</td>\n",
       "      <td>-0.472872</td>\n",
       "      <td>0.167993</td>\n",
       "      <td>1.911739</td>\n",
       "      <td>1.944738</td>\n",
       "      <td>2.421404</td>\n",
       "      <td>0</td>\n",
       "    </tr>\n",
       "    <tr>\n",
       "      <th>2</th>\n",
       "      <td>0.408130</td>\n",
       "      <td>1.298778</td>\n",
       "      <td>1.011515</td>\n",
       "      <td>-0.289488</td>\n",
       "      <td>-0.008554</td>\n",
       "      <td>-1.520466</td>\n",
       "      <td>-0.133465</td>\n",
       "      <td>-0.534135</td>\n",
       "      <td>1.317713</td>\n",
       "      <td>2.428630</td>\n",
       "      <td>0</td>\n",
       "    </tr>\n",
       "    <tr>\n",
       "      <th>3</th>\n",
       "      <td>1.436133</td>\n",
       "      <td>1.899269</td>\n",
       "      <td>-0.916482</td>\n",
       "      <td>-0.306133</td>\n",
       "      <td>1.827398</td>\n",
       "      <td>0.638768</td>\n",
       "      <td>0.895514</td>\n",
       "      <td>-1.373805</td>\n",
       "      <td>-1.456214</td>\n",
       "      <td>-1.450450</td>\n",
       "      <td>1</td>\n",
       "    </tr>\n",
       "    <tr>\n",
       "      <th>4</th>\n",
       "      <td>1.085281</td>\n",
       "      <td>-3.122719</td>\n",
       "      <td>0.698015</td>\n",
       "      <td>-0.745301</td>\n",
       "      <td>-2.974233</td>\n",
       "      <td>-1.309127</td>\n",
       "      <td>-0.394161</td>\n",
       "      <td>-0.562856</td>\n",
       "      <td>-2.757525</td>\n",
       "      <td>-2.411014</td>\n",
       "      <td>0</td>\n",
       "    </tr>\n",
       "  </tbody>\n",
       "</table>\n",
       "</div>"
      ],
      "text/plain": [
       "     num__1    num__2    num__3    num__4    num__5    num__6    num__7  \\\n",
       "0  0.482061 -0.900028 -0.559278 -0.185681 -2.316284 -2.848956  0.936779   \n",
       "1  0.687614  1.465527  1.024936  0.063998  0.719797 -0.472872  0.167993   \n",
       "2  0.408130  1.298778  1.011515 -0.289488 -0.008554 -1.520466 -0.133465   \n",
       "3  1.436133  1.899269 -0.916482 -0.306133  1.827398  0.638768  0.895514   \n",
       "4  1.085281 -3.122719  0.698015 -0.745301 -2.974233 -1.309127 -0.394161   \n",
       "\n",
       "     num__8    num__9   num__10  target  \n",
       "0  1.646479 -1.473565  0.162436       0  \n",
       "1  1.911739  1.944738  2.421404       0  \n",
       "2 -0.534135  1.317713  2.428630       0  \n",
       "3 -1.373805 -1.456214 -1.450450       1  \n",
       "4 -0.562856 -2.757525 -2.411014       0  "
      ]
     },
     "execution_count": 8,
     "metadata": {},
     "output_type": "execute_result"
    }
   ],
   "source": [
    "df.head()"
   ]
  },
  {
   "cell_type": "code",
   "execution_count": 9,
   "id": "cce9a019",
   "metadata": {
    "ExecuteTime": {
     "end_time": "2023-05-31T22:00:42.638295Z",
     "start_time": "2023-05-31T22:00:42.623299Z"
    }
   },
   "outputs": [],
   "source": [
    "df['cat_1'] = np.random.choice(a=['a','b','c','d','e'],  size=len(df))\n",
    "df['cat_2'] = np.random.choice(a=['f','g','h','i'],  size=len(df))"
   ]
  },
  {
   "cell_type": "code",
   "execution_count": 10,
   "id": "78ef89b3",
   "metadata": {
    "ExecuteTime": {
     "end_time": "2023-05-31T22:00:43.000296Z",
     "start_time": "2023-05-31T22:00:42.975297Z"
    }
   },
   "outputs": [
    {
     "data": {
      "text/html": [
       "<div>\n",
       "<style scoped>\n",
       "    .dataframe tbody tr th:only-of-type {\n",
       "        vertical-align: middle;\n",
       "    }\n",
       "\n",
       "    .dataframe tbody tr th {\n",
       "        vertical-align: top;\n",
       "    }\n",
       "\n",
       "    .dataframe thead th {\n",
       "        text-align: right;\n",
       "    }\n",
       "</style>\n",
       "<table border=\"1\" class=\"dataframe\">\n",
       "  <thead>\n",
       "    <tr style=\"text-align: right;\">\n",
       "      <th></th>\n",
       "      <th>num__1</th>\n",
       "      <th>num__2</th>\n",
       "      <th>num__3</th>\n",
       "      <th>num__4</th>\n",
       "      <th>num__5</th>\n",
       "      <th>num__6</th>\n",
       "      <th>num__7</th>\n",
       "      <th>num__8</th>\n",
       "      <th>num__9</th>\n",
       "      <th>num__10</th>\n",
       "      <th>target</th>\n",
       "      <th>cat_1</th>\n",
       "      <th>cat_2</th>\n",
       "    </tr>\n",
       "  </thead>\n",
       "  <tbody>\n",
       "    <tr>\n",
       "      <th>0</th>\n",
       "      <td>0.482061</td>\n",
       "      <td>-0.900028</td>\n",
       "      <td>-0.559278</td>\n",
       "      <td>-0.185681</td>\n",
       "      <td>-2.316284</td>\n",
       "      <td>-2.848956</td>\n",
       "      <td>0.936779</td>\n",
       "      <td>1.646479</td>\n",
       "      <td>-1.473565</td>\n",
       "      <td>0.162436</td>\n",
       "      <td>0</td>\n",
       "      <td>b</td>\n",
       "      <td>g</td>\n",
       "    </tr>\n",
       "    <tr>\n",
       "      <th>1</th>\n",
       "      <td>0.687614</td>\n",
       "      <td>1.465527</td>\n",
       "      <td>1.024936</td>\n",
       "      <td>0.063998</td>\n",
       "      <td>0.719797</td>\n",
       "      <td>-0.472872</td>\n",
       "      <td>0.167993</td>\n",
       "      <td>1.911739</td>\n",
       "      <td>1.944738</td>\n",
       "      <td>2.421404</td>\n",
       "      <td>0</td>\n",
       "      <td>b</td>\n",
       "      <td>h</td>\n",
       "    </tr>\n",
       "    <tr>\n",
       "      <th>2</th>\n",
       "      <td>0.408130</td>\n",
       "      <td>1.298778</td>\n",
       "      <td>1.011515</td>\n",
       "      <td>-0.289488</td>\n",
       "      <td>-0.008554</td>\n",
       "      <td>-1.520466</td>\n",
       "      <td>-0.133465</td>\n",
       "      <td>-0.534135</td>\n",
       "      <td>1.317713</td>\n",
       "      <td>2.428630</td>\n",
       "      <td>0</td>\n",
       "      <td>c</td>\n",
       "      <td>h</td>\n",
       "    </tr>\n",
       "    <tr>\n",
       "      <th>3</th>\n",
       "      <td>1.436133</td>\n",
       "      <td>1.899269</td>\n",
       "      <td>-0.916482</td>\n",
       "      <td>-0.306133</td>\n",
       "      <td>1.827398</td>\n",
       "      <td>0.638768</td>\n",
       "      <td>0.895514</td>\n",
       "      <td>-1.373805</td>\n",
       "      <td>-1.456214</td>\n",
       "      <td>-1.450450</td>\n",
       "      <td>1</td>\n",
       "      <td>d</td>\n",
       "      <td>f</td>\n",
       "    </tr>\n",
       "    <tr>\n",
       "      <th>4</th>\n",
       "      <td>1.085281</td>\n",
       "      <td>-3.122719</td>\n",
       "      <td>0.698015</td>\n",
       "      <td>-0.745301</td>\n",
       "      <td>-2.974233</td>\n",
       "      <td>-1.309127</td>\n",
       "      <td>-0.394161</td>\n",
       "      <td>-0.562856</td>\n",
       "      <td>-2.757525</td>\n",
       "      <td>-2.411014</td>\n",
       "      <td>0</td>\n",
       "      <td>a</td>\n",
       "      <td>h</td>\n",
       "    </tr>\n",
       "  </tbody>\n",
       "</table>\n",
       "</div>"
      ],
      "text/plain": [
       "     num__1    num__2    num__3    num__4    num__5    num__6    num__7  \\\n",
       "0  0.482061 -0.900028 -0.559278 -0.185681 -2.316284 -2.848956  0.936779   \n",
       "1  0.687614  1.465527  1.024936  0.063998  0.719797 -0.472872  0.167993   \n",
       "2  0.408130  1.298778  1.011515 -0.289488 -0.008554 -1.520466 -0.133465   \n",
       "3  1.436133  1.899269 -0.916482 -0.306133  1.827398  0.638768  0.895514   \n",
       "4  1.085281 -3.122719  0.698015 -0.745301 -2.974233 -1.309127 -0.394161   \n",
       "\n",
       "     num__8    num__9   num__10  target cat_1 cat_2  \n",
       "0  1.646479 -1.473565  0.162436       0     b     g  \n",
       "1  1.911739  1.944738  2.421404       0     b     h  \n",
       "2 -0.534135  1.317713  2.428630       0     c     h  \n",
       "3 -1.373805 -1.456214 -1.450450       1     d     f  \n",
       "4 -0.562856 -2.757525 -2.411014       0     a     h  "
      ]
     },
     "execution_count": 10,
     "metadata": {},
     "output_type": "execute_result"
    }
   ],
   "source": [
    "df.head()"
   ]
  },
  {
   "cell_type": "code",
   "execution_count": 11,
   "id": "237e07cf",
   "metadata": {
    "ExecuteTime": {
     "end_time": "2023-05-31T22:00:48.628396Z",
     "start_time": "2023-05-31T22:00:48.608394Z"
    }
   },
   "outputs": [],
   "source": [
    "class ModelWithCV():\n",
    "    '''Structure to save the model and more easily see its crossvalidation'''\n",
    "    \n",
    "    def __init__(self, model, model_name, X, y, cv_now=True):\n",
    "        self.model = model\n",
    "        self.name = model_name\n",
    "        self.X = X\n",
    "        self.y = y\n",
    "        # For CV results\n",
    "        self.cv_results = None\n",
    "        self.cv_mean = None\n",
    "        self.cv_median = None\n",
    "        self.cv_std = None\n",
    "        #\n",
    "        if cv_now:\n",
    "            self.cross_validate()\n",
    "        \n",
    "    def cross_validate(self, X=None, y=None, kfolds=10):\n",
    "        '''\n",
    "        Perform cross-validation and return results.\n",
    "        \n",
    "        Args: \n",
    "          X:\n",
    "            Optional; Training data to perform CV on. Otherwise use X from object\n",
    "          y:\n",
    "            Optional; Training data to perform CV on. Otherwise use y from object\n",
    "          kfolds:\n",
    "            Optional; Number of folds for CV (default is 10)  \n",
    "        '''\n",
    "        \n",
    "        cv_X = X if X else self.X\n",
    "        cv_y = y if y else self.y\n",
    "\n",
    "        self.cv_results = cross_val_score(self.model, cv_X, cv_y, cv=kfolds)\n",
    "        self.cv_mean = np.mean(self.cv_results)\n",
    "        self.cv_median = np.median(self.cv_results)\n",
    "        self.cv_std = np.std(self.cv_results)\n",
    "\n",
    "        \n",
    "    def print_cv_summary(self):\n",
    "        cv_summary = (\n",
    "        f'''CV Results for `{self.name}` model:\n",
    "            {self.cv_mean:.5f} ± {self.cv_std:.5f} accuracy\n",
    "        ''')\n",
    "        print(cv_summary)\n",
    "\n",
    "        \n",
    "    def plot_cv(self, ax):\n",
    "        '''\n",
    "        Plot the cross-validation values using the array of results and given \n",
    "        Axis for plotting.\n",
    "        '''\n",
    "        ax.set_title(f'CV Results for `{self.name}` Model')\n",
    "        # Thinner violinplot with higher bw\n",
    "        sns.violinplot(y=self.cv_results, ax=ax, bw=.4)\n",
    "        sns.swarmplot(\n",
    "                y=self.cv_results,\n",
    "                color='orange',\n",
    "                size=10,\n",
    "                alpha= 0.8,\n",
    "                ax=ax\n",
    "        )\n",
    "\n",
    "        return ax"
   ]
  },
  {
   "cell_type": "code",
   "execution_count": 12,
   "id": "17f6205c",
   "metadata": {
    "ExecuteTime": {
     "end_time": "2023-05-31T22:00:55.248596Z",
     "start_time": "2023-05-31T22:00:55.235597Z"
    }
   },
   "outputs": [],
   "source": [
    "X = df.drop('target',axis =1)\n",
    "y = df.target"
   ]
  },
  {
   "cell_type": "code",
   "execution_count": 13,
   "id": "43b2373e",
   "metadata": {
    "ExecuteTime": {
     "end_time": "2023-05-31T22:02:02.142343Z",
     "start_time": "2023-05-31T22:02:02.125371Z"
    }
   },
   "outputs": [],
   "source": [
    "# holdout split. I will call this validation\n",
    "X_train_both, X_val, y_train_both, y_val = train_test_split(X,y,random_state=42, test_size = .1)"
   ]
  },
  {
   "cell_type": "code",
   "execution_count": 14,
   "id": "3d3f6534",
   "metadata": {
    "ExecuteTime": {
     "end_time": "2023-05-31T22:02:11.625898Z",
     "start_time": "2023-05-31T22:02:11.604896Z"
    }
   },
   "outputs": [
    {
     "data": {
      "text/plain": [
       "0    0.9422\n",
       "1    0.0578\n",
       "Name: target, dtype: float64"
      ]
     },
     "execution_count": 14,
     "metadata": {},
     "output_type": "execute_result"
    }
   ],
   "source": [
    "# Sniff Test\n",
    "y_val.value_counts(normalize=True)"
   ]
  },
  {
   "cell_type": "code",
   "execution_count": 15,
   "id": "6a442c76",
   "metadata": {
    "ExecuteTime": {
     "end_time": "2023-05-31T22:02:12.123927Z",
     "start_time": "2023-05-31T22:02:12.115897Z"
    }
   },
   "outputs": [
    {
     "data": {
      "text/plain": [
       "0    0.945711\n",
       "1    0.054289\n",
       "Name: target, dtype: float64"
      ]
     },
     "execution_count": 15,
     "metadata": {},
     "output_type": "execute_result"
    }
   ],
   "source": [
    "y_train_both.value_counts(normalize=True)"
   ]
  },
  {
   "cell_type": "code",
   "execution_count": 16,
   "id": "3e8baef7",
   "metadata": {
    "ExecuteTime": {
     "end_time": "2023-05-31T22:02:42.248734Z",
     "start_time": "2023-05-31T22:02:42.224707Z"
    }
   },
   "outputs": [],
   "source": [
    "# Now, create my test and train splits for model creation, default test size\n",
    "X_train, X_test, y_train, y_test = train_test_split(X_train_both, y_train_both, random_state=42)"
   ]
  },
  {
   "cell_type": "code",
   "execution_count": 17,
   "id": "898356f1",
   "metadata": {
    "ExecuteTime": {
     "end_time": "2023-05-31T22:02:42.961895Z",
     "start_time": "2023-05-31T22:02:42.947896Z"
    }
   },
   "outputs": [
    {
     "name": "stdout",
     "output_type": "stream",
     "text": [
      "Train size:     (33750, 12)\n",
      "Test size:      (11250, 12)\n",
      "Validation size (5000, 12)\n"
     ]
    }
   ],
   "source": [
    "print(f'Train size:     {X_train.shape}')\n",
    "print(f'Test size:      {X_test.shape}')\n",
    "print(f'Validation size {X_val.shape}')"
   ]
  },
  {
   "cell_type": "code",
   "execution_count": 18,
   "id": "ab33a786",
   "metadata": {
    "ExecuteTime": {
     "end_time": "2023-05-31T22:04:58.911204Z",
     "start_time": "2023-05-31T22:04:58.895201Z"
    }
   },
   "outputs": [],
   "source": [
    "# cat and numeric subpipe\n",
    "\n",
    "subpipe_numerics = Pipeline(steps = [\n",
    "    ('num_impute', SimpleImputer(strategy='median')),\n",
    "    ('ss', StandardScaler())\n",
    "])\n",
    "\n",
    "\n",
    "subpipe_cat = Pipeline(steps=[\n",
    "    ('cat_impute', SimpleImputer(strategy='most_frequent')),\n",
    "    ('ohe', OneHotEncoder(sparse=False, handle_unknown='ignore'))\n",
    "])"
   ]
  },
  {
   "cell_type": "code",
   "execution_count": 19,
   "id": "54366751",
   "metadata": {
    "ExecuteTime": {
     "end_time": "2023-05-31T22:04:59.485201Z",
     "start_time": "2023-05-31T22:04:59.470201Z"
    }
   },
   "outputs": [],
   "source": [
    "# Column Transformer\n",
    "\n",
    "CT = ColumnTransformer(transformers=[\n",
    "    ('subpipe_num', subpipe_numerics, selector(dtype_include=np.number)),\n",
    "    ('subpipe_cat', subpipe_cat, selector(dtype_include=object))\n",
    "], remainder='passthrough')"
   ]
  },
  {
   "cell_type": "code",
   "execution_count": 20,
   "id": "bfec13dc",
   "metadata": {
    "ExecuteTime": {
     "end_time": "2023-05-31T22:05:18.854308Z",
     "start_time": "2023-05-31T22:05:18.842279Z"
    }
   },
   "outputs": [
    {
     "data": {
      "text/plain": [
       "0    0.945096\n",
       "1    0.054904\n",
       "Name: target, dtype: float64"
      ]
     },
     "execution_count": 20,
     "metadata": {},
     "output_type": "execute_result"
    }
   ],
   "source": [
    "y_train.value_counts(normalize=True)"
   ]
  },
  {
   "cell_type": "code",
   "execution_count": 21,
   "id": "37ec744e",
   "metadata": {
    "ExecuteTime": {
     "end_time": "2023-05-31T22:05:49.766118Z",
     "start_time": "2023-05-31T22:05:49.761147Z"
    }
   },
   "outputs": [],
   "source": [
    "# Dummy!\n",
    "dummy_model_pipe = Pipeline(steps=[\n",
    "    ('ct',CT),\n",
    "    ('dummy', DummyClassifier(strategy='most_frequent'))\n",
    "])"
   ]
  },
  {
   "cell_type": "code",
   "execution_count": 22,
   "id": "466a4875",
   "metadata": {
    "ExecuteTime": {
     "end_time": "2023-05-31T22:05:53.798080Z",
     "start_time": "2023-05-31T22:05:53.554081Z"
    }
   },
   "outputs": [
    {
     "data": {
      "text/plain": [
       "Pipeline(steps=[('ct',\n",
       "                 ColumnTransformer(remainder='passthrough',\n",
       "                                   transformers=[('subpipe_num',\n",
       "                                                  Pipeline(steps=[('num_impute',\n",
       "                                                                   SimpleImputer(strategy='median')),\n",
       "                                                                  ('ss',\n",
       "                                                                   StandardScaler())]),\n",
       "                                                  <sklearn.compose._column_transformer.make_column_selector object at 0x0000022FAA5DF280>),\n",
       "                                                 ('subpipe_cat',\n",
       "                                                  Pipeline(steps=[('cat_impute',\n",
       "                                                                   SimpleImputer(strategy='most_frequent')),\n",
       "                                                                  ('ohe',\n",
       "                                                                   OneHotEncoder(handle_unknown='ignore',\n",
       "                                                                                 sparse=False))]),\n",
       "                                                  <sklearn.compose._column_transformer.make_column_selector object at 0x0000022FAA5DFFA0>)])),\n",
       "                ('dummy', DummyClassifier(strategy='most_frequent'))])"
      ]
     },
     "execution_count": 22,
     "metadata": {},
     "output_type": "execute_result"
    }
   ],
   "source": [
    "dummy_model_pipe.fit(X_train, y_train)"
   ]
  },
  {
   "cell_type": "code",
   "execution_count": 23,
   "id": "28234032",
   "metadata": {
    "ExecuteTime": {
     "end_time": "2023-05-31T22:08:25.314673Z",
     "start_time": "2023-05-31T22:08:23.784639Z"
    }
   },
   "outputs": [
    {
     "data": {
      "text/plain": [
       "<AxesSubplot:title={'center':'CV Results for `dummy` Model'}>"
      ]
     },
     "execution_count": 23,
     "metadata": {},
     "output_type": "execute_result"
    },
    {
     "data": {
      "image/png": "[encoded data removed]",
      "text/plain": [
       "<Figure size 720x720 with 1 Axes>"
      ]
     },
     "metadata": {
      "needs_background": "light"
     },
     "output_type": "display_data"
    }
   ],
   "source": [
    "# Cross Validated on Training Data\n",
    "dummy_model = ModelWithCV(\n",
    "    dummy_model_pipe,\n",
    "    model_name='dummy',\n",
    "    X=X_train,\n",
    "    y=y_train)\n",
    "fix, ax = plt.subplots(figsize=(10,10))\n",
    "\n",
    "dummy_model.plot_cv(ax=ax)"
   ]
  },
  {
   "cell_type": "code",
   "execution_count": 24,
   "id": "b095f207",
   "metadata": {
    "ExecuteTime": {
     "end_time": "2023-05-31T22:08:28.435800Z",
     "start_time": "2023-05-31T22:08:28.430802Z"
    }
   },
   "outputs": [
    {
     "name": "stdout",
     "output_type": "stream",
     "text": [
      "CV Results for `dummy` model:\n",
      "            0.94510 ± 0.00014 accuracy\n",
      "        \n"
     ]
    }
   ],
   "source": [
    "dummy_model.print_cv_summary()"
   ]
  },
  {
   "cell_type": "code",
   "execution_count": 25,
   "id": "7e3988e6",
   "metadata": {
    "ExecuteTime": {
     "end_time": "2023-05-31T22:08:30.935799Z",
     "start_time": "2023-05-31T22:08:30.906830Z"
    },
    "scrolled": false
   },
   "outputs": [
    {
     "data": {
      "text/plain": [
       "0.9475555555555556"
      ]
     },
     "execution_count": 25,
     "metadata": {},
     "output_type": "execute_result"
    }
   ],
   "source": [
    "dummy_model_pipe.score(X_test, y_test)"
   ]
  },
  {
   "cell_type": "code",
   "execution_count": 26,
   "id": "f62d9d7a",
   "metadata": {
    "ExecuteTime": {
     "end_time": "2023-05-31T22:08:35.850536Z",
     "start_time": "2023-05-31T22:08:35.672538Z"
    }
   },
   "outputs": [
    {
     "data": {
      "image/png": "[encoded data removed]",
      "text/plain": [
       "<Figure size 432x288 with 2 Axes>"
      ]
     },
     "metadata": {
      "needs_background": "light"
     },
     "output_type": "display_data"
    }
   ],
   "source": [
    "plot_confusion_matrix(dummy_model_pipe, X_test, y_test);"
   ]
  },
  {
   "cell_type": "code",
   "execution_count": 27,
   "id": "729e6747",
   "metadata": {
    "ExecuteTime": {
     "end_time": "2023-05-31T22:08:38.265549Z",
     "start_time": "2023-05-31T22:08:38.220481Z"
    }
   },
   "outputs": [
    {
     "name": "stdout",
     "output_type": "stream",
     "text": [
      "              precision    recall  f1-score   support\n",
      "\n",
      "           0       0.95      1.00      0.97     10660\n",
      "           1       0.00      0.00      0.00       590\n",
      "\n",
      "    accuracy                           0.95     11250\n",
      "   macro avg       0.47      0.50      0.49     11250\n",
      "weighted avg       0.90      0.95      0.92     11250\n",
      "\n"
     ]
    },
    {
     "name": "stderr",
     "output_type": "stream",
     "text": [
      "c:\\Anaconda3\\envs\\learn-env\\lib\\site-packages\\sklearn\\metrics\\_classification.py:1221: UndefinedMetricWarning: Precision and F-score are ill-defined and being set to 0.0 in labels with no predicted samples. Use `zero_division` parameter to control this behavior.\n",
      "  _warn_prf(average, modifier, msg_start, len(result))\n"
     ]
    }
   ],
   "source": [
    "y_pred = dummy_model_pipe.predict(X_test)\n",
    "print(classification_report(y_test, y_pred))"
   ]
  },
  {
   "cell_type": "code",
   "execution_count": 28,
   "id": "9b459486",
   "metadata": {
    "ExecuteTime": {
     "end_time": "2023-05-31T22:08:40.908626Z",
     "start_time": "2023-05-31T22:08:40.735627Z"
    }
   },
   "outputs": [
    {
     "data": {
      "image/png": "[encoded data removed]",
      "text/plain": [
       "<Figure size 432x288 with 1 Axes>"
      ]
     },
     "metadata": {
      "needs_background": "light"
     },
     "output_type": "display_data"
    }
   ],
   "source": [
    "plot_roc_curve(dummy_model_pipe, X_test, y_test);"
   ]
  },
  {
   "cell_type": "code",
   "execution_count": 29,
   "id": "4336841d",
   "metadata": {
    "ExecuteTime": {
     "end_time": "2023-05-31T22:08:43.358745Z",
     "start_time": "2023-05-31T22:08:43.344746Z"
    }
   },
   "outputs": [],
   "source": [
    "# FSM!"
   ]
  },
  {
   "cell_type": "code",
   "execution_count": 30,
   "id": "47c8051d",
   "metadata": {
    "ExecuteTime": {
     "end_time": "2023-05-31T22:09:34.630707Z",
     "start_time": "2023-05-31T22:09:34.617709Z"
    }
   },
   "outputs": [],
   "source": [
    "base_log_reg_pipe = Pipeline(steps=[\n",
    "    ('ct',CT),\n",
    "    ('base_log_reg', LogisticRegression(random_state=42))\n",
    "])"
   ]
  },
  {
   "cell_type": "code",
   "execution_count": 31,
   "id": "e1787504",
   "metadata": {
    "ExecuteTime": {
     "end_time": "2023-05-31T22:09:37.352711Z",
     "start_time": "2023-05-31T22:09:37.047739Z"
    }
   },
   "outputs": [
    {
     "data": {
      "text/plain": [
       "Pipeline(steps=[('ct',\n",
       "                 ColumnTransformer(remainder='passthrough',\n",
       "                                   transformers=[('subpipe_num',\n",
       "                                                  Pipeline(steps=[('num_impute',\n",
       "                                                                   SimpleImputer(strategy='median')),\n",
       "                                                                  ('ss',\n",
       "                                                                   StandardScaler())]),\n",
       "                                                  <sklearn.compose._column_transformer.make_column_selector object at 0x0000022FAA5DF280>),\n",
       "                                                 ('subpipe_cat',\n",
       "                                                  Pipeline(steps=[('cat_impute',\n",
       "                                                                   SimpleImputer(strategy='most_frequent')),\n",
       "                                                                  ('ohe',\n",
       "                                                                   OneHotEncoder(handle_unknown='ignore',\n",
       "                                                                                 sparse=False))]),\n",
       "                                                  <sklearn.compose._column_transformer.make_column_selector object at 0x0000022FAA5DFFA0>)])),\n",
       "                ('base_log_reg', LogisticRegression(random_state=42))])"
      ]
     },
     "execution_count": 31,
     "metadata": {},
     "output_type": "execute_result"
    }
   ],
   "source": [
    "base_log_reg_pipe.fit(X_train, y_train)"
   ]
  },
  {
   "cell_type": "code",
   "execution_count": 32,
   "id": "5f599eb9",
   "metadata": {
    "ExecuteTime": {
     "end_time": "2023-05-31T22:09:41.767708Z",
     "start_time": "2023-05-31T22:09:39.742708Z"
    }
   },
   "outputs": [
    {
     "data": {
      "image/png": "[encoded data removed]",
      "text/plain": [
       "<Figure size 720x720 with 1 Axes>"
      ]
     },
     "metadata": {
      "needs_background": "light"
     },
     "output_type": "display_data"
    }
   ],
   "source": [
    "base_log_reg = ModelWithCV(\n",
    "    base_log_reg_pipe,\n",
    "    model_name='base_log_reg',\n",
    "    X=X_train,\n",
    "    y=y_train)\n",
    "fix, ax = plt.subplots(figsize=(10,10))\n",
    "\n",
    "base_log_reg.plot_cv(ax=ax);"
   ]
  },
  {
   "cell_type": "code",
   "execution_count": 33,
   "id": "502864fe",
   "metadata": {
    "ExecuteTime": {
     "end_time": "2023-05-31T22:09:44.188708Z",
     "start_time": "2023-05-31T22:09:44.175708Z"
    }
   },
   "outputs": [
    {
     "name": "stdout",
     "output_type": "stream",
     "text": [
      "CV Results for `base_log_reg` model:\n",
      "            0.98883 ± 0.00117 accuracy\n",
      "        \n"
     ]
    }
   ],
   "source": [
    "base_log_reg.print_cv_summary()"
   ]
  },
  {
   "cell_type": "code",
   "execution_count": 34,
   "id": "f407b4e9",
   "metadata": {
    "ExecuteTime": {
     "end_time": "2023-05-31T22:09:46.745707Z",
     "start_time": "2023-05-31T22:09:46.715707Z"
    }
   },
   "outputs": [
    {
     "data": {
      "text/plain": [
       "0.9880888888888889"
      ]
     },
     "execution_count": 34,
     "metadata": {},
     "output_type": "execute_result"
    }
   ],
   "source": [
    "base_log_reg_pipe.score(X_test, y_test)"
   ]
  },
  {
   "cell_type": "code",
   "execution_count": 35,
   "id": "81faf28c",
   "metadata": {
    "ExecuteTime": {
     "end_time": "2023-05-31T22:09:59.968478Z",
     "start_time": "2023-05-31T22:09:59.945477Z"
    }
   },
   "outputs": [],
   "source": [
    "y_pred = base_log_reg_pipe.predict(X_test)"
   ]
  },
  {
   "cell_type": "code",
   "execution_count": 36,
   "id": "5cf7bb06",
   "metadata": {
    "ExecuteTime": {
     "end_time": "2023-05-31T22:10:02.445478Z",
     "start_time": "2023-05-31T22:10:02.431506Z"
    }
   },
   "outputs": [
    {
     "name": "stdout",
     "output_type": "stream",
     "text": [
      "              precision    recall  f1-score   support\n",
      "\n",
      "           0       0.99      1.00      0.99     10660\n",
      "           1       0.97      0.79      0.87       590\n",
      "\n",
      "    accuracy                           0.99     11250\n",
      "   macro avg       0.98      0.90      0.93     11250\n",
      "weighted avg       0.99      0.99      0.99     11250\n",
      "\n"
     ]
    }
   ],
   "source": [
    "print(classification_report(y_test, y_pred))"
   ]
  },
  {
   "cell_type": "code",
   "execution_count": 37,
   "id": "e1df3348",
   "metadata": {
    "ExecuteTime": {
     "end_time": "2023-05-31T22:10:05.122476Z",
     "start_time": "2023-05-31T22:10:04.953478Z"
    }
   },
   "outputs": [
    {
     "data": {
      "text/plain": [
       "<sklearn.metrics._plot.confusion_matrix.ConfusionMatrixDisplay at 0x22fad6b2cd0>"
      ]
     },
     "execution_count": 37,
     "metadata": {},
     "output_type": "execute_result"
    },
    {
     "data": {
      "image/png": "[encoded data removed]",
      "text/plain": [
       "<Figure size 432x288 with 2 Axes>"
      ]
     },
     "metadata": {
      "needs_background": "light"
     },
     "output_type": "display_data"
    }
   ],
   "source": [
    "plot_confusion_matrix(base_log_reg_pipe, X_test, y_test)"
   ]
  },
  {
   "cell_type": "code",
   "execution_count": 38,
   "id": "544bc19f",
   "metadata": {
    "ExecuteTime": {
     "end_time": "2023-05-31T22:10:07.770478Z",
     "start_time": "2023-05-31T22:10:07.603477Z"
    }
   },
   "outputs": [
    {
     "data": {
      "text/plain": [
       "<sklearn.metrics._plot.roc_curve.RocCurveDisplay at 0x22faa97f6a0>"
      ]
     },
     "execution_count": 38,
     "metadata": {},
     "output_type": "execute_result"
    },
    {
     "data": {
      "image/png": "[encoded data removed]",
      "text/plain": [
       "<Figure size 432x288 with 1 Axes>"
      ]
     },
     "metadata": {
      "needs_background": "light"
     },
     "output_type": "display_data"
    }
   ],
   "source": [
    "plot_roc_curve(base_log_reg_pipe, X_test, y_test)"
   ]
  },
  {
   "cell_type": "code",
   "execution_count": 39,
   "id": "2e171d3f",
   "metadata": {
    "ExecuteTime": {
     "end_time": "2023-05-31T22:10:15.708481Z",
     "start_time": "2023-05-31T22:10:15.692486Z"
    }
   },
   "outputs": [],
   "source": [
    "# DT\n",
    "base_dtc_pipe = Pipeline(steps=[\n",
    "    ('ct',CT),\n",
    "    ('base_dtc', DecisionTreeClassifier(random_state=42))\n",
    "])"
   ]
  },
  {
   "cell_type": "code",
   "execution_count": 40,
   "id": "67170b2f",
   "metadata": {
    "ExecuteTime": {
     "end_time": "2023-05-31T22:10:29.211340Z",
     "start_time": "2023-05-31T22:10:27.923341Z"
    }
   },
   "outputs": [
    {
     "data": {
      "text/plain": [
       "Pipeline(steps=[('ct',\n",
       "                 ColumnTransformer(remainder='passthrough',\n",
       "                                   transformers=[('subpipe_num',\n",
       "                                                  Pipeline(steps=[('num_impute',\n",
       "                                                                   SimpleImputer(strategy='median')),\n",
       "                                                                  ('ss',\n",
       "                                                                   StandardScaler())]),\n",
       "                                                  <sklearn.compose._column_transformer.make_column_selector object at 0x0000022FAA5DF280>),\n",
       "                                                 ('subpipe_cat',\n",
       "                                                  Pipeline(steps=[('cat_impute',\n",
       "                                                                   SimpleImputer(strategy='most_frequent')),\n",
       "                                                                  ('ohe',\n",
       "                                                                   OneHotEncoder(handle_unknown='ignore',\n",
       "                                                                                 sparse=False))]),\n",
       "                                                  <sklearn.compose._column_transformer.make_column_selector object at 0x0000022FAA5DFFA0>)])),\n",
       "                ('base_dtc', DecisionTreeClassifier(random_state=42))])"
      ]
     },
     "execution_count": 40,
     "metadata": {},
     "output_type": "execute_result"
    }
   ],
   "source": [
    "base_dtc_pipe.fit(X_train, y_train)"
   ]
  },
  {
   "cell_type": "code",
   "execution_count": 41,
   "id": "124cccc8",
   "metadata": {
    "ExecuteTime": {
     "end_time": "2023-05-31T22:10:45.782552Z",
     "start_time": "2023-05-31T22:10:35.395547Z"
    }
   },
   "outputs": [
    {
     "data": {
      "image/png": "[encoded data removed]",
      "text/plain": [
       "<Figure size 720x720 with 1 Axes>"
      ]
     },
     "metadata": {
      "needs_background": "light"
     },
     "output_type": "display_data"
    }
   ],
   "source": [
    "base_dtc = ModelWithCV(\n",
    "    base_dtc_pipe,\n",
    "    model_name='base_dtc',\n",
    "    X=X_train,\n",
    "    y=y_train)\n",
    "fix, ax = plt.subplots(figsize=(10,10))\n",
    "\n",
    "base_dtc.plot_cv(ax=ax);"
   ]
  },
  {
   "cell_type": "code",
   "execution_count": 42,
   "id": "03e42269",
   "metadata": {
    "ExecuteTime": {
     "end_time": "2023-05-31T22:10:51.988392Z",
     "start_time": "2023-05-31T22:10:51.971407Z"
    }
   },
   "outputs": [
    {
     "name": "stdout",
     "output_type": "stream",
     "text": [
      "CV Results for `base_dtc` model:\n",
      "            0.98077 ± 0.00108 accuracy\n",
      "        \n"
     ]
    }
   ],
   "source": [
    "base_dtc.print_cv_summary()"
   ]
  },
  {
   "cell_type": "code",
   "execution_count": 43,
   "id": "6cffe346",
   "metadata": {
    "ExecuteTime": {
     "end_time": "2023-05-31T22:10:55.338394Z",
     "start_time": "2023-05-31T22:10:55.308394Z"
    }
   },
   "outputs": [
    {
     "data": {
      "text/plain": [
       "0.9795555555555555"
      ]
     },
     "execution_count": 43,
     "metadata": {},
     "output_type": "execute_result"
    }
   ],
   "source": [
    "base_dtc_pipe.score(X_test, y_test)"
   ]
  },
  {
   "cell_type": "code",
   "execution_count": 44,
   "id": "2d4e8dbb",
   "metadata": {
    "ExecuteTime": {
     "end_time": "2023-05-31T22:11:09.405927Z",
     "start_time": "2023-05-31T22:11:09.372928Z"
    }
   },
   "outputs": [],
   "source": [
    "y_pred = base_dtc_pipe.predict(X_test)"
   ]
  },
  {
   "cell_type": "code",
   "execution_count": 45,
   "id": "50da9b32",
   "metadata": {
    "ExecuteTime": {
     "end_time": "2023-05-31T22:11:12.762926Z",
     "start_time": "2023-05-31T22:11:12.748956Z"
    }
   },
   "outputs": [
    {
     "name": "stdout",
     "output_type": "stream",
     "text": [
      "              precision    recall  f1-score   support\n",
      "\n",
      "           0       0.99      0.99      0.99     10660\n",
      "           1       0.80      0.82      0.81       590\n",
      "\n",
      "    accuracy                           0.98     11250\n",
      "   macro avg       0.89      0.90      0.90     11250\n",
      "weighted avg       0.98      0.98      0.98     11250\n",
      "\n"
     ]
    }
   ],
   "source": [
    "print(classification_report(y_test, y_pred))"
   ]
  },
  {
   "cell_type": "code",
   "execution_count": 46,
   "id": "dfe2d7c9",
   "metadata": {
    "ExecuteTime": {
     "end_time": "2023-05-31T22:11:16.239396Z",
     "start_time": "2023-05-31T22:11:16.069395Z"
    }
   },
   "outputs": [
    {
     "data": {
      "image/png": "[encoded data removed]",
      "text/plain": [
       "<Figure size 432x288 with 2 Axes>"
      ]
     },
     "metadata": {
      "needs_background": "light"
     },
     "output_type": "display_data"
    }
   ],
   "source": [
    "plot_confusion_matrix(base_dtc_pipe, X_test, y_test);"
   ]
  },
  {
   "cell_type": "code",
   "execution_count": 47,
   "id": "f508ab25",
   "metadata": {
    "ExecuteTime": {
     "end_time": "2023-05-31T22:11:19.763425Z",
     "start_time": "2023-05-31T22:11:19.611396Z"
    }
   },
   "outputs": [
    {
     "data": {
      "text/plain": [
       "<sklearn.metrics._plot.roc_curve.RocCurveDisplay at 0x22faa937d30>"
      ]
     },
     "execution_count": 47,
     "metadata": {},
     "output_type": "execute_result"
    },
    {
     "data": {
      "image/png": "[encoded data removed]",
      "text/plain": [
       "<Figure size 432x288 with 1 Axes>"
      ]
     },
     "metadata": {
      "needs_background": "light"
     },
     "output_type": "display_data"
    }
   ],
   "source": [
    "plot_roc_curve(base_dtc_pipe, X_test, y_test)"
   ]
  },
  {
   "cell_type": "code",
   "execution_count": 48,
   "id": "a11972bf",
   "metadata": {
    "ExecuteTime": {
     "end_time": "2023-05-31T21:52:31.879170Z",
     "start_time": "2023-05-31T21:52:31.869170Z"
    }
   },
   "outputs": [],
   "source": [
    "# IMBPIPE!!!!"
   ]
  },
  {
   "cell_type": "code",
   "execution_count": 49,
   "id": "f1d45d8f",
   "metadata": {
    "ExecuteTime": {
     "end_time": "2023-05-31T22:12:06.828225Z",
     "start_time": "2023-05-31T22:12:06.816226Z"
    }
   },
   "outputs": [],
   "source": [
    "imb_pipe = ImPipeline(steps=[\n",
    "    ('ct',CT),\n",
    "    ('sm',SMOTE(random_state=42, sampling_strategy=.25)),\n",
    "    ('dtc',DecisionTreeClassifier(random_state=42))\n",
    "])"
   ]
  },
  {
   "cell_type": "code",
   "execution_count": 50,
   "id": "5771f788",
   "metadata": {
    "ExecuteTime": {
     "end_time": "2023-05-31T22:12:12.197224Z",
     "start_time": "2023-05-31T22:12:11.052224Z"
    }
   },
   "outputs": [
    {
     "data": {
      "text/plain": [
       "Pipeline(steps=[('ct',\n",
       "                 ColumnTransformer(remainder='passthrough',\n",
       "                                   transformers=[('subpipe_num',\n",
       "                                                  Pipeline(steps=[('num_impute',\n",
       "                                                                   SimpleImputer(strategy='median')),\n",
       "                                                                  ('ss',\n",
       "                                                                   StandardScaler())]),\n",
       "                                                  <sklearn.compose._column_transformer.make_column_selector object at 0x0000022FAA5DF280>),\n",
       "                                                 ('subpipe_cat',\n",
       "                                                  Pipeline(steps=[('cat_impute',\n",
       "                                                                   SimpleImputer(strategy='most_frequent')),\n",
       "                                                                  ('ohe',\n",
       "                                                                   OneHotEncoder(handle_unknown='ignore',\n",
       "                                                                                 sparse=False))]),\n",
       "                                                  <sklearn.compose._column_transformer.make_column_selector object at 0x0000022FAA5DFFA0>)])),\n",
       "                ('sm', SMOTE(random_state=42, sampling_strategy=0.25)),\n",
       "                ('dtc', DecisionTreeClassifier(random_state=42))])"
      ]
     },
     "execution_count": 50,
     "metadata": {},
     "output_type": "execute_result"
    }
   ],
   "source": [
    "imb_pipe.fit(X_train, y_train)"
   ]
  },
  {
   "cell_type": "code",
   "execution_count": 51,
   "id": "6c5590bf",
   "metadata": {
    "ExecuteTime": {
     "end_time": "2023-05-31T22:12:27.060386Z",
     "start_time": "2023-05-31T22:12:17.144417Z"
    }
   },
   "outputs": [
    {
     "data": {
      "image/png": "[encoded data removed]",
      "text/plain": [
       "<Figure size 720x720 with 1 Axes>"
      ]
     },
     "metadata": {
      "needs_background": "light"
     },
     "output_type": "display_data"
    }
   ],
   "source": [
    "base_imb = ModelWithCV(\n",
    "    imb_pipe,\n",
    "    model_name='base_imb',\n",
    "    X=X_train,\n",
    "    y=y_train)\n",
    "fix, ax = plt.subplots(figsize=(10,10))\n",
    "\n",
    "base_imb.plot_cv(ax=ax);"
   ]
  },
  {
   "cell_type": "code",
   "execution_count": 52,
   "id": "fec53a56",
   "metadata": {
    "ExecuteTime": {
     "end_time": "2023-05-31T22:12:31.367386Z",
     "start_time": "2023-05-31T22:12:31.353388Z"
    }
   },
   "outputs": [
    {
     "name": "stdout",
     "output_type": "stream",
     "text": [
      "CV Results for `base_imb` model:\n",
      "            0.97431 ± 0.00169 accuracy\n",
      "        \n"
     ]
    }
   ],
   "source": [
    "base_imb.print_cv_summary()"
   ]
  },
  {
   "cell_type": "code",
   "execution_count": 53,
   "id": "a4353032",
   "metadata": {
    "ExecuteTime": {
     "end_time": "2023-05-31T22:12:35.482386Z",
     "start_time": "2023-05-31T22:12:35.453389Z"
    }
   },
   "outputs": [
    {
     "data": {
      "text/plain": [
       "0.9721777777777778"
      ]
     },
     "execution_count": 53,
     "metadata": {},
     "output_type": "execute_result"
    }
   ],
   "source": [
    "imb_pipe.score(X_test, y_test)"
   ]
  },
  {
   "cell_type": "code",
   "execution_count": 54,
   "id": "7f93ffb1",
   "metadata": {
    "ExecuteTime": {
     "end_time": "2023-05-31T22:28:44.259400Z",
     "start_time": "2023-05-31T22:28:44.242400Z"
    }
   },
   "outputs": [],
   "source": [
    "parameters = {'dtc__criterion': ['gini', 'entropy'],\n",
    "          'dtc__min_samples_leaf': [10, 15, 20],\n",
    "          'sm__k_neighbors': [9, 11, 13]}\n",
    "\n",
    "gs = GridSearchCV(estimator=imb_pipe,\n",
    "                 param_grid=parameters,\n",
    "                 cv=5,\n",
    "                 verbose=2)"
   ]
  },
  {
   "cell_type": "code",
   "execution_count": 55,
   "id": "a4fbba51",
   "metadata": {
    "ExecuteTime": {
     "end_time": "2023-05-31T22:30:19.815399Z",
     "start_time": "2023-05-31T22:28:53.775399Z"
    },
    "scrolled": true
   },
   "outputs": [
    {
     "name": "stdout",
     "output_type": "stream",
     "text": [
      "Fitting 5 folds for each of 18 candidates, totalling 90 fits\n",
      "[CV] dtc__criterion=gini, dtc__min_samples_leaf=10, sm__k_neighbors=9 \n"
     ]
    },
    {
     "name": "stderr",
     "output_type": "stream",
     "text": [
      "[Parallel(n_jobs=1)]: Using backend SequentialBackend with 1 concurrent workers.\n"
     ]
    },
    {
     "name": "stdout",
     "output_type": "stream",
     "text": [
      "[CV]  dtc__criterion=gini, dtc__min_samples_leaf=10, sm__k_neighbors=9, total=   0.5s\n",
      "[CV] dtc__criterion=gini, dtc__min_samples_leaf=10, sm__k_neighbors=9 \n"
     ]
    },
    {
     "name": "stderr",
     "output_type": "stream",
     "text": [
      "[Parallel(n_jobs=1)]: Done   1 out of   1 | elapsed:    0.4s remaining:    0.0s\n"
     ]
    },
    {
     "name": "stdout",
     "output_type": "stream",
     "text": [
      "[CV]  dtc__criterion=gini, dtc__min_samples_leaf=10, sm__k_neighbors=9, total=   0.5s\n",
      "[CV] dtc__criterion=gini, dtc__min_samples_leaf=10, sm__k_neighbors=9 \n",
      "[CV]  dtc__criterion=gini, dtc__min_samples_leaf=10, sm__k_neighbors=9, total=   0.5s\n",
      "[CV] dtc__criterion=gini, dtc__min_samples_leaf=10, sm__k_neighbors=9 \n",
      "[CV]  dtc__criterion=gini, dtc__min_samples_leaf=10, sm__k_neighbors=9, total=   0.5s\n",
      "[CV] dtc__criterion=gini, dtc__min_samples_leaf=10, sm__k_neighbors=9 \n",
      "[CV]  dtc__criterion=gini, dtc__min_samples_leaf=10, sm__k_neighbors=9, total=   0.5s\n",
      "[CV] dtc__criterion=gini, dtc__min_samples_leaf=10, sm__k_neighbors=11 \n",
      "[CV]  dtc__criterion=gini, dtc__min_samples_leaf=10, sm__k_neighbors=11, total=   0.5s\n",
      "[CV] dtc__criterion=gini, dtc__min_samples_leaf=10, sm__k_neighbors=11 \n",
      "[CV]  dtc__criterion=gini, dtc__min_samples_leaf=10, sm__k_neighbors=11, total=   0.5s\n",
      "[CV] dtc__criterion=gini, dtc__min_samples_leaf=10, sm__k_neighbors=11 \n",
      "[CV]  dtc__criterion=gini, dtc__min_samples_leaf=10, sm__k_neighbors=11, total=   0.5s\n",
      "[CV] dtc__criterion=gini, dtc__min_samples_leaf=10, sm__k_neighbors=11 \n",
      "[CV]  dtc__criterion=gini, dtc__min_samples_leaf=10, sm__k_neighbors=11, total=   0.5s\n",
      "[CV] dtc__criterion=gini, dtc__min_samples_leaf=10, sm__k_neighbors=11 \n",
      "[CV]  dtc__criterion=gini, dtc__min_samples_leaf=10, sm__k_neighbors=11, total=   0.5s\n",
      "[CV] dtc__criterion=gini, dtc__min_samples_leaf=10, sm__k_neighbors=13 \n",
      "[CV]  dtc__criterion=gini, dtc__min_samples_leaf=10, sm__k_neighbors=13, total=   0.5s\n",
      "[CV] dtc__criterion=gini, dtc__min_samples_leaf=10, sm__k_neighbors=13 \n",
      "[CV]  dtc__criterion=gini, dtc__min_samples_leaf=10, sm__k_neighbors=13, total=   0.5s\n",
      "[CV] dtc__criterion=gini, dtc__min_samples_leaf=10, sm__k_neighbors=13 \n",
      "[CV]  dtc__criterion=gini, dtc__min_samples_leaf=10, sm__k_neighbors=13, total=   0.5s\n",
      "[CV] dtc__criterion=gini, dtc__min_samples_leaf=10, sm__k_neighbors=13 \n",
      "[CV]  dtc__criterion=gini, dtc__min_samples_leaf=10, sm__k_neighbors=13, total=   0.5s\n",
      "[CV] dtc__criterion=gini, dtc__min_samples_leaf=10, sm__k_neighbors=13 \n",
      "[CV]  dtc__criterion=gini, dtc__min_samples_leaf=10, sm__k_neighbors=13, total=   0.5s\n",
      "[CV] dtc__criterion=gini, dtc__min_samples_leaf=15, sm__k_neighbors=9 \n",
      "[CV]  dtc__criterion=gini, dtc__min_samples_leaf=15, sm__k_neighbors=9, total=   0.5s\n",
      "[CV] dtc__criterion=gini, dtc__min_samples_leaf=15, sm__k_neighbors=9 \n",
      "[CV]  dtc__criterion=gini, dtc__min_samples_leaf=15, sm__k_neighbors=9, total=   0.5s\n",
      "[CV] dtc__criterion=gini, dtc__min_samples_leaf=15, sm__k_neighbors=9 \n",
      "[CV]  dtc__criterion=gini, dtc__min_samples_leaf=15, sm__k_neighbors=9, total=   0.5s\n",
      "[CV] dtc__criterion=gini, dtc__min_samples_leaf=15, sm__k_neighbors=9 \n",
      "[CV]  dtc__criterion=gini, dtc__min_samples_leaf=15, sm__k_neighbors=9, total=   0.5s\n",
      "[CV] dtc__criterion=gini, dtc__min_samples_leaf=15, sm__k_neighbors=9 \n",
      "[CV]  dtc__criterion=gini, dtc__min_samples_leaf=15, sm__k_neighbors=9, total=   0.5s\n",
      "[CV] dtc__criterion=gini, dtc__min_samples_leaf=15, sm__k_neighbors=11 \n",
      "[CV]  dtc__criterion=gini, dtc__min_samples_leaf=15, sm__k_neighbors=11, total=   0.5s\n",
      "[CV] dtc__criterion=gini, dtc__min_samples_leaf=15, sm__k_neighbors=11 \n",
      "[CV]  dtc__criterion=gini, dtc__min_samples_leaf=15, sm__k_neighbors=11, total=   0.5s\n",
      "[CV] dtc__criterion=gini, dtc__min_samples_leaf=15, sm__k_neighbors=11 \n",
      "[CV]  dtc__criterion=gini, dtc__min_samples_leaf=15, sm__k_neighbors=11, total=   0.5s\n",
      "[CV] dtc__criterion=gini, dtc__min_samples_leaf=15, sm__k_neighbors=11 \n",
      "[CV]  dtc__criterion=gini, dtc__min_samples_leaf=15, sm__k_neighbors=11, total=   0.5s\n",
      "[CV] dtc__criterion=gini, dtc__min_samples_leaf=15, sm__k_neighbors=11 \n",
      "[CV]  dtc__criterion=gini, dtc__min_samples_leaf=15, sm__k_neighbors=11, total=   0.5s\n",
      "[CV] dtc__criterion=gini, dtc__min_samples_leaf=15, sm__k_neighbors=13 \n",
      "[CV]  dtc__criterion=gini, dtc__min_samples_leaf=15, sm__k_neighbors=13, total=   0.5s\n",
      "[CV] dtc__criterion=gini, dtc__min_samples_leaf=15, sm__k_neighbors=13 \n",
      "[CV]  dtc__criterion=gini, dtc__min_samples_leaf=15, sm__k_neighbors=13, total=   0.5s\n",
      "[CV] dtc__criterion=gini, dtc__min_samples_leaf=15, sm__k_neighbors=13 \n",
      "[CV]  dtc__criterion=gini, dtc__min_samples_leaf=15, sm__k_neighbors=13, total=   0.5s\n",
      "[CV] dtc__criterion=gini, dtc__min_samples_leaf=15, sm__k_neighbors=13 \n",
      "[CV]  dtc__criterion=gini, dtc__min_samples_leaf=15, sm__k_neighbors=13, total=   0.5s\n",
      "[CV] dtc__criterion=gini, dtc__min_samples_leaf=15, sm__k_neighbors=13 \n",
      "[CV]  dtc__criterion=gini, dtc__min_samples_leaf=15, sm__k_neighbors=13, total=   0.5s\n",
      "[CV] dtc__criterion=gini, dtc__min_samples_leaf=20, sm__k_neighbors=9 \n",
      "[CV]  dtc__criterion=gini, dtc__min_samples_leaf=20, sm__k_neighbors=9, total=   0.5s\n",
      "[CV] dtc__criterion=gini, dtc__min_samples_leaf=20, sm__k_neighbors=9 \n",
      "[CV]  dtc__criterion=gini, dtc__min_samples_leaf=20, sm__k_neighbors=9, total=   0.5s\n",
      "[CV] dtc__criterion=gini, dtc__min_samples_leaf=20, sm__k_neighbors=9 \n",
      "[CV]  dtc__criterion=gini, dtc__min_samples_leaf=20, sm__k_neighbors=9, total=   0.5s\n",
      "[CV] dtc__criterion=gini, dtc__min_samples_leaf=20, sm__k_neighbors=9 \n",
      "[CV]  dtc__criterion=gini, dtc__min_samples_leaf=20, sm__k_neighbors=9, total=   0.5s\n",
      "[CV] dtc__criterion=gini, dtc__min_samples_leaf=20, sm__k_neighbors=9 \n",
      "[CV]  dtc__criterion=gini, dtc__min_samples_leaf=20, sm__k_neighbors=9, total=   0.5s\n",
      "[CV] dtc__criterion=gini, dtc__min_samples_leaf=20, sm__k_neighbors=11 \n",
      "[CV]  dtc__criterion=gini, dtc__min_samples_leaf=20, sm__k_neighbors=11, total=   0.5s\n",
      "[CV] dtc__criterion=gini, dtc__min_samples_leaf=20, sm__k_neighbors=11 \n",
      "[CV]  dtc__criterion=gini, dtc__min_samples_leaf=20, sm__k_neighbors=11, total=   0.5s\n",
      "[CV] dtc__criterion=gini, dtc__min_samples_leaf=20, sm__k_neighbors=11 \n",
      "[CV]  dtc__criterion=gini, dtc__min_samples_leaf=20, sm__k_neighbors=11, total=   0.5s\n",
      "[CV] dtc__criterion=gini, dtc__min_samples_leaf=20, sm__k_neighbors=11 \n",
      "[CV]  dtc__criterion=gini, dtc__min_samples_leaf=20, sm__k_neighbors=11, total=   0.5s\n",
      "[CV] dtc__criterion=gini, dtc__min_samples_leaf=20, sm__k_neighbors=11 \n",
      "[CV]  dtc__criterion=gini, dtc__min_samples_leaf=20, sm__k_neighbors=11, total=   0.5s\n",
      "[CV] dtc__criterion=gini, dtc__min_samples_leaf=20, sm__k_neighbors=13 \n",
      "[CV]  dtc__criterion=gini, dtc__min_samples_leaf=20, sm__k_neighbors=13, total=   0.5s\n",
      "[CV] dtc__criterion=gini, dtc__min_samples_leaf=20, sm__k_neighbors=13 \n",
      "[CV]  dtc__criterion=gini, dtc__min_samples_leaf=20, sm__k_neighbors=13, total=   0.5s\n",
      "[CV] dtc__criterion=gini, dtc__min_samples_leaf=20, sm__k_neighbors=13 \n",
      "[CV]  dtc__criterion=gini, dtc__min_samples_leaf=20, sm__k_neighbors=13, total=   0.5s\n",
      "[CV] dtc__criterion=gini, dtc__min_samples_leaf=20, sm__k_neighbors=13 \n",
      "[CV]  dtc__criterion=gini, dtc__min_samples_leaf=20, sm__k_neighbors=13, total=   0.5s\n",
      "[CV] dtc__criterion=gini, dtc__min_samples_leaf=20, sm__k_neighbors=13 \n",
      "[CV]  dtc__criterion=gini, dtc__min_samples_leaf=20, sm__k_neighbors=13, total=   0.5s\n",
      "[CV] dtc__criterion=entropy, dtc__min_samples_leaf=10, sm__k_neighbors=9 \n",
      "[CV]  dtc__criterion=entropy, dtc__min_samples_leaf=10, sm__k_neighbors=9, total=   0.5s\n",
      "[CV] dtc__criterion=entropy, dtc__min_samples_leaf=10, sm__k_neighbors=9 \n",
      "[CV]  dtc__criterion=entropy, dtc__min_samples_leaf=10, sm__k_neighbors=9, total=   0.6s\n",
      "[CV] dtc__criterion=entropy, dtc__min_samples_leaf=10, sm__k_neighbors=9 \n",
      "[CV]  dtc__criterion=entropy, dtc__min_samples_leaf=10, sm__k_neighbors=9, total=   0.5s\n",
      "[CV] dtc__criterion=entropy, dtc__min_samples_leaf=10, sm__k_neighbors=9 \n",
      "[CV]  dtc__criterion=entropy, dtc__min_samples_leaf=10, sm__k_neighbors=9, total=   0.5s\n",
      "[CV] dtc__criterion=entropy, dtc__min_samples_leaf=10, sm__k_neighbors=9 \n",
      "[CV]  dtc__criterion=entropy, dtc__min_samples_leaf=10, sm__k_neighbors=9, total=   0.5s\n",
      "[CV] dtc__criterion=entropy, dtc__min_samples_leaf=10, sm__k_neighbors=11 \n",
      "[CV]  dtc__criterion=entropy, dtc__min_samples_leaf=10, sm__k_neighbors=11, total=   0.6s\n",
      "[CV] dtc__criterion=entropy, dtc__min_samples_leaf=10, sm__k_neighbors=11 \n",
      "[CV]  dtc__criterion=entropy, dtc__min_samples_leaf=10, sm__k_neighbors=11, total=   0.6s\n",
      "[CV] dtc__criterion=entropy, dtc__min_samples_leaf=10, sm__k_neighbors=11 \n",
      "[CV]  dtc__criterion=entropy, dtc__min_samples_leaf=10, sm__k_neighbors=11, total=   0.5s\n",
      "[CV] dtc__criterion=entropy, dtc__min_samples_leaf=10, sm__k_neighbors=11 \n",
      "[CV]  dtc__criterion=entropy, dtc__min_samples_leaf=10, sm__k_neighbors=11, total=   0.6s\n",
      "[CV] dtc__criterion=entropy, dtc__min_samples_leaf=10, sm__k_neighbors=11 \n",
      "[CV]  dtc__criterion=entropy, dtc__min_samples_leaf=10, sm__k_neighbors=11, total=   0.5s\n",
      "[CV] dtc__criterion=entropy, dtc__min_samples_leaf=10, sm__k_neighbors=13 \n",
      "[CV]  dtc__criterion=entropy, dtc__min_samples_leaf=10, sm__k_neighbors=13, total=   0.5s\n",
      "[CV] dtc__criterion=entropy, dtc__min_samples_leaf=10, sm__k_neighbors=13 \n",
      "[CV]  dtc__criterion=entropy, dtc__min_samples_leaf=10, sm__k_neighbors=13, total=   0.5s\n",
      "[CV] dtc__criterion=entropy, dtc__min_samples_leaf=10, sm__k_neighbors=13 \n",
      "[CV]  dtc__criterion=entropy, dtc__min_samples_leaf=10, sm__k_neighbors=13, total=   0.5s\n",
      "[CV] dtc__criterion=entropy, dtc__min_samples_leaf=10, sm__k_neighbors=13 \n",
      "[CV]  dtc__criterion=entropy, dtc__min_samples_leaf=10, sm__k_neighbors=13, total=   0.5s\n",
      "[CV] dtc__criterion=entropy, dtc__min_samples_leaf=10, sm__k_neighbors=13 \n",
      "[CV]  dtc__criterion=entropy, dtc__min_samples_leaf=10, sm__k_neighbors=13, total=   0.5s\n",
      "[CV] dtc__criterion=entropy, dtc__min_samples_leaf=15, sm__k_neighbors=9 \n",
      "[CV]  dtc__criterion=entropy, dtc__min_samples_leaf=15, sm__k_neighbors=9, total=   0.5s\n",
      "[CV] dtc__criterion=entropy, dtc__min_samples_leaf=15, sm__k_neighbors=9 \n",
      "[CV]  dtc__criterion=entropy, dtc__min_samples_leaf=15, sm__k_neighbors=9, total=   0.5s\n",
      "[CV] dtc__criterion=entropy, dtc__min_samples_leaf=15, sm__k_neighbors=9 \n",
      "[CV]  dtc__criterion=entropy, dtc__min_samples_leaf=15, sm__k_neighbors=9, total=   0.5s\n",
      "[CV] dtc__criterion=entropy, dtc__min_samples_leaf=15, sm__k_neighbors=9 \n",
      "[CV]  dtc__criterion=entropy, dtc__min_samples_leaf=15, sm__k_neighbors=9, total=   0.5s\n",
      "[CV] dtc__criterion=entropy, dtc__min_samples_leaf=15, sm__k_neighbors=9 \n",
      "[CV]  dtc__criterion=entropy, dtc__min_samples_leaf=15, sm__k_neighbors=9, total=   0.5s\n",
      "[CV] dtc__criterion=entropy, dtc__min_samples_leaf=15, sm__k_neighbors=11 \n",
      "[CV]  dtc__criterion=entropy, dtc__min_samples_leaf=15, sm__k_neighbors=11, total=   0.5s\n",
      "[CV] dtc__criterion=entropy, dtc__min_samples_leaf=15, sm__k_neighbors=11 \n",
      "[CV]  dtc__criterion=entropy, dtc__min_samples_leaf=15, sm__k_neighbors=11, total=   0.5s\n",
      "[CV] dtc__criterion=entropy, dtc__min_samples_leaf=15, sm__k_neighbors=11 \n",
      "[CV]  dtc__criterion=entropy, dtc__min_samples_leaf=15, sm__k_neighbors=11, total=   0.5s\n",
      "[CV] dtc__criterion=entropy, dtc__min_samples_leaf=15, sm__k_neighbors=11 \n",
      "[CV]  dtc__criterion=entropy, dtc__min_samples_leaf=15, sm__k_neighbors=11, total=   0.6s\n",
      "[CV] dtc__criterion=entropy, dtc__min_samples_leaf=15, sm__k_neighbors=11 \n",
      "[CV]  dtc__criterion=entropy, dtc__min_samples_leaf=15, sm__k_neighbors=11, total=   0.5s\n",
      "[CV] dtc__criterion=entropy, dtc__min_samples_leaf=15, sm__k_neighbors=13 \n",
      "[CV]  dtc__criterion=entropy, dtc__min_samples_leaf=15, sm__k_neighbors=13, total=   0.5s\n",
      "[CV] dtc__criterion=entropy, dtc__min_samples_leaf=15, sm__k_neighbors=13 \n",
      "[CV]  dtc__criterion=entropy, dtc__min_samples_leaf=15, sm__k_neighbors=13, total=   0.5s\n",
      "[CV] dtc__criterion=entropy, dtc__min_samples_leaf=15, sm__k_neighbors=13 \n",
      "[CV]  dtc__criterion=entropy, dtc__min_samples_leaf=15, sm__k_neighbors=13, total=   0.5s\n",
      "[CV] dtc__criterion=entropy, dtc__min_samples_leaf=15, sm__k_neighbors=13 \n",
      "[CV]  dtc__criterion=entropy, dtc__min_samples_leaf=15, sm__k_neighbors=13, total=   0.6s\n",
      "[CV] dtc__criterion=entropy, dtc__min_samples_leaf=15, sm__k_neighbors=13 \n",
      "[CV]  dtc__criterion=entropy, dtc__min_samples_leaf=15, sm__k_neighbors=13, total=   0.5s\n",
      "[CV] dtc__criterion=entropy, dtc__min_samples_leaf=20, sm__k_neighbors=9 \n",
      "[CV]  dtc__criterion=entropy, dtc__min_samples_leaf=20, sm__k_neighbors=9, total=   0.5s\n",
      "[CV] dtc__criterion=entropy, dtc__min_samples_leaf=20, sm__k_neighbors=9 \n",
      "[CV]  dtc__criterion=entropy, dtc__min_samples_leaf=20, sm__k_neighbors=9, total=   0.5s\n",
      "[CV] dtc__criterion=entropy, dtc__min_samples_leaf=20, sm__k_neighbors=9 \n",
      "[CV]  dtc__criterion=entropy, dtc__min_samples_leaf=20, sm__k_neighbors=9, total=   0.5s\n",
      "[CV] dtc__criterion=entropy, dtc__min_samples_leaf=20, sm__k_neighbors=9 \n",
      "[CV]  dtc__criterion=entropy, dtc__min_samples_leaf=20, sm__k_neighbors=9, total=   0.5s\n",
      "[CV] dtc__criterion=entropy, dtc__min_samples_leaf=20, sm__k_neighbors=9 \n",
      "[CV]  dtc__criterion=entropy, dtc__min_samples_leaf=20, sm__k_neighbors=9, total=   0.5s\n",
      "[CV] dtc__criterion=entropy, dtc__min_samples_leaf=20, sm__k_neighbors=11 \n",
      "[CV]  dtc__criterion=entropy, dtc__min_samples_leaf=20, sm__k_neighbors=11, total=   0.5s\n",
      "[CV] dtc__criterion=entropy, dtc__min_samples_leaf=20, sm__k_neighbors=11 \n",
      "[CV]  dtc__criterion=entropy, dtc__min_samples_leaf=20, sm__k_neighbors=11, total=   0.5s\n",
      "[CV] dtc__criterion=entropy, dtc__min_samples_leaf=20, sm__k_neighbors=11 \n",
      "[CV]  dtc__criterion=entropy, dtc__min_samples_leaf=20, sm__k_neighbors=11, total=   0.5s\n",
      "[CV] dtc__criterion=entropy, dtc__min_samples_leaf=20, sm__k_neighbors=11 \n",
      "[CV]  dtc__criterion=entropy, dtc__min_samples_leaf=20, sm__k_neighbors=11, total=   0.6s\n",
      "[CV] dtc__criterion=entropy, dtc__min_samples_leaf=20, sm__k_neighbors=11 \n",
      "[CV]  dtc__criterion=entropy, dtc__min_samples_leaf=20, sm__k_neighbors=11, total=   0.5s\n",
      "[CV] dtc__criterion=entropy, dtc__min_samples_leaf=20, sm__k_neighbors=13 \n",
      "[CV]  dtc__criterion=entropy, dtc__min_samples_leaf=20, sm__k_neighbors=13, total=   0.5s\n",
      "[CV] dtc__criterion=entropy, dtc__min_samples_leaf=20, sm__k_neighbors=13 \n",
      "[CV]  dtc__criterion=entropy, dtc__min_samples_leaf=20, sm__k_neighbors=13, total=   0.5s\n",
      "[CV] dtc__criterion=entropy, dtc__min_samples_leaf=20, sm__k_neighbors=13 \n",
      "[CV]  dtc__criterion=entropy, dtc__min_samples_leaf=20, sm__k_neighbors=13, total=   0.5s\n",
      "[CV] dtc__criterion=entropy, dtc__min_samples_leaf=20, sm__k_neighbors=13 \n",
      "[CV]  dtc__criterion=entropy, dtc__min_samples_leaf=20, sm__k_neighbors=13, total=   0.5s\n",
      "[CV] dtc__criterion=entropy, dtc__min_samples_leaf=20, sm__k_neighbors=13 \n",
      "[CV]  dtc__criterion=entropy, dtc__min_samples_leaf=20, sm__k_neighbors=13, total=   0.6s\n"
     ]
    },
    {
     "name": "stderr",
     "output_type": "stream",
     "text": [
      "[Parallel(n_jobs=1)]: Done  90 out of  90 | elapsed:   45.5s finished\n"
     ]
    },
    {
     "data": {
      "text/plain": [
       "GridSearchCV(cv=5,\n",
       "             estimator=Pipeline(steps=[('ct',\n",
       "                                        ColumnTransformer(remainder='passthrough',\n",
       "                                                          transformers=[('subpipe_num',\n",
       "                                                                         Pipeline(steps=[('num_impute',\n",
       "                                                                                          SimpleImputer(strategy='median')),\n",
       "                                                                                         ('ss',\n",
       "                                                                                          StandardScaler())]),\n",
       "                                                                         <sklearn.compose._column_transformer.make_column_selector object at 0x0000022FAA5DF280>),\n",
       "                                                                        ('subpipe_cat',\n",
       "                                                                         Pipeline(steps=[('cat_impute',\n",
       "                                                                                          SimpleIm...\n",
       "                                                                                          OneHotEncoder(handle_unknown='ignore',\n",
       "                                                                                                        sparse=False))]),\n",
       "                                                                         <sklearn.compose._column_transformer.make_column_selector object at 0x0000022FAA5DFFA0>)])),\n",
       "                                       ('sm',\n",
       "                                        SMOTE(random_state=42,\n",
       "                                              sampling_strategy=0.25)),\n",
       "                                       ('dtc',\n",
       "                                        DecisionTreeClassifier(random_state=42))]),\n",
       "             param_grid={'dtc__criterion': ['gini', 'entropy'],\n",
       "                         'dtc__min_samples_leaf': [10, 15, 20],\n",
       "                         'sm__k_neighbors': [9, 11, 13]},\n",
       "             verbose=2)"
      ]
     },
     "execution_count": 55,
     "metadata": {},
     "output_type": "execute_result"
    }
   ],
   "source": [
    "gs.fit(X_train, y_train)"
   ]
  },
  {
   "cell_type": "code",
   "execution_count": 56,
   "id": "c2c1661a",
   "metadata": {
    "ExecuteTime": {
     "end_time": "2023-05-31T22:30:33.290400Z",
     "start_time": "2023-05-31T22:30:33.282402Z"
    }
   },
   "outputs": [
    {
     "data": {
      "text/plain": [
       "{'dtc__criterion': 'gini', 'dtc__min_samples_leaf': 20, 'sm__k_neighbors': 9}"
      ]
     },
     "execution_count": 56,
     "metadata": {},
     "output_type": "execute_result"
    }
   ],
   "source": [
    "gs.best_params_"
   ]
  },
  {
   "cell_type": "code",
   "execution_count": 57,
   "id": "ec95fb90",
   "metadata": {
    "ExecuteTime": {
     "end_time": "2023-05-31T22:14:35.943419Z",
     "start_time": "2023-05-31T22:14:35.931420Z"
    }
   },
   "outputs": [
    {
     "data": {
      "text/plain": [
       "{'dtc__criterion': 'gini', 'dtc__min_samples_leaf': 20, 'sm__k_neighbors': 9}"
      ]
     },
     "execution_count": 57,
     "metadata": {},
     "output_type": "execute_result"
    }
   ],
   "source": [
    "gs.best_params_"
   ]
  },
  {
   "cell_type": "code",
   "execution_count": 58,
   "id": "86b42556",
   "metadata": {
    "ExecuteTime": {
     "end_time": "2023-05-31T22:30:43.756423Z",
     "start_time": "2023-05-31T22:30:43.745401Z"
    }
   },
   "outputs": [
    {
     "data": {
      "text/plain": [
       "0.9839111111111111"
      ]
     },
     "execution_count": 58,
     "metadata": {},
     "output_type": "execute_result"
    }
   ],
   "source": [
    "gs.best_score_"
   ]
  },
  {
   "cell_type": "code",
   "execution_count": 59,
   "id": "18a1f4c1",
   "metadata": {
    "ExecuteTime": {
     "end_time": "2023-05-31T22:30:52.746429Z",
     "start_time": "2023-05-31T22:30:52.717401Z"
    }
   },
   "outputs": [
    {
     "data": {
      "text/plain": [
       "0.9839111111111111"
      ]
     },
     "execution_count": 59,
     "metadata": {},
     "output_type": "execute_result"
    }
   ],
   "source": [
    "gs.best_estimator_.score(X_test, y_test)"
   ]
  },
  {
   "cell_type": "code",
   "execution_count": 60,
   "id": "8379b46b",
   "metadata": {
    "ExecuteTime": {
     "end_time": "2023-05-31T22:15:14.544373Z",
     "start_time": "2023-05-31T22:15:14.531374Z"
    }
   },
   "outputs": [],
   "source": [
    "final_model = gs.best_estimator_"
   ]
  },
  {
   "cell_type": "code",
   "execution_count": 61,
   "id": "2690583d",
   "metadata": {
    "ExecuteTime": {
     "end_time": "2023-05-31T22:15:23.781229Z",
     "start_time": "2023-05-31T22:15:23.674202Z"
    }
   },
   "outputs": [
    {
     "data": {
      "text/plain": [
       "Pipeline(steps=[('ct',\n",
       "                 ColumnTransformer(remainder='passthrough',\n",
       "                                   transformers=[('subpipe_num',\n",
       "                                                  Pipeline(steps=[('num_impute',\n",
       "                                                                   SimpleImputer(strategy='median')),\n",
       "                                                                  ('ss',\n",
       "                                                                   StandardScaler())]),\n",
       "                                                  <sklearn.compose._column_transformer.make_column_selector object at 0x0000022FADA01790>),\n",
       "                                                 ('subpipe_cat',\n",
       "                                                  Pipeline(steps=[('cat_impute',\n",
       "                                                                   SimpleImputer(strategy='most_frequent')),\n",
       "                                                                  ('ohe',\n",
       "                                                                   OneHotEncoder(handle_unknown='ignore',\n",
       "                                                                                 sparse=False))]),\n",
       "                                                  <sklearn.compose._column_transformer.make_column_selector object at 0x0000022FADA01B50>)])),\n",
       "                ('sm',\n",
       "                 SMOTE(k_neighbors=9, random_state=42, sampling_strategy=0.25)),\n",
       "                ('dtc',\n",
       "                 DecisionTreeClassifier(min_samples_leaf=20, random_state=42))])"
      ]
     },
     "execution_count": 61,
     "metadata": {},
     "output_type": "execute_result"
    }
   ],
   "source": [
    "final_model"
   ]
  },
  {
   "cell_type": "code",
   "execution_count": 62,
   "id": "d8c65ddd",
   "metadata": {
    "ExecuteTime": {
     "end_time": "2023-05-31T22:16:41.069067Z",
     "start_time": "2023-05-31T22:16:39.292070Z"
    }
   },
   "outputs": [
    {
     "data": {
      "text/plain": [
       "Pipeline(steps=[('ct',\n",
       "                 ColumnTransformer(remainder='passthrough',\n",
       "                                   transformers=[('subpipe_num',\n",
       "                                                  Pipeline(steps=[('num_impute',\n",
       "                                                                   SimpleImputer(strategy='median')),\n",
       "                                                                  ('ss',\n",
       "                                                                   StandardScaler())]),\n",
       "                                                  <sklearn.compose._column_transformer.make_column_selector object at 0x0000022FADA01790>),\n",
       "                                                 ('subpipe_cat',\n",
       "                                                  Pipeline(steps=[('cat_impute',\n",
       "                                                                   SimpleImputer(strategy='most_frequent')),\n",
       "                                                                  ('ohe',\n",
       "                                                                   OneHotEncoder(handle_unknown='ignore',\n",
       "                                                                                 sparse=False))]),\n",
       "                                                  <sklearn.compose._column_transformer.make_column_selector object at 0x0000022FADA01B50>)])),\n",
       "                ('sm',\n",
       "                 SMOTE(k_neighbors=9, random_state=42, sampling_strategy=0.25)),\n",
       "                ('dtc',\n",
       "                 DecisionTreeClassifier(min_samples_leaf=20, random_state=42))])"
      ]
     },
     "execution_count": 62,
     "metadata": {},
     "output_type": "execute_result"
    }
   ],
   "source": [
    "# Train with our combined train/test\n",
    "\n",
    "final_model.fit(X_train_both, y_train_both)"
   ]
  },
  {
   "cell_type": "code",
   "execution_count": 63,
   "id": "4c7dc7c4",
   "metadata": {
    "ExecuteTime": {
     "end_time": "2023-05-31T22:17:14.582659Z",
     "start_time": "2023-05-31T22:16:59.786659Z"
    },
    "collapsed": true
   },
   "outputs": [
    {
     "data": {
      "image/png": "[encoded data removed]",
      "text/plain": [
       "<Figure size 720x720 with 1 Axes>"
      ]
     },
     "metadata": {
      "needs_background": "light"
     },
     "output_type": "display_data"
    }
   ],
   "source": [
    "final_model_check = ModelWithCV(\n",
    "    final_model,\n",
    "    model_name='final_model',\n",
    "    X=X_train_both,\n",
    "    y=y_train_both)\n",
    "fig, ax = plt.subplots(figsize=(10,10))\n",
    "\n",
    "final_model_check.plot_cv(ax=ax);"
   ]
  },
  {
   "cell_type": "code",
   "execution_count": 64,
   "id": "77706ab3",
   "metadata": {
    "ExecuteTime": {
     "end_time": "2023-05-31T22:17:24.456659Z",
     "start_time": "2023-05-31T22:17:24.443659Z"
    }
   },
   "outputs": [
    {
     "name": "stdout",
     "output_type": "stream",
     "text": [
      "CV Results for `final_model` model:\n",
      "            0.98407 ± 0.00226 accuracy\n",
      "        \n"
     ]
    }
   ],
   "source": [
    "final_model_check.print_cv_summary()"
   ]
  },
  {
   "cell_type": "code",
   "execution_count": 65,
   "id": "b4c450b7",
   "metadata": {
    "ExecuteTime": {
     "end_time": "2023-05-31T22:17:34.402659Z",
     "start_time": "2023-05-31T22:17:34.376660Z"
    }
   },
   "outputs": [
    {
     "data": {
      "text/plain": [
       "0.988"
      ]
     },
     "execution_count": 65,
     "metadata": {},
     "output_type": "execute_result"
    }
   ],
   "source": [
    "# Score against validation/hold out\n",
    "\n",
    "final_model.score(X_val, y_val)"
   ]
  },
  {
   "cell_type": "code",
   "execution_count": null,
   "id": "2947342c",
   "metadata": {},
   "outputs": [],
   "source": []
  },
  {
   "cell_type": "code",
   "execution_count": 66,
   "id": "e93f910e",
   "metadata": {
    "ExecuteTime": {
     "end_time": "2023-05-31T22:18:23.173702Z",
     "start_time": "2023-05-31T22:18:21.331960Z"
    }
   },
   "outputs": [
    {
     "data": {
      "text/plain": [
       "Pipeline(steps=[('ct',\n",
       "                 ColumnTransformer(remainder='passthrough',\n",
       "                                   transformers=[('subpipe_num',\n",
       "                                                  Pipeline(steps=[('num_impute',\n",
       "                                                                   SimpleImputer(strategy='median')),\n",
       "                                                                  ('ss',\n",
       "                                                                   StandardScaler())]),\n",
       "                                                  <sklearn.compose._column_transformer.make_column_selector object at 0x0000022FADA01790>),\n",
       "                                                 ('subpipe_cat',\n",
       "                                                  Pipeline(steps=[('cat_impute',\n",
       "                                                                   SimpleImputer(strategy='most_frequent')),\n",
       "                                                                  ('ohe',\n",
       "                                                                   OneHotEncoder(handle_unknown='ignore',\n",
       "                                                                                 sparse=False))]),\n",
       "                                                  <sklearn.compose._column_transformer.make_column_selector object at 0x0000022FADA01B50>)])),\n",
       "                ('sm',\n",
       "                 SMOTE(k_neighbors=9, random_state=42, sampling_strategy=0.25)),\n",
       "                ('dtc',\n",
       "                 DecisionTreeClassifier(min_samples_leaf=20, random_state=42))])"
      ]
     },
     "execution_count": 66,
     "metadata": {},
     "output_type": "execute_result"
    }
   ],
   "source": [
    "# production model\n",
    "final_model.fit(X,y)"
   ]
  }
 ],
 "metadata": {
  "kernelspec": {
   "display_name": "learn-env",
   "language": "python",
   "name": "python3"
  },
  "language_info": {
   "codemirror_mode": {
    "name": "ipython",
    "version": 3
   },
   "file_extension": ".py",
   "mimetype": "text/x-python",
   "name": "python",
   "nbconvert_exporter": "python",
   "pygments_lexer": "ipython3",
   "version": "3.8.5"
  },
  "toc": {
   "base_numbering": 1,
   "nav_menu": {},
   "number_sections": true,
   "sideBar": true,
   "skip_h1_title": false,
   "title_cell": "Table of Contents",
   "title_sidebar": "Contents",
   "toc_cell": false,
   "toc_position": {},
   "toc_section_display": true,
   "toc_window_display": false
  },
  "varInspector": {
   "cols": {
    "lenName": 16,
    "lenType": 16,
    "lenVar": 40
   },
   "kernels_config": {
    "python": {
     "delete_cmd_postfix": "",
     "delete_cmd_prefix": "del ",
     "library": "var_list.py",
     "varRefreshCmd": "print(var_dic_list())"
    },
    "r": {
     "delete_cmd_postfix": ") ",
     "delete_cmd_prefix": "rm(",
     "library": "var_list.r",
     "varRefreshCmd": "cat(var_dic_list()) "
    }
   },
   "types_to_exclude": [
    "module",
    "function",
    "builtin_function_or_method",
    "instance",
    "_Feature"
   ],
   "window_display": false
  }
 },
 "nbformat": 4,
 "nbformat_minor": 5
}
