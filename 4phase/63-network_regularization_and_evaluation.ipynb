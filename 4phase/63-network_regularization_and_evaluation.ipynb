{
 "cells": [
  {
   "attachments": {},
   "cell_type": "markdown",
   "metadata": {
    "slideshow": {
     "slide_type": "slide"
    }
   },
   "source": [
    "# Regularization and Evaluation of Neural Networks"
   ]
  },
  {
   "attachments": {},
   "cell_type": "markdown",
   "metadata": {},
   "source": [
    "<a href=\"https://colab.research.google.com/github/flatiron-school/NTL01-DTSC-LIVE-040323/blob/main/4phase/63-network_regularization_and_evaluation.ipynb\" \n",
    "target=\"_parent\"><img src=\"https://colab.research.google.com/assets/colab-badge.svg\" alt=\"Open In Colab\"/></a>"
   ]
  },
  {
   "cell_type": "code",
   "execution_count": 15,
   "metadata": {
    "ExecuteTime": {
     "end_time": "2023-06-12T19:31:45.552744Z",
     "start_time": "2023-06-12T19:31:45.416712Z"
    },
    "scrolled": true
   },
   "outputs": [
    {
     "name": "stdout",
     "output_type": "stream",
     "text": [
      "The autoreload extension is already loaded. To reload it, use:\n",
      "  %reload_ext autoreload\n"
     ]
    }
   ],
   "source": [
    "from sklearn.datasets import load_sample_images\n",
    "from sklearn.datasets import load_digits\n",
    "from sklearn.model_selection import train_test_split, cross_val_score\n",
    "from sklearn.preprocessing import OneHotEncoder\n",
    "from sklearn.metrics import accuracy_score, confusion_matrix\n",
    "import matplotlib.pyplot as plt\n",
    "import matplotlib.image as mpimg\n",
    "import numpy as np\n",
    "import seaborn as sns\n",
    "\n",
    "\n",
    "from tensorflow.keras.models import Sequential\n",
    "from tensorflow.keras.layers import Dense, Dropout\n",
    "from tensorflow.keras.regularizers import l2\n",
    "from tensorflow.keras.optimizers import SGD\n",
    "from tensorflow.keras.wrappers import scikit_learn\n",
    "from tensorflow.keras.callbacks import EarlyStopping\n",
    "\n",
    "from scikeras.wrappers import KerasClassifier\n",
    "\n",
    "import os\n",
    "import sys\n",
    "module_path = os.path.abspath(os.path.join(os.pardir, os.pardir))\n",
    "if module_path not in sys.path:\n",
    "    sys.path.append(module_path)\n",
    "    \n",
    "%load_ext autoreload\n",
    "%autoreload 2"
   ]
  },
  {
   "cell_type": "code",
   "execution_count": 16,
   "metadata": {},
   "outputs": [
    {
     "name": "stdout",
     "output_type": "stream",
     "text": [
      "Requirement already satisfied: scikeras in c:\\anaconda3\\lib\\site-packages (0.10.0)\n",
      "Requirement already satisfied: scikit-learn>=1.0.0 in c:\\anaconda3\\lib\\site-packages (from scikeras) (1.2.2)\n",
      "Requirement already satisfied: packaging>=0.21 in c:\\anaconda3\\lib\\site-packages (from scikeras) (23.0)\n",
      "Requirement already satisfied: scipy>=1.3.2 in c:\\anaconda3\\lib\\site-packages (from scikit-learn>=1.0.0->scikeras) (1.9.1)\n",
      "Requirement already satisfied: joblib>=1.1.1 in c:\\anaconda3\\lib\\site-packages (from scikit-learn>=1.0.0->scikeras) (1.1.1)\n",
      "Requirement already satisfied: threadpoolctl>=2.0.0 in c:\\anaconda3\\lib\\site-packages (from scikit-learn>=1.0.0->scikeras) (2.2.0)\n",
      "Requirement already satisfied: numpy>=1.17.3 in c:\\anaconda3\\lib\\site-packages (from scikit-learn>=1.0.0->scikeras) (1.23.5)\n"
     ]
    }
   ],
   "source": [
    "!pip install scikeras"
   ]
  },
  {
   "cell_type": "code",
   "execution_count": 17,
   "metadata": {},
   "outputs": [],
   "source": [
    "# !pip install --upgrade tensorflow"
   ]
  },
  {
   "cell_type": "code",
   "execution_count": 18,
   "metadata": {
    "ExecuteTime": {
     "end_time": "2023-06-12T19:31:45.710738Z",
     "start_time": "2023-06-12T19:31:45.553743Z"
    }
   },
   "outputs": [
    {
     "name": "stdout",
     "output_type": "stream",
     "text": [
      "Num GPUs Available:  0\n"
     ]
    }
   ],
   "source": [
    "import tensorflow as tf\n",
    "print(\"Num GPUs Available: \", len(tf.config.list_physical_devices('GPU')))"
   ]
  },
  {
   "attachments": {},
   "cell_type": "markdown",
   "metadata": {},
   "source": [
    "## Learning Objectives\n",
    "\n",
    "- use `keras` to code up a neural network model;\n",
    "- explain dropout and early stopping as distinctive forms of regularization in neural networks;\n",
    "- use wrappers inside `keras` to make models that can jibe with `sklearn`."
   ]
  },
  {
   "attachments": {},
   "cell_type": "markdown",
   "metadata": {},
   "source": [
    "### From last time"
   ]
  },
  {
   "cell_type": "code",
   "execution_count": 19,
   "metadata": {
    "ExecuteTime": {
     "end_time": "2023-06-12T19:31:45.868712Z",
     "start_time": "2023-06-12T19:31:45.711742Z"
    }
   },
   "outputs": [],
   "source": [
    "digits = load_digits()\n",
    "X = digits.data.astype('float32')\n",
    "y = digits.target.astype('float32')\n",
    "\n",
    "y_binary = y % 2"
   ]
  },
  {
   "cell_type": "code",
   "execution_count": 20,
   "metadata": {
    "ExecuteTime": {
     "end_time": "2023-06-12T19:32:16.196771Z",
     "start_time": "2023-06-12T19:31:45.869712Z"
    },
    "scrolled": true
   },
   "outputs": [
    {
     "name": "stdout",
     "output_type": "stream",
     "text": [
      "Epoch 1/50\n",
      "180/180 [==============================] - 0s 634us/step - loss: 0.4712 - accuracy: 0.7963\n",
      "Epoch 2/50\n",
      "180/180 [==============================] - 0s 672us/step - loss: 0.2397 - accuracy: 0.9015\n",
      "Epoch 3/50\n",
      "180/180 [==============================] - 0s 592us/step - loss: 0.1864 - accuracy: 0.9288\n",
      "Epoch 4/50\n",
      "180/180 [==============================] - 0s 637us/step - loss: 0.1628 - accuracy: 0.9366\n",
      "Epoch 5/50\n",
      "180/180 [==============================] - 0s 655us/step - loss: 0.1428 - accuracy: 0.9455\n",
      "Epoch 6/50\n",
      "180/180 [==============================] - 0s 651us/step - loss: 0.1376 - accuracy: 0.9444\n",
      "Epoch 7/50\n",
      "180/180 [==============================] - 0s 628us/step - loss: 0.1219 - accuracy: 0.9544\n",
      "Epoch 8/50\n",
      "180/180 [==============================] - 0s 667us/step - loss: 0.1084 - accuracy: 0.9572\n",
      "Epoch 9/50\n",
      "180/180 [==============================] - 0s 649us/step - loss: 0.0961 - accuracy: 0.9622\n",
      "Epoch 10/50\n",
      "180/180 [==============================] - 0s 632us/step - loss: 0.0854 - accuracy: 0.9655\n",
      "Epoch 11/50\n",
      "180/180 [==============================] - 0s 597us/step - loss: 0.0824 - accuracy: 0.9677\n",
      "Epoch 12/50\n",
      "180/180 [==============================] - 0s 610us/step - loss: 0.0735 - accuracy: 0.9677\n",
      "Epoch 13/50\n",
      "180/180 [==============================] - 0s 619us/step - loss: 0.0710 - accuracy: 0.9705\n",
      "Epoch 14/50\n",
      "180/180 [==============================] - 0s 599us/step - loss: 0.0650 - accuracy: 0.9722\n",
      "Epoch 15/50\n",
      "180/180 [==============================] - 0s 585us/step - loss: 0.0592 - accuracy: 0.9766\n",
      "Epoch 16/50\n",
      "180/180 [==============================] - 0s 613us/step - loss: 0.0537 - accuracy: 0.9789\n",
      "Epoch 17/50\n",
      "180/180 [==============================] - 0s 672us/step - loss: 0.0511 - accuracy: 0.9811\n",
      "Epoch 18/50\n",
      "180/180 [==============================] - 0s 642us/step - loss: 0.0512 - accuracy: 0.9789\n",
      "Epoch 19/50\n",
      "180/180 [==============================] - 0s 670us/step - loss: 0.0476 - accuracy: 0.9794\n",
      "Epoch 20/50\n",
      "180/180 [==============================] - 0s 610us/step - loss: 0.0442 - accuracy: 0.9822\n",
      "Epoch 21/50\n",
      "180/180 [==============================] - 0s 612us/step - loss: 0.0387 - accuracy: 0.9850\n",
      "Epoch 22/50\n",
      "180/180 [==============================] - 0s 586us/step - loss: 0.0408 - accuracy: 0.9839\n",
      "Epoch 23/50\n",
      "180/180 [==============================] - 0s 580us/step - loss: 0.0368 - accuracy: 0.9861\n",
      "Epoch 24/50\n",
      "180/180 [==============================] - 0s 578us/step - loss: 0.0346 - accuracy: 0.9861\n",
      "Epoch 25/50\n",
      "180/180 [==============================] - 0s 576us/step - loss: 0.0320 - accuracy: 0.9872\n",
      "Epoch 26/50\n",
      "180/180 [==============================] - 0s 579us/step - loss: 0.0281 - accuracy: 0.9911\n",
      "Epoch 27/50\n",
      "180/180 [==============================] - 0s 607us/step - loss: 0.0294 - accuracy: 0.9894\n",
      "Epoch 28/50\n",
      "180/180 [==============================] - 0s 604us/step - loss: 0.0274 - accuracy: 0.9889\n",
      "Epoch 29/50\n",
      "180/180 [==============================] - 0s 614us/step - loss: 0.0244 - accuracy: 0.9922\n",
      "Epoch 30/50\n",
      "180/180 [==============================] - 0s 618us/step - loss: 0.0244 - accuracy: 0.9939\n",
      "Epoch 31/50\n",
      "180/180 [==============================] - 0s 643us/step - loss: 0.0242 - accuracy: 0.9905\n",
      "Epoch 32/50\n",
      "180/180 [==============================] - 0s 656us/step - loss: 0.0231 - accuracy: 0.9911\n",
      "Epoch 33/50\n",
      "180/180 [==============================] - 0s 674us/step - loss: 0.0223 - accuracy: 0.9922\n",
      "Epoch 34/50\n",
      "180/180 [==============================] - 0s 638us/step - loss: 0.0209 - accuracy: 0.9928\n",
      "Epoch 35/50\n",
      "180/180 [==============================] - 0s 589us/step - loss: 0.0210 - accuracy: 0.9939\n",
      "Epoch 36/50\n",
      "180/180 [==============================] - 0s 568us/step - loss: 0.0175 - accuracy: 0.9933\n",
      "Epoch 37/50\n",
      "180/180 [==============================] - 0s 580us/step - loss: 0.0175 - accuracy: 0.9950\n",
      "Epoch 38/50\n",
      "180/180 [==============================] - 0s 582us/step - loss: 0.0168 - accuracy: 0.9928\n",
      "Epoch 39/50\n",
      "180/180 [==============================] - 0s 579us/step - loss: 0.0142 - accuracy: 0.9961\n",
      "Epoch 40/50\n",
      "180/180 [==============================] - 0s 598us/step - loss: 0.0159 - accuracy: 0.9950\n",
      "Epoch 41/50\n",
      "180/180 [==============================] - 0s 591us/step - loss: 0.0153 - accuracy: 0.9944\n",
      "Epoch 42/50\n",
      "180/180 [==============================] - 0s 596us/step - loss: 0.0140 - accuracy: 0.9955\n",
      "Epoch 43/50\n",
      "180/180 [==============================] - 0s 697us/step - loss: 0.0110 - accuracy: 0.9950\n",
      "Epoch 44/50\n",
      "180/180 [==============================] - 0s 624us/step - loss: 0.0101 - accuracy: 0.9955\n",
      "Epoch 45/50\n",
      "180/180 [==============================] - 0s 647us/step - loss: 0.0162 - accuracy: 0.9944\n",
      "Epoch 46/50\n",
      "180/180 [==============================] - 0s 608us/step - loss: 0.0123 - accuracy: 0.9955\n",
      "Epoch 47/50\n",
      "180/180 [==============================] - 0s 590us/step - loss: 0.0115 - accuracy: 0.9961\n",
      "Epoch 48/50\n",
      "180/180 [==============================] - 0s 603us/step - loss: 0.0110 - accuracy: 0.9955\n",
      "Epoch 49/50\n",
      "180/180 [==============================] - 0s 650us/step - loss: 0.0090 - accuracy: 0.9961\n",
      "Epoch 50/50\n",
      "180/180 [==============================] - 0s 591us/step - loss: 0.0069 - accuracy: 0.9983\n"
     ]
    },
    {
     "data": {
      "text/plain": [
       "<keras.callbacks.History at 0x15527308490>"
      ]
     },
     "execution_count": 20,
     "metadata": {},
     "output_type": "execute_result"
    }
   ],
   "source": [
    "model = Sequential()\n",
    "model.add(Dense(12, activation='relu', input_dim=64))\n",
    "model.add(Dense(8, activation='relu'))\n",
    "model.add(Dense(1, activation='sigmoid'))\n",
    "\n",
    "model.compile(optimizer='rmsprop',\n",
    "              loss='binary_crossentropy',\n",
    "              metrics=['accuracy'])\n",
    "\n",
    "model.fit(X, y_binary, epochs=50, batch_size=10)"
   ]
  },
  {
   "attachments": {},
   "cell_type": "markdown",
   "metadata": {},
   "source": [
    "### Things to know:\n",
    "\n",
    "- The data and labels in `fit()` need to be numpy arrays, not `pandas` dfs.\n",
    "- Scaling your data will have a large impact on your model.\n",
    "   > For our traditional input features, we would use a scaler object. For images, as long as the minimum value is 0, we can simply divide through by the maximum pixel intensity."
   ]
  },
  {
   "attachments": {},
   "cell_type": "markdown",
   "metadata": {},
   "source": [
    "#### Getting data ready for modeling\n",
    "**Preprocessing**:\n",
    "\n",
    "- use train_test_split to create X_train, y_train, X_test, and y_test\n",
    "- Split training data into pure_train and validation sets.\n",
    "- Scale the pixel intensity to a value between 0 and 1."
   ]
  },
  {
   "attachments": {},
   "cell_type": "markdown",
   "metadata": {},
   "source": [
    "Scaling our input variables will help speed up our neural network.\n",
    "\n",
    "Since our minimum intensity is 0, we can normalize the inputs by dividing each value by the max value (16)."
   ]
  },
  {
   "cell_type": "code",
   "execution_count": 21,
   "metadata": {
    "ExecuteTime": {
     "end_time": "2023-06-12T19:32:16.306834Z",
     "start_time": "2023-06-12T19:32:16.197713Z"
    }
   },
   "outputs": [],
   "source": [
    "X_train, X_test, y_train, y_test =\\\n",
    "    train_test_split(X, y_binary, random_state=42, test_size=0.2)\n",
    "\n",
    "X_pure_train, X_val, y_pure_train, y_val =\\\n",
    "    train_test_split(X_train, y_train, random_state=42, test_size=0.2)\n",
    "\n",
    "X_pure_train, X_val, X_test = X_pure_train/16, X_val/16, X_test/16"
   ]
  },
  {
   "attachments": {},
   "cell_type": "markdown",
   "metadata": {},
   "source": [
    "For activation, let's start with the familiar sigmoid function, and see how it performs."
   ]
  },
  {
   "cell_type": "code",
   "execution_count": 22,
   "metadata": {
    "ExecuteTime": {
     "end_time": "2023-06-12T19:32:16.998889Z",
     "start_time": "2023-06-12T19:32:16.307711Z"
    }
   },
   "outputs": [
    {
     "name": "stdout",
     "output_type": "stream",
     "text": [
      "Epoch 1/10\n",
      "12/12 [==============================] - 0s 784us/step - loss: 0.7418 - accuracy: 0.5039\n",
      "Epoch 2/10\n",
      "12/12 [==============================] - 0s 662us/step - loss: 0.7342 - accuracy: 0.5039\n",
      "Epoch 3/10\n",
      "12/12 [==============================] - 0s 757us/step - loss: 0.7278 - accuracy: 0.5039\n",
      "Epoch 4/10\n",
      "12/12 [==============================] - 0s 636us/step - loss: 0.7223 - accuracy: 0.5039\n",
      "Epoch 5/10\n",
      "12/12 [==============================] - 0s 805us/step - loss: 0.7176 - accuracy: 0.5039\n",
      "Epoch 6/10\n",
      "12/12 [==============================] - 0s 810us/step - loss: 0.7136 - accuracy: 0.5039\n",
      "Epoch 7/10\n",
      "12/12 [==============================] - 0s 774us/step - loss: 0.7103 - accuracy: 0.5039\n",
      "Epoch 8/10\n",
      "12/12 [==============================] - 0s 701us/step - loss: 0.7075 - accuracy: 0.5039\n",
      "Epoch 9/10\n",
      "12/12 [==============================] - 0s 731us/step - loss: 0.7051 - accuracy: 0.5039\n",
      "Epoch 10/10\n",
      "12/12 [==============================] - 0s 727us/step - loss: 0.7029 - accuracy: 0.5039\n"
     ]
    }
   ],
   "source": [
    "model = Sequential()\n",
    "# We will start with our trusty sigmoid function.\n",
    "# What does input dimension correspond to?\n",
    "model.add(Dense(12, activation='sigmoid', input_dim=64))\n",
    "model.add(Dense(8, activation='sigmoid'))\n",
    "model.add(Dense(1, activation='sigmoid'))\n",
    "\n",
    "model.compile(optimizer='SGD' ,\n",
    "              # We use binary_crossentropy for a binary loss function\n",
    "              loss='binary_crossentropy',\n",
    "              metrics=['accuracy'])\n",
    "\n",
    "# Assign the variable history to store the results,\n",
    "# and set verbose=1 so we can see the output. To see\n",
    "# only the metrics at the end of each epoch, set verbose=2.\n",
    "results = model.fit(X_pure_train, y_pure_train, epochs=10, batch_size=100, verbose=1)"
   ]
  },
  {
   "attachments": {},
   "cell_type": "markdown",
   "metadata": {},
   "source": [
    "We can access the history of our model via `results.history`.\n",
    "Use __dict__ to take a tour."
   ]
  },
  {
   "cell_type": "code",
   "execution_count": 23,
   "metadata": {
    "ExecuteTime": {
     "end_time": "2023-06-12T19:32:17.106887Z",
     "start_time": "2023-06-12T19:32:16.999887Z"
    }
   },
   "outputs": [
    {
     "data": {
      "text/plain": [
       "{'validation_data': None,\n",
       " 'model': <keras.engine.sequential.Sequential at 0x1552850bd90>,\n",
       " '_chief_worker_only': None,\n",
       " '_supports_tf_logs': False,\n",
       " 'history': {'loss': [0.7417746782302856,\n",
       "   0.7341701984405518,\n",
       "   0.7277970314025879,\n",
       "   0.7222796082496643,\n",
       "   0.7175631523132324,\n",
       "   0.7136453986167908,\n",
       "   0.7102786898612976,\n",
       "   0.7075110077857971,\n",
       "   0.705072820186615,\n",
       "   0.7029196619987488],\n",
       "  'accuracy': [0.5039164423942566,\n",
       "   0.5039164423942566,\n",
       "   0.5039164423942566,\n",
       "   0.5039164423942566,\n",
       "   0.5039164423942566,\n",
       "   0.5039164423942566,\n",
       "   0.5039164423942566,\n",
       "   0.5039164423942566,\n",
       "   0.5039164423942566,\n",
       "   0.5039164423942566]},\n",
       " 'params': {'verbose': 1, 'epochs': 10, 'steps': 12},\n",
       " 'epoch': [0, 1, 2, 3, 4, 5, 6, 7, 8, 9]}"
      ]
     },
     "execution_count": 23,
     "metadata": {},
     "output_type": "execute_result"
    }
   ],
   "source": [
    "results.__dict__"
   ]
  },
  {
   "cell_type": "code",
   "execution_count": 24,
   "metadata": {
    "ExecuteTime": {
     "end_time": "2023-06-12T19:32:17.404340Z",
     "start_time": "2023-06-12T19:32:17.107887Z"
    }
   },
   "outputs": [
    {
     "data": {
      "image/png": "[encoded data removed]",
      "text/plain": [
       "<Figure size 1000x500 with 2 Axes>"
      ]
     },
     "metadata": {},
     "output_type": "display_data"
    }
   ],
   "source": [
    "sigmoid_loss = results.history['loss']\n",
    "sigmoid_accuracy = results.history['accuracy']\n",
    "\n",
    "fig, (ax1, ax2) = plt.subplots(1, 2, figsize=(10, 5))\n",
    "sns.lineplot(x=results.epoch, y=sigmoid_loss, ax=ax1, label='loss')\n",
    "sns.lineplot(x=results.epoch, y=sigmoid_accuracy, ax=ax2, label='accuracy');"
   ]
  },
  {
   "attachments": {},
   "cell_type": "markdown",
   "metadata": {},
   "source": [
    "We have two plots above both relating to the quality of our model.  The left-hand plot is our loss. It uses the probabilities associated with our predictions to judge how well our prediction fits reality. We want it to decrease as far as possible.\n",
    "\n",
    "The accuracy judges how well the predictions are after applying the threshold at the output layer.  We want accuracy to increase."
   ]
  },
  {
   "attachments": {},
   "cell_type": "markdown",
   "metadata": {},
   "source": [
    "If we look at our loss, it is still decreasing. That is a signal that our model is **still learning**. If our model is still learning, we can allow it to get better by turning a few dials.\n",
    "\n",
    "Let's:\n",
    "- increase the number of epochs;\n",
    "- change sigmoid activation in the hidden layers to ReLU; and\n",
    "- decrease the batch size."
   ]
  },
  {
   "cell_type": "code",
   "execution_count": 25,
   "metadata": {
    "ExecuteTime": {
     "end_time": "2023-06-12T19:32:17.514247Z",
     "start_time": "2023-06-12T19:32:17.405220Z"
    }
   },
   "outputs": [
    {
     "data": {
      "text/plain": [
       "1149"
      ]
     },
     "execution_count": 25,
     "metadata": {},
     "output_type": "execute_result"
    }
   ],
   "source": [
    "X_pure_train.shape[0]"
   ]
  },
  {
   "cell_type": "code",
   "execution_count": 26,
   "metadata": {
    "ExecuteTime": {
     "end_time": "2023-06-12T19:32:26.686278Z",
     "start_time": "2023-06-12T19:32:17.516219Z"
    }
   },
   "outputs": [
    {
     "name": "stdout",
     "output_type": "stream",
     "text": [
      "Epoch 1/100\n",
      "36/36 [==============================] - 0s 647us/step - loss: 0.7125 - accuracy: 0.4978\n",
      "Epoch 2/100\n",
      "36/36 [==============================] - 0s 642us/step - loss: 0.6688 - accuracy: 0.5779\n",
      "Epoch 3/100\n",
      "36/36 [==============================] - 0s 592us/step - loss: 0.6483 - accuracy: 0.6084\n",
      "Epoch 4/100\n",
      "36/36 [==============================] - 0s 590us/step - loss: 0.6279 - accuracy: 0.6379\n",
      "Epoch 5/100\n",
      "36/36 [==============================] - 0s 655us/step - loss: 0.6058 - accuracy: 0.6841\n",
      "Epoch 6/100\n",
      "36/36 [==============================] - 0s 751us/step - loss: 0.5824 - accuracy: 0.7084\n",
      "Epoch 7/100\n",
      "36/36 [==============================] - 0s 683us/step - loss: 0.5572 - accuracy: 0.7415\n",
      "Epoch 8/100\n",
      "36/36 [==============================] - 0s 581us/step - loss: 0.5305 - accuracy: 0.7668\n",
      "Epoch 9/100\n",
      "36/36 [==============================] - 0s 637us/step - loss: 0.5034 - accuracy: 0.7876\n",
      "Epoch 10/100\n",
      "36/36 [==============================] - 0s 633us/step - loss: 0.4774 - accuracy: 0.7955\n",
      "Epoch 11/100\n",
      "36/36 [==============================] - 0s 627us/step - loss: 0.4521 - accuracy: 0.8164\n",
      "Epoch 12/100\n",
      "36/36 [==============================] - 0s 680us/step - loss: 0.4284 - accuracy: 0.8268\n",
      "Epoch 13/100\n",
      "36/36 [==============================] - 0s 667us/step - loss: 0.4052 - accuracy: 0.8460\n",
      "Epoch 14/100\n",
      "36/36 [==============================] - 0s 637us/step - loss: 0.3858 - accuracy: 0.8503\n",
      "Epoch 15/100\n",
      "36/36 [==============================] - 0s 633us/step - loss: 0.3675 - accuracy: 0.8607\n",
      "Epoch 16/100\n",
      "36/36 [==============================] - 0s 690us/step - loss: 0.3517 - accuracy: 0.8677\n",
      "Epoch 17/100\n",
      "36/36 [==============================] - 0s 848us/step - loss: 0.3371 - accuracy: 0.8677\n",
      "Epoch 18/100\n",
      "36/36 [==============================] - 0s 605us/step - loss: 0.3251 - accuracy: 0.8773\n",
      "Epoch 19/100\n",
      "36/36 [==============================] - 0s 725us/step - loss: 0.3143 - accuracy: 0.8799\n",
      "Epoch 20/100\n",
      "36/36 [==============================] - 0s 704us/step - loss: 0.3056 - accuracy: 0.8860\n",
      "Epoch 21/100\n",
      "36/36 [==============================] - 0s 693us/step - loss: 0.2968 - accuracy: 0.8834\n",
      "Epoch 22/100\n",
      "36/36 [==============================] - 0s 622us/step - loss: 0.2901 - accuracy: 0.8869\n",
      "Epoch 23/100\n",
      "36/36 [==============================] - 0s 647us/step - loss: 0.2824 - accuracy: 0.8851\n",
      "Epoch 24/100\n",
      "36/36 [==============================] - 0s 663us/step - loss: 0.2762 - accuracy: 0.8921\n",
      "Epoch 25/100\n",
      "36/36 [==============================] - 0s 630us/step - loss: 0.2706 - accuracy: 0.8930\n",
      "Epoch 26/100\n",
      "36/36 [==============================] - 0s 674us/step - loss: 0.2672 - accuracy: 0.8895\n",
      "Epoch 27/100\n",
      "36/36 [==============================] - 0s 644us/step - loss: 0.2607 - accuracy: 0.8930\n",
      "Epoch 28/100\n",
      "36/36 [==============================] - 0s 714us/step - loss: 0.2566 - accuracy: 0.8938\n",
      "Epoch 29/100\n",
      "36/36 [==============================] - 0s 626us/step - loss: 0.2530 - accuracy: 0.8938\n",
      "Epoch 30/100\n",
      "36/36 [==============================] - 0s 572us/step - loss: 0.2480 - accuracy: 0.8964\n",
      "Epoch 31/100\n",
      "36/36 [==============================] - 0s 661us/step - loss: 0.2449 - accuracy: 0.8973\n",
      "Epoch 32/100\n",
      "36/36 [==============================] - 0s 601us/step - loss: 0.2420 - accuracy: 0.9034\n",
      "Epoch 33/100\n",
      "36/36 [==============================] - 0s 587us/step - loss: 0.2385 - accuracy: 0.8982\n",
      "Epoch 34/100\n",
      "36/36 [==============================] - 0s 638us/step - loss: 0.2358 - accuracy: 0.8999\n",
      "Epoch 35/100\n",
      "36/36 [==============================] - 0s 736us/step - loss: 0.2327 - accuracy: 0.9034\n",
      "Epoch 36/100\n",
      "36/36 [==============================] - 0s 717us/step - loss: 0.2294 - accuracy: 0.9034\n",
      "Epoch 37/100\n",
      "36/36 [==============================] - 0s 628us/step - loss: 0.2263 - accuracy: 0.9043\n",
      "Epoch 38/100\n",
      "36/36 [==============================] - 0s 617us/step - loss: 0.2248 - accuracy: 0.9060\n",
      "Epoch 39/100\n",
      "36/36 [==============================] - 0s 644us/step - loss: 0.2214 - accuracy: 0.9051\n",
      "Epoch 40/100\n",
      "36/36 [==============================] - 0s 612us/step - loss: 0.2193 - accuracy: 0.9086\n",
      "Epoch 41/100\n",
      "36/36 [==============================] - 0s 587us/step - loss: 0.2167 - accuracy: 0.9034\n",
      "Epoch 42/100\n",
      "36/36 [==============================] - 0s 632us/step - loss: 0.2151 - accuracy: 0.9104\n",
      "Epoch 43/100\n",
      "36/36 [==============================] - 0s 667us/step - loss: 0.2125 - accuracy: 0.9095\n",
      "Epoch 44/100\n",
      "36/36 [==============================] - 0s 687us/step - loss: 0.2107 - accuracy: 0.9104\n",
      "Epoch 45/100\n",
      "36/36 [==============================] - 0s 706us/step - loss: 0.2089 - accuracy: 0.9095\n",
      "Epoch 46/100\n",
      "36/36 [==============================] - 0s 676us/step - loss: 0.2059 - accuracy: 0.9138\n",
      "Epoch 47/100\n",
      "36/36 [==============================] - 0s 661us/step - loss: 0.2069 - accuracy: 0.9086\n",
      "Epoch 48/100\n",
      "36/36 [==============================] - 0s 722us/step - loss: 0.2046 - accuracy: 0.9138\n",
      "Epoch 49/100\n",
      "36/36 [==============================] - 0s 669us/step - loss: 0.2019 - accuracy: 0.9121\n",
      "Epoch 50/100\n",
      "36/36 [==============================] - 0s 651us/step - loss: 0.2000 - accuracy: 0.9138\n",
      "Epoch 51/100\n",
      "36/36 [==============================] - 0s 672us/step - loss: 0.1985 - accuracy: 0.9173\n",
      "Epoch 52/100\n",
      "36/36 [==============================] - 0s 687us/step - loss: 0.1971 - accuracy: 0.9173\n",
      "Epoch 53/100\n",
      "36/36 [==============================] - 0s 635us/step - loss: 0.1957 - accuracy: 0.9156\n",
      "Epoch 54/100\n",
      "36/36 [==============================] - 0s 730us/step - loss: 0.1928 - accuracy: 0.9191\n",
      "Epoch 55/100\n",
      "36/36 [==============================] - 0s 658us/step - loss: 0.1929 - accuracy: 0.9138\n",
      "Epoch 56/100\n",
      "36/36 [==============================] - 0s 685us/step - loss: 0.1911 - accuracy: 0.9278\n",
      "Epoch 57/100\n",
      "36/36 [==============================] - 0s 625us/step - loss: 0.1910 - accuracy: 0.9217\n",
      "Epoch 58/100\n",
      "36/36 [==============================] - 0s 660us/step - loss: 0.1896 - accuracy: 0.9234\n",
      "Epoch 59/100\n",
      "36/36 [==============================] - 0s 617us/step - loss: 0.1874 - accuracy: 0.9191\n",
      "Epoch 60/100\n",
      "36/36 [==============================] - 0s 737us/step - loss: 0.1875 - accuracy: 0.9191\n",
      "Epoch 61/100\n",
      "36/36 [==============================] - 0s 777us/step - loss: 0.1850 - accuracy: 0.9225\n",
      "Epoch 62/100\n",
      "36/36 [==============================] - 0s 796us/step - loss: 0.1832 - accuracy: 0.9225\n",
      "Epoch 63/100\n",
      "36/36 [==============================] - 0s 686us/step - loss: 0.1822 - accuracy: 0.9269\n",
      "Epoch 64/100\n",
      "36/36 [==============================] - 0s 617us/step - loss: 0.1823 - accuracy: 0.9234\n",
      "Epoch 65/100\n",
      "36/36 [==============================] - 0s 629us/step - loss: 0.1808 - accuracy: 0.9234\n",
      "Epoch 66/100\n",
      "36/36 [==============================] - 0s 645us/step - loss: 0.1787 - accuracy: 0.9225\n",
      "Epoch 67/100\n",
      "36/36 [==============================] - 0s 686us/step - loss: 0.1784 - accuracy: 0.9243\n",
      "Epoch 68/100\n",
      "36/36 [==============================] - 0s 689us/step - loss: 0.1787 - accuracy: 0.9278\n",
      "Epoch 69/100\n",
      "36/36 [==============================] - 0s 667us/step - loss: 0.1760 - accuracy: 0.9260\n",
      "Epoch 70/100\n",
      "36/36 [==============================] - 0s 632us/step - loss: 0.1747 - accuracy: 0.9269\n",
      "Epoch 71/100\n",
      "36/36 [==============================] - 0s 678us/step - loss: 0.1736 - accuracy: 0.9286\n",
      "Epoch 72/100\n",
      "36/36 [==============================] - 0s 682us/step - loss: 0.1730 - accuracy: 0.9243\n",
      "Epoch 73/100\n",
      "36/36 [==============================] - 0s 638us/step - loss: 0.1712 - accuracy: 0.9286\n",
      "Epoch 74/100\n",
      "36/36 [==============================] - 0s 687us/step - loss: 0.1714 - accuracy: 0.9278\n",
      "Epoch 75/100\n",
      "36/36 [==============================] - 0s 660us/step - loss: 0.1708 - accuracy: 0.9295\n",
      "Epoch 76/100\n",
      "36/36 [==============================] - 0s 626us/step - loss: 0.1685 - accuracy: 0.9295\n",
      "Epoch 77/100\n",
      "36/36 [==============================] - 0s 630us/step - loss: 0.1674 - accuracy: 0.9278\n",
      "Epoch 78/100\n",
      "36/36 [==============================] - 0s 702us/step - loss: 0.1673 - accuracy: 0.9304\n",
      "Epoch 79/100\n",
      "36/36 [==============================] - 0s 724us/step - loss: 0.1657 - accuracy: 0.9330\n",
      "Epoch 80/100\n",
      "36/36 [==============================] - 0s 599us/step - loss: 0.1661 - accuracy: 0.9304\n",
      "Epoch 81/100\n",
      "36/36 [==============================] - 0s 610us/step - loss: 0.1650 - accuracy: 0.9304\n",
      "Epoch 82/100\n",
      "36/36 [==============================] - 0s 572us/step - loss: 0.1636 - accuracy: 0.9339\n",
      "Epoch 83/100\n",
      "36/36 [==============================] - 0s 596us/step - loss: 0.1642 - accuracy: 0.9339\n",
      "Epoch 84/100\n",
      "36/36 [==============================] - 0s 631us/step - loss: 0.1613 - accuracy: 0.9312\n",
      "Epoch 85/100\n",
      "36/36 [==============================] - 0s 601us/step - loss: 0.1620 - accuracy: 0.9312\n",
      "Epoch 86/100\n",
      "36/36 [==============================] - 0s 722us/step - loss: 0.1602 - accuracy: 0.9347\n",
      "Epoch 87/100\n",
      "36/36 [==============================] - 0s 652us/step - loss: 0.1590 - accuracy: 0.9356\n",
      "Epoch 88/100\n",
      "36/36 [==============================] - 0s 602us/step - loss: 0.1583 - accuracy: 0.9339\n",
      "Epoch 89/100\n",
      "36/36 [==============================] - 0s 601us/step - loss: 0.1582 - accuracy: 0.9295\n",
      "Epoch 90/100\n",
      "36/36 [==============================] - 0s 622us/step - loss: 0.1566 - accuracy: 0.9365\n",
      "Epoch 91/100\n",
      "36/36 [==============================] - 0s 636us/step - loss: 0.1564 - accuracy: 0.9373\n",
      "Epoch 92/100\n",
      "36/36 [==============================] - 0s 621us/step - loss: 0.1564 - accuracy: 0.9339\n",
      "Epoch 93/100\n",
      "36/36 [==============================] - 0s 629us/step - loss: 0.1542 - accuracy: 0.9356\n",
      "Epoch 94/100\n",
      "36/36 [==============================] - 0s 637us/step - loss: 0.1532 - accuracy: 0.9382\n",
      "Epoch 95/100\n",
      "36/36 [==============================] - 0s 553us/step - loss: 0.1527 - accuracy: 0.9347\n",
      "Epoch 96/100\n",
      "36/36 [==============================] - 0s 641us/step - loss: 0.1534 - accuracy: 0.9321\n",
      "Epoch 97/100\n",
      "36/36 [==============================] - 0s 576us/step - loss: 0.1532 - accuracy: 0.9391\n",
      "Epoch 98/100\n",
      "36/36 [==============================] - 0s 610us/step - loss: 0.1521 - accuracy: 0.9373\n",
      "Epoch 99/100\n",
      "36/36 [==============================] - 0s 670us/step - loss: 0.1509 - accuracy: 0.9382\n",
      "Epoch 100/100\n",
      "36/36 [==============================] - 0s 604us/step - loss: 0.1493 - accuracy: 0.9391\n"
     ]
    }
   ],
   "source": [
    "model = Sequential()\n",
    "model.add(Dense(12, activation='relu', input_dim=64))\n",
    "model.add(Dense(8, activation='relu'))\n",
    "model.add(Dense(1, activation='sigmoid'))\n",
    "\n",
    "model.compile(optimizer='SGD',\n",
    "              loss='binary_crossentropy',\n",
    "              metrics=['accuracy'])\n",
    "\n",
    "# Assign the variable history to store the results,\n",
    "# and set verbose=1 so we can see the output.\n",
    "results = model.fit(X_pure_train, y_pure_train, epochs=100, batch_size=None, verbose=1)"
   ]
  },
  {
   "cell_type": "code",
   "execution_count": 27,
   "metadata": {
    "ExecuteTime": {
     "end_time": "2023-06-12T19:32:26.968219Z",
     "start_time": "2023-06-12T19:32:26.687221Z"
    }
   },
   "outputs": [
    {
     "data": {
      "image/png": "[encoded data removed]",
      "text/plain": [
       "<Figure size 1000x500 with 2 Axes>"
      ]
     },
     "metadata": {},
     "output_type": "display_data"
    }
   ],
   "source": [
    "sigmoid_loss = results.history['loss']\n",
    "sigmoid_accuracy = results.history['accuracy']\n",
    "\n",
    "fig, (ax1, ax2) = plt.subplots(1, 2, figsize=(10, 5))\n",
    "sns.lineplot(x=results.epoch, y=sigmoid_loss, ax=ax1, label='loss')\n",
    "sns.lineplot(x=results.epoch, y=sigmoid_accuracy, ax=ax2, label='accuracy');"
   ]
  },
  {
   "attachments": {},
   "cell_type": "markdown",
   "metadata": {},
   "source": [
    "If we increase the learning rate to a very high number, we see that our model overshoots the minimum, and starts bouncing all around."
   ]
  },
  {
   "cell_type": "code",
   "execution_count": 28,
   "metadata": {
    "ExecuteTime": {
     "end_time": "2023-06-12T19:32:36.163251Z",
     "start_time": "2023-06-12T19:32:26.969220Z"
    }
   },
   "outputs": [
    {
     "name": "stdout",
     "output_type": "stream",
     "text": [
      "Epoch 1/30\n",
      "115/115 [==============================] - 0s 661us/step - loss: 0.9684 - accuracy: 0.5100\n",
      "Epoch 2/30\n",
      "115/115 [==============================] - 0s 632us/step - loss: 0.9714 - accuracy: 0.5065\n",
      "Epoch 3/30\n",
      "115/115 [==============================] - 0s 618us/step - loss: 1.0177 - accuracy: 0.4970\n",
      "Epoch 4/30\n",
      "115/115 [==============================] - 0s 659us/step - loss: 1.0727 - accuracy: 0.4891\n",
      "Epoch 5/30\n",
      "115/115 [==============================] - 0s 625us/step - loss: 1.0678 - accuracy: 0.4909\n",
      "Epoch 6/30\n",
      "115/115 [==============================] - 0s 634us/step - loss: 1.1086 - accuracy: 0.4700\n",
      "Epoch 7/30\n",
      "115/115 [==============================] - 0s 638us/step - loss: 0.9843 - accuracy: 0.5030\n",
      "Epoch 8/30\n",
      "115/115 [==============================] - 0s 578us/step - loss: 0.9380 - accuracy: 0.5083\n",
      "Epoch 9/30\n",
      "115/115 [==============================] - 0s 568us/step - loss: 0.9121 - accuracy: 0.5239\n",
      "Epoch 10/30\n",
      "115/115 [==============================] - 0s 585us/step - loss: 0.9956 - accuracy: 0.5091\n",
      "Epoch 11/30\n",
      "115/115 [==============================] - 0s 649us/step - loss: 0.9283 - accuracy: 0.5187\n",
      "Epoch 12/30\n",
      "115/115 [==============================] - 0s 578us/step - loss: 0.9388 - accuracy: 0.5074\n",
      "Epoch 13/30\n",
      "115/115 [==============================] - 0s 576us/step - loss: 1.0619 - accuracy: 0.4813\n",
      "Epoch 14/30\n",
      "115/115 [==============================] - 0s 591us/step - loss: 0.9776 - accuracy: 0.5144\n",
      "Epoch 15/30\n",
      "115/115 [==============================] - 0s 596us/step - loss: 0.9995 - accuracy: 0.5039\n",
      "Epoch 16/30\n",
      "115/115 [==============================] - 0s 598us/step - loss: 0.9155 - accuracy: 0.5161\n",
      "Epoch 17/30\n",
      "115/115 [==============================] - 0s 594us/step - loss: 0.9573 - accuracy: 0.5083\n",
      "Epoch 18/30\n",
      "115/115 [==============================] - 0s 610us/step - loss: 1.0063 - accuracy: 0.4883\n",
      "Epoch 19/30\n",
      "115/115 [==============================] - 0s 574us/step - loss: 1.0492 - accuracy: 0.4935\n",
      "Epoch 20/30\n",
      "115/115 [==============================] - 0s 585us/step - loss: 0.9596 - accuracy: 0.5126\n",
      "Epoch 21/30\n",
      "115/115 [==============================] - 0s 579us/step - loss: 1.0248 - accuracy: 0.4830\n",
      "Epoch 22/30\n",
      "115/115 [==============================] - 0s 670us/step - loss: 1.0595 - accuracy: 0.5030\n",
      "Epoch 23/30\n",
      "115/115 [==============================] - 0s 627us/step - loss: 1.0520 - accuracy: 0.4778\n",
      "Epoch 24/30\n",
      "115/115 [==============================] - 0s 598us/step - loss: 0.9002 - accuracy: 0.5091\n",
      "Epoch 25/30\n",
      "115/115 [==============================] - 0s 659us/step - loss: 1.0262 - accuracy: 0.4952\n",
      "Epoch 26/30\n",
      "115/115 [==============================] - 0s 626us/step - loss: 0.9914 - accuracy: 0.4978\n",
      "Epoch 27/30\n",
      "115/115 [==============================] - 0s 569us/step - loss: 1.0669 - accuracy: 0.4787\n",
      "Epoch 28/30\n",
      "115/115 [==============================] - 0s 589us/step - loss: 1.0387 - accuracy: 0.4943\n",
      "Epoch 29/30\n",
      "115/115 [==============================] - 0s 603us/step - loss: 0.9174 - accuracy: 0.5187\n",
      "Epoch 30/30\n",
      "115/115 [==============================] - 0s 615us/step - loss: 1.0431 - accuracy: 0.4856\n"
     ]
    },
    {
     "data": {
      "image/png": "[encoded data removed]",
      "text/plain": [
       "<Figure size 1000x500 with 2 Axes>"
      ]
     },
     "metadata": {},
     "output_type": "display_data"
    }
   ],
   "source": [
    "model = Sequential()\n",
    "\n",
    "sgd = SGD(learning_rate=9)\n",
    "model.add(Dense(12, activation='relu', input_dim=64))\n",
    "model.add(Dense(8, activation='relu'))\n",
    "model.add(Dense(1, activation='sigmoid'))\n",
    "\n",
    "model.compile(optimizer=sgd,\n",
    "              loss='binary_crossentropy',\n",
    "              metrics=['accuracy'])\n",
    "\n",
    "results = model.fit(X_pure_train, y_pure_train,\n",
    "                    epochs=30, batch_size=10, verbose=1)\n",
    "\n",
    "relu_loss = results.history['loss']\n",
    "relu_accuracy = results.history['accuracy']\n",
    "\n",
    "fig, (ax1, ax2) = plt.subplots(1, 2, figsize=(10, 5))\n",
    "sns.lineplot(x=results.epoch, y=relu_loss, ax=ax1, label='loss')\n",
    "sns.lineplot(x=results.epoch, y=relu_accuracy, ax=ax2, label='accuracy');"
   ]
  },
  {
   "attachments": {},
   "cell_type": "markdown",
   "metadata": {},
   "source": [
    "### Exercise\n",
    "\n",
    "We have been looking only at our training set. Let's add in our validation set to the picture. Check the docstring for the `.fit()` method and add in our validation data."
   ]
  },
  {
   "cell_type": "code",
   "execution_count": 29,
   "metadata": {
    "ExecuteTime": {
     "end_time": "2023-06-12T19:32:36.302218Z",
     "start_time": "2023-06-12T19:32:36.164219Z"
    }
   },
   "outputs": [],
   "source": [
    "model = Sequential()\n",
    "model.add(Dense(12, activation='relu', input_dim=64))\n",
    "model.add(Dense(8, activation='relu'))\n",
    "model.add(Dense(4, activation='relu'))\n",
    "model.add(Dense(1, activation='sigmoid'))\n",
    "\n",
    "model.compile(optimizer='adam',\n",
    "              loss='binary_crossentropy',\n",
    "              metrics=['accuracy'])"
   ]
  },
  {
   "cell_type": "code",
   "execution_count": 30,
   "metadata": {
    "ExecuteTime": {
     "end_time": "2023-06-12T19:32:48.526081Z",
     "start_time": "2023-06-12T19:32:36.303219Z"
    },
    "scrolled": false
   },
   "outputs": [
    {
     "name": "stdout",
     "output_type": "stream",
     "text": [
      "Epoch 1/30\n",
      "115/115 [==============================] - 1s 2ms/step - loss: 0.6550 - accuracy: 0.6440 - val_loss: 0.6361 - val_accuracy: 0.5938\n",
      "Epoch 2/30\n",
      "115/115 [==============================] - 0s 1ms/step - loss: 0.5643 - accuracy: 0.7581 - val_loss: 0.5435 - val_accuracy: 0.7083\n",
      "Epoch 3/30\n",
      "115/115 [==============================] - 0s 981us/step - loss: 0.4808 - accuracy: 0.8346 - val_loss: 0.4676 - val_accuracy: 0.8715\n",
      "Epoch 4/30\n",
      "115/115 [==============================] - 0s 951us/step - loss: 0.4258 - accuracy: 0.8851 - val_loss: 0.4334 - val_accuracy: 0.8333\n",
      "Epoch 5/30\n",
      "115/115 [==============================] - 0s 883us/step - loss: 0.3889 - accuracy: 0.8964 - val_loss: 0.3820 - val_accuracy: 0.9132\n",
      "Epoch 6/30\n",
      "115/115 [==============================] - 0s 866us/step - loss: 0.3541 - accuracy: 0.9164 - val_loss: 0.3586 - val_accuracy: 0.9132\n",
      "Epoch 7/30\n",
      "115/115 [==============================] - 0s 875us/step - loss: 0.3270 - accuracy: 0.9269 - val_loss: 0.3283 - val_accuracy: 0.9410\n",
      "Epoch 8/30\n",
      "115/115 [==============================] - 0s 888us/step - loss: 0.3029 - accuracy: 0.9365 - val_loss: 0.3022 - val_accuracy: 0.9444\n",
      "Epoch 9/30\n",
      "115/115 [==============================] - 0s 872us/step - loss: 0.2796 - accuracy: 0.9478 - val_loss: 0.2958 - val_accuracy: 0.9340\n",
      "Epoch 10/30\n",
      "115/115 [==============================] - 0s 894us/step - loss: 0.2640 - accuracy: 0.9469 - val_loss: 0.2645 - val_accuracy: 0.9549\n",
      "Epoch 11/30\n",
      "115/115 [==============================] - 0s 904us/step - loss: 0.2420 - accuracy: 0.9626 - val_loss: 0.2569 - val_accuracy: 0.9514\n",
      "Epoch 12/30\n",
      "115/115 [==============================] - 0s 932us/step - loss: 0.2288 - accuracy: 0.9591 - val_loss: 0.2415 - val_accuracy: 0.9549\n",
      "Epoch 13/30\n",
      "115/115 [==============================] - 0s 907us/step - loss: 0.2122 - accuracy: 0.9652 - val_loss: 0.2222 - val_accuracy: 0.9618\n",
      "Epoch 14/30\n",
      "115/115 [==============================] - 0s 963us/step - loss: 0.2029 - accuracy: 0.9634 - val_loss: 0.2117 - val_accuracy: 0.9618\n",
      "Epoch 15/30\n",
      "115/115 [==============================] - 0s 936us/step - loss: 0.1893 - accuracy: 0.9687 - val_loss: 0.2149 - val_accuracy: 0.9549\n",
      "Epoch 16/30\n",
      "115/115 [==============================] - 0s 1ms/step - loss: 0.1776 - accuracy: 0.9704 - val_loss: 0.1899 - val_accuracy: 0.9653\n",
      "Epoch 17/30\n",
      "115/115 [==============================] - 0s 934us/step - loss: 0.1659 - accuracy: 0.9713 - val_loss: 0.1925 - val_accuracy: 0.9583\n",
      "Epoch 18/30\n",
      "115/115 [==============================] - 0s 884us/step - loss: 0.1570 - accuracy: 0.9765 - val_loss: 0.1719 - val_accuracy: 0.9688\n",
      "Epoch 19/30\n",
      "115/115 [==============================] - 0s 897us/step - loss: 0.1471 - accuracy: 0.9765 - val_loss: 0.1633 - val_accuracy: 0.9722\n",
      "Epoch 20/30\n",
      "115/115 [==============================] - 0s 903us/step - loss: 0.1384 - accuracy: 0.9791 - val_loss: 0.1946 - val_accuracy: 0.9479\n",
      "Epoch 21/30\n",
      "115/115 [==============================] - 0s 933us/step - loss: 0.1368 - accuracy: 0.9756 - val_loss: 0.1551 - val_accuracy: 0.9618\n",
      "Epoch 22/30\n",
      "115/115 [==============================] - 0s 906us/step - loss: 0.1277 - accuracy: 0.9809 - val_loss: 0.1532 - val_accuracy: 0.9618\n",
      "Epoch 23/30\n",
      "115/115 [==============================] - 0s 882us/step - loss: 0.1175 - accuracy: 0.9835 - val_loss: 0.1401 - val_accuracy: 0.9688\n",
      "Epoch 24/30\n",
      "115/115 [==============================] - 0s 910us/step - loss: 0.1091 - accuracy: 0.9835 - val_loss: 0.1313 - val_accuracy: 0.9757\n",
      "Epoch 25/30\n",
      "115/115 [==============================] - 0s 913us/step - loss: 0.1074 - accuracy: 0.9835 - val_loss: 0.1258 - val_accuracy: 0.9757\n",
      "Epoch 26/30\n",
      "115/115 [==============================] - 0s 935us/step - loss: 0.0982 - accuracy: 0.9861 - val_loss: 0.1358 - val_accuracy: 0.9618\n",
      "Epoch 27/30\n",
      "115/115 [==============================] - 0s 969us/step - loss: 0.0963 - accuracy: 0.9861 - val_loss: 0.1326 - val_accuracy: 0.9618\n",
      "Epoch 28/30\n",
      "115/115 [==============================] - 0s 929us/step - loss: 0.0888 - accuracy: 0.9896 - val_loss: 0.1379 - val_accuracy: 0.9653\n",
      "Epoch 29/30\n",
      "115/115 [==============================] - 0s 932us/step - loss: 0.0859 - accuracy: 0.9878 - val_loss: 0.1267 - val_accuracy: 0.9653\n",
      "Epoch 30/30\n",
      "115/115 [==============================] - 0s 886us/step - loss: 0.0810 - accuracy: 0.9922 - val_loss: 0.1100 - val_accuracy: 0.9757\n"
     ]
    }
   ],
   "source": [
    "results = model.fit(X_pure_train, y_pure_train,\n",
    "                   validation_data=(X_val, y_val),\n",
    "                   epochs=30, batch_size=10)"
   ]
  },
  {
   "cell_type": "code",
   "execution_count": 31,
   "metadata": {
    "ExecuteTime": {
     "end_time": "2023-06-12T19:32:48.854053Z",
     "start_time": "2023-06-12T19:32:48.527052Z"
    }
   },
   "outputs": [
    {
     "data": {
      "image/png": "[encoded data removed]",
      "text/plain": [
       "<Figure size 1000x500 with 2 Axes>"
      ]
     },
     "metadata": {},
     "output_type": "display_data"
    }
   ],
   "source": [
    "train_loss = results.history['loss']\n",
    "train_acc = results.history['accuracy']\n",
    "val_loss = results.history['val_loss']\n",
    "val_acc = results.history['val_accuracy']\n",
    "\n",
    "fig, (ax1, ax2) = plt.subplots(1, 2, figsize=(10, 5))\n",
    "sns.lineplot(x=results.epoch, y=train_loss, ax=ax1, label='train_loss')\n",
    "sns.lineplot(x=results.epoch, y=train_acc, ax=ax2, label='train_accuracy')\n",
    "\n",
    "sns.lineplot(x=results.epoch, y=val_loss, ax=ax1, label='val_loss')\n",
    "sns.lineplot(x=results.epoch, y=val_acc, ax=ax2, label='val_accuracy');"
   ]
  },
  {
   "attachments": {},
   "cell_type": "markdown",
   "metadata": {},
   "source": [
    "<details>\n",
    "    <summary>One answer here</summary>\n",
    "<code>model = Sequential()\n",
    "model.add(Dense(12, activation='relu', input_dim=64))\n",
    "model.add(Dense(8, activation='relu'))\n",
    "model.add(Dense(4, activation='relu'))\n",
    "model.add(Dense(1, activation='sigmoid'))\n",
    "model.compile(optimizer='adam',\n",
    "              loss='binary_crossentropy',\n",
    "              metrics=['accuracy'])\n",
    "results = model.fit(X_pure_train, y_pure_train,\n",
    "                   validation_data=(X_val, y_val),\n",
    "                   epochs=30, batch_size=10)\n",
    "train_loss = results.history['loss']\n",
    "train_acc = results.history['accuracy']\n",
    "val_loss = results.history['val_loss']\n",
    "val_acc = results.history['val_accuracy']\n",
    "fig, (ax1, ax2) = plt.subplots(1, 2, figsize=(10, 5))\n",
    "sns.lineplot(x=results.epoch, y=train_loss, ax=ax1, label='train_loss')\n",
    "sns.lineplot(x=results.epoch, y=train_acc, ax=ax2, label='train_accuracy')\n",
    "sns.lineplot(x=results.epoch, y=val_loss, ax=ax1, label='val_loss')\n",
    "sns.lineplot(x=results.epoch, y=val_acc, ax=ax2, label='val_accuracy');</code>\n",
    "</details>"
   ]
  },
  {
   "cell_type": "code",
   "execution_count": 32,
   "metadata": {
    "ExecuteTime": {
     "end_time": "2023-06-12T19:32:48.964054Z",
     "start_time": "2023-06-12T19:32:48.855086Z"
    }
   },
   "outputs": [
    {
     "data": {
      "text/plain": [
       "0.9756944179534912"
      ]
     },
     "execution_count": 32,
     "metadata": {},
     "output_type": "execute_result"
    }
   ],
   "source": [
    "results.history['val_accuracy'][-1]"
   ]
  },
  {
   "attachments": {},
   "cell_type": "markdown",
   "metadata": {},
   "source": [
    "## Connecting with `sklearn`\n",
    "\n",
    "The `keras.wrappers` submodule means that we can turn `keras` models into estimators that `sklearn` tools will recognize."
   ]
  },
  {
   "cell_type": "code",
   "execution_count": 33,
   "metadata": {
    "ExecuteTime": {
     "end_time": "2023-06-12T19:32:49.655082Z",
     "start_time": "2023-06-12T19:32:48.965053Z"
    }
   },
   "outputs": [
    {
     "ename": "TypeError",
     "evalue": "If no scoring is specified, the estimator passed should have a 'score' method. The estimator <keras.engine.sequential.Sequential object at 0x000001552A62AFA0> does not.",
     "output_type": "error",
     "traceback": [
      "\u001b[1;31m---------------------------------------------------------------------------\u001b[0m",
      "\u001b[1;31mTypeError\u001b[0m                                 Traceback (most recent call last)",
      "Cell \u001b[1;32mIn[33], line 3\u001b[0m\n\u001b[0;32m      1\u001b[0m \u001b[39m# This will throw an error.\u001b[39;00m\n\u001b[1;32m----> 3\u001b[0m cross_val_score(model, X_pure_train, y_pure_train)\n",
      "File \u001b[1;32mc:\\Anaconda3\\lib\\site-packages\\sklearn\\model_selection\\_validation.py:513\u001b[0m, in \u001b[0;36mcross_val_score\u001b[1;34m(estimator, X, y, groups, scoring, cv, n_jobs, verbose, fit_params, pre_dispatch, error_score)\u001b[0m\n\u001b[0;32m    395\u001b[0m \u001b[39m\u001b[39m\u001b[39m\"\"\"Evaluate a score by cross-validation.\u001b[39;00m\n\u001b[0;32m    396\u001b[0m \n\u001b[0;32m    397\u001b[0m \u001b[39mRead more in the :ref:`User Guide <cross_validation>`.\u001b[39;00m\n\u001b[1;32m   (...)\u001b[0m\n\u001b[0;32m    510\u001b[0m \u001b[39m[0.3315057  0.08022103 0.03531816]\u001b[39;00m\n\u001b[0;32m    511\u001b[0m \u001b[39m\"\"\"\u001b[39;00m\n\u001b[0;32m    512\u001b[0m \u001b[39m# To ensure multimetric format is not supported\u001b[39;00m\n\u001b[1;32m--> 513\u001b[0m scorer \u001b[39m=\u001b[39m check_scoring(estimator, scoring\u001b[39m=\u001b[39;49mscoring)\n\u001b[0;32m    515\u001b[0m cv_results \u001b[39m=\u001b[39m cross_validate(\n\u001b[0;32m    516\u001b[0m     estimator\u001b[39m=\u001b[39mestimator,\n\u001b[0;32m    517\u001b[0m     X\u001b[39m=\u001b[39mX,\n\u001b[1;32m   (...)\u001b[0m\n\u001b[0;32m    526\u001b[0m     error_score\u001b[39m=\u001b[39merror_score,\n\u001b[0;32m    527\u001b[0m )\n\u001b[0;32m    528\u001b[0m \u001b[39mreturn\u001b[39;00m cv_results[\u001b[39m\"\u001b[39m\u001b[39mtest_score\u001b[39m\u001b[39m\"\u001b[39m]\n",
      "File \u001b[1;32mc:\\Anaconda3\\lib\\site-packages\\sklearn\\metrics\\_scorer.py:503\u001b[0m, in \u001b[0;36mcheck_scoring\u001b[1;34m(estimator, scoring, allow_none)\u001b[0m\n\u001b[0;32m    501\u001b[0m         \u001b[39mreturn\u001b[39;00m \u001b[39mNone\u001b[39;00m\n\u001b[0;32m    502\u001b[0m     \u001b[39melse\u001b[39;00m:\n\u001b[1;32m--> 503\u001b[0m         \u001b[39mraise\u001b[39;00m \u001b[39mTypeError\u001b[39;00m(\n\u001b[0;32m    504\u001b[0m             \u001b[39m\"\u001b[39m\u001b[39mIf no scoring is specified, the estimator passed should \u001b[39m\u001b[39m\"\u001b[39m\n\u001b[0;32m    505\u001b[0m             \u001b[39m\"\u001b[39m\u001b[39mhave a \u001b[39m\u001b[39m'\u001b[39m\u001b[39mscore\u001b[39m\u001b[39m'\u001b[39m\u001b[39m method. The estimator \u001b[39m\u001b[39m%r\u001b[39;00m\u001b[39m does not.\u001b[39m\u001b[39m\"\u001b[39m \u001b[39m%\u001b[39m estimator\n\u001b[0;32m    506\u001b[0m         )\n\u001b[0;32m    507\u001b[0m \u001b[39melif\u001b[39;00m \u001b[39misinstance\u001b[39m(scoring, Iterable):\n\u001b[0;32m    508\u001b[0m     \u001b[39mraise\u001b[39;00m \u001b[39mValueError\u001b[39;00m(\n\u001b[0;32m    509\u001b[0m         \u001b[39m\"\u001b[39m\u001b[39mFor evaluating multiple scores, use \u001b[39m\u001b[39m\"\u001b[39m\n\u001b[0;32m    510\u001b[0m         \u001b[39m\"\u001b[39m\u001b[39msklearn.model_selection.cross_validate instead. \u001b[39m\u001b[39m\"\u001b[39m\n\u001b[0;32m    511\u001b[0m         \u001b[39m\"\u001b[39m\u001b[39m{0}\u001b[39;00m\u001b[39m was passed.\u001b[39m\u001b[39m\"\u001b[39m\u001b[39m.\u001b[39mformat(scoring)\n\u001b[0;32m    512\u001b[0m     )\n",
      "\u001b[1;31mTypeError\u001b[0m: If no scoring is specified, the estimator passed should have a 'score' method. The estimator <keras.engine.sequential.Sequential object at 0x000001552A62AFA0> does not."
     ]
    }
   ],
   "source": [
    "# This will throw an error.\n",
    "\n",
    "cross_val_score(model, X_pure_train, y_pure_train)"
   ]
  },
  {
   "cell_type": "code",
   "execution_count": 34,
   "metadata": {
    "ExecuteTime": {
     "end_time": "2023-06-12T19:32:58.834328Z",
     "start_time": "2023-06-12T19:32:58.730299Z"
    }
   },
   "outputs": [],
   "source": [
    "def build_model():\n",
    "    model = Sequential()\n",
    "    model.add(Dense(12, activation='relu', input_dim=64))\n",
    "    model.add(Dense(8, activation='relu'))\n",
    "    model.add(Dense(4, activation='relu'))\n",
    "    model.add(Dense(1, activation = 'sigmoid'))\n",
    "\n",
    "    model.compile(optimizer='adam',\n",
    "                  loss='binary_crossentropy',\n",
    "                  metrics=['accuracy'])\n",
    "    return model"
   ]
  },
  {
   "cell_type": "code",
   "execution_count": 35,
   "metadata": {
    "ExecuteTime": {
     "end_time": "2023-06-12T19:32:59.976430Z",
     "start_time": "2023-06-12T19:32:59.865408Z"
    }
   },
   "outputs": [],
   "source": [
    "keras_model = KerasClassifier(build_model,\n",
    "                                          epochs=50,\n",
    "                                          batch_size=32,\n",
    "                                          verbose=2)"
   ]
  },
  {
   "cell_type": "code",
   "execution_count": 36,
   "metadata": {
    "ExecuteTime": {
     "end_time": "2023-06-12T19:33:02.033186Z",
     "start_time": "2023-06-12T19:33:01.922187Z"
    }
   },
   "outputs": [
    {
     "data": {
      "text/plain": [
       "scikeras.wrappers.KerasClassifier"
      ]
     },
     "execution_count": 36,
     "metadata": {},
     "output_type": "execute_result"
    }
   ],
   "source": [
    "type(keras_model)"
   ]
  },
  {
   "cell_type": "code",
   "execution_count": 37,
   "metadata": {
    "ExecuteTime": {
     "end_time": "2023-06-12T19:33:26.192775Z",
     "start_time": "2023-06-12T19:33:03.647753Z"
    }
   },
   "outputs": [
    {
     "name": "stdout",
     "output_type": "stream",
     "text": [
      "Epoch 1/50\n",
      "29/29 - 0s - loss: 0.6691 - accuracy: 0.5375 - 468ms/epoch - 16ms/step\n",
      "Epoch 2/50\n",
      "29/29 - 0s - loss: 0.6222 - accuracy: 0.7410 - 19ms/epoch - 654us/step\n",
      "Epoch 3/50\n",
      "29/29 - 0s - loss: 0.5515 - accuracy: 0.7954 - 19ms/epoch - 660us/step\n",
      "Epoch 4/50\n",
      "29/29 - 0s - loss: 0.4622 - accuracy: 0.8292 - 21ms/epoch - 737us/step\n",
      "Epoch 5/50\n",
      "29/29 - 0s - loss: 0.3753 - accuracy: 0.8651 - 20ms/epoch - 679us/step\n",
      "Epoch 6/50\n",
      "29/29 - 0s - loss: 0.3123 - accuracy: 0.8868 - 22ms/epoch - 749us/step\n",
      "Epoch 7/50\n",
      "29/29 - 0s - loss: 0.2676 - accuracy: 0.8988 - 19ms/epoch - 666us/step\n",
      "Epoch 8/50\n",
      "29/29 - 0s - loss: 0.2330 - accuracy: 0.9108 - 20ms/epoch - 705us/step\n",
      "Epoch 9/50\n",
      "29/29 - 0s - loss: 0.2059 - accuracy: 0.9195 - 21ms/epoch - 712us/step\n",
      "Epoch 10/50\n",
      "29/29 - 0s - loss: 0.1863 - accuracy: 0.9282 - 19ms/epoch - 659us/step\n",
      "Epoch 11/50\n",
      "29/29 - 0s - loss: 0.1688 - accuracy: 0.9369 - 21ms/epoch - 708us/step\n",
      "Epoch 12/50\n",
      "29/29 - 0s - loss: 0.1537 - accuracy: 0.9445 - 19ms/epoch - 645us/step\n",
      "Epoch 13/50\n",
      "29/29 - 0s - loss: 0.1428 - accuracy: 0.9467 - 20ms/epoch - 701us/step\n",
      "Epoch 14/50\n",
      "29/29 - 0s - loss: 0.1316 - accuracy: 0.9587 - 21ms/epoch - 713us/step\n",
      "Epoch 15/50\n",
      "29/29 - 0s - loss: 0.1307 - accuracy: 0.9478 - 20ms/epoch - 685us/step\n",
      "Epoch 16/50\n",
      "29/29 - 0s - loss: 0.1178 - accuracy: 0.9597 - 21ms/epoch - 734us/step\n",
      "Epoch 17/50\n",
      "29/29 - 0s - loss: 0.1146 - accuracy: 0.9576 - 26ms/epoch - 880us/step\n",
      "Epoch 18/50\n",
      "29/29 - 0s - loss: 0.1147 - accuracy: 0.9543 - 22ms/epoch - 769us/step\n",
      "Epoch 19/50\n",
      "29/29 - 0s - loss: 0.1103 - accuracy: 0.9554 - 20ms/epoch - 690us/step\n",
      "Epoch 20/50\n",
      "29/29 - 0s - loss: 0.0986 - accuracy: 0.9652 - 19ms/epoch - 644us/step\n",
      "Epoch 21/50\n",
      "29/29 - 0s - loss: 0.0944 - accuracy: 0.9630 - 19ms/epoch - 650us/step\n",
      "Epoch 22/50\n",
      "29/29 - 0s - loss: 0.0901 - accuracy: 0.9695 - 21ms/epoch - 741us/step\n",
      "Epoch 23/50\n",
      "29/29 - 0s - loss: 0.0889 - accuracy: 0.9630 - 19ms/epoch - 670us/step\n",
      "Epoch 24/50\n",
      "29/29 - 0s - loss: 0.0899 - accuracy: 0.9608 - 20ms/epoch - 687us/step\n",
      "Epoch 25/50\n",
      "29/29 - 0s - loss: 0.0855 - accuracy: 0.9663 - 21ms/epoch - 719us/step\n",
      "Epoch 26/50\n",
      "29/29 - 0s - loss: 0.0762 - accuracy: 0.9684 - 19ms/epoch - 659us/step\n",
      "Epoch 27/50\n",
      "29/29 - 0s - loss: 0.0766 - accuracy: 0.9641 - 20ms/epoch - 697us/step\n",
      "Epoch 28/50\n",
      "29/29 - 0s - loss: 0.0726 - accuracy: 0.9717 - 19ms/epoch - 668us/step\n",
      "Epoch 29/50\n",
      "29/29 - 0s - loss: 0.0690 - accuracy: 0.9750 - 21ms/epoch - 735us/step\n",
      "Epoch 30/50\n",
      "29/29 - 0s - loss: 0.0655 - accuracy: 0.9728 - 19ms/epoch - 663us/step\n",
      "Epoch 31/50\n",
      "29/29 - 0s - loss: 0.0619 - accuracy: 0.9728 - 20ms/epoch - 679us/step\n",
      "Epoch 32/50\n",
      "29/29 - 0s - loss: 0.0635 - accuracy: 0.9739 - 21ms/epoch - 707us/step\n",
      "Epoch 33/50\n",
      "29/29 - 0s - loss: 0.0563 - accuracy: 0.9761 - 19ms/epoch - 671us/step\n",
      "Epoch 34/50\n",
      "29/29 - 0s - loss: 0.0553 - accuracy: 0.9782 - 23ms/epoch - 783us/step\n",
      "Epoch 35/50\n",
      "29/29 - 0s - loss: 0.0535 - accuracy: 0.9837 - 18ms/epoch - 618us/step\n",
      "Epoch 36/50\n",
      "29/29 - 0s - loss: 0.0524 - accuracy: 0.9782 - 21ms/epoch - 722us/step\n",
      "Epoch 37/50\n",
      "29/29 - 0s - loss: 0.0482 - accuracy: 0.9848 - 20ms/epoch - 689us/step\n",
      "Epoch 38/50\n",
      "29/29 - 0s - loss: 0.0460 - accuracy: 0.9793 - 18ms/epoch - 612us/step\n",
      "Epoch 39/50\n",
      "29/29 - 0s - loss: 0.0461 - accuracy: 0.9848 - 17ms/epoch - 603us/step\n",
      "Epoch 40/50\n",
      "29/29 - 0s - loss: 0.0431 - accuracy: 0.9837 - 18ms/epoch - 629us/step\n",
      "Epoch 41/50\n",
      "29/29 - 0s - loss: 0.0425 - accuracy: 0.9869 - 20ms/epoch - 692us/step\n",
      "Epoch 42/50\n",
      "29/29 - 0s - loss: 0.0391 - accuracy: 0.9848 - 21ms/epoch - 718us/step\n",
      "Epoch 43/50\n",
      "29/29 - 0s - loss: 0.0387 - accuracy: 0.9869 - 25ms/epoch - 856us/step\n",
      "Epoch 44/50\n",
      "29/29 - 0s - loss: 0.0365 - accuracy: 0.9869 - 23ms/epoch - 781us/step\n",
      "Epoch 45/50\n",
      "29/29 - 0s - loss: 0.0358 - accuracy: 0.9902 - 22ms/epoch - 759us/step\n",
      "Epoch 46/50\n",
      "29/29 - 0s - loss: 0.0329 - accuracy: 0.9924 - 20ms/epoch - 675us/step\n",
      "Epoch 47/50\n",
      "29/29 - 0s - loss: 0.0313 - accuracy: 0.9924 - 22ms/epoch - 774us/step\n",
      "Epoch 48/50\n",
      "29/29 - 0s - loss: 0.0319 - accuracy: 0.9913 - 21ms/epoch - 713us/step\n",
      "Epoch 49/50\n",
      "29/29 - 0s - loss: 0.0289 - accuracy: 0.9956 - 20ms/epoch - 681us/step\n",
      "Epoch 50/50\n",
      "29/29 - 0s - loss: 0.0255 - accuracy: 0.9956 - 20ms/epoch - 693us/step\n",
      "8/8 - 0s - 63ms/epoch - 8ms/step\n",
      "Epoch 1/50\n",
      "29/29 - 0s - loss: 0.6630 - accuracy: 0.5985 - 465ms/epoch - 16ms/step\n",
      "Epoch 2/50\n",
      "29/29 - 0s - loss: 0.6203 - accuracy: 0.7334 - 21ms/epoch - 709us/step\n",
      "Epoch 3/50\n",
      "29/29 - 0s - loss: 0.5648 - accuracy: 0.8009 - 20ms/epoch - 686us/step\n",
      "Epoch 4/50\n",
      "29/29 - 0s - loss: 0.4942 - accuracy: 0.8411 - 25ms/epoch - 868us/step\n",
      "Epoch 5/50\n",
      "29/29 - 0s - loss: 0.4225 - accuracy: 0.8520 - 21ms/epoch - 722us/step\n",
      "Epoch 6/50\n",
      "29/29 - 0s - loss: 0.3565 - accuracy: 0.8760 - 20ms/epoch - 704us/step\n",
      "Epoch 7/50\n",
      "29/29 - 0s - loss: 0.3138 - accuracy: 0.8803 - 19ms/epoch - 664us/step\n",
      "Epoch 8/50\n",
      "29/29 - 0s - loss: 0.2815 - accuracy: 0.8934 - 19ms/epoch - 642us/step\n",
      "Epoch 9/50\n",
      "29/29 - 0s - loss: 0.2590 - accuracy: 0.8955 - 19ms/epoch - 661us/step\n",
      "Epoch 10/50\n",
      "29/29 - 0s - loss: 0.2449 - accuracy: 0.8988 - 21ms/epoch - 723us/step\n",
      "Epoch 11/50\n",
      "29/29 - 0s - loss: 0.2299 - accuracy: 0.9064 - 20ms/epoch - 701us/step\n",
      "Epoch 12/50\n",
      "29/29 - 0s - loss: 0.2183 - accuracy: 0.9075 - 20ms/epoch - 704us/step\n",
      "Epoch 13/50\n",
      "29/29 - 0s - loss: 0.2080 - accuracy: 0.9097 - 21ms/epoch - 720us/step\n",
      "Epoch 14/50\n",
      "29/29 - 0s - loss: 0.2002 - accuracy: 0.9075 - 19ms/epoch - 650us/step\n",
      "Epoch 15/50\n",
      "29/29 - 0s - loss: 0.1900 - accuracy: 0.9140 - 20ms/epoch - 674us/step\n",
      "Epoch 16/50\n",
      "29/29 - 0s - loss: 0.1819 - accuracy: 0.9151 - 21ms/epoch - 713us/step\n",
      "Epoch 17/50\n",
      "29/29 - 0s - loss: 0.1757 - accuracy: 0.9151 - 19ms/epoch - 662us/step\n",
      "Epoch 18/50\n",
      "29/29 - 0s - loss: 0.1661 - accuracy: 0.9260 - 21ms/epoch - 709us/step\n",
      "Epoch 19/50\n",
      "29/29 - 0s - loss: 0.1617 - accuracy: 0.9249 - 20ms/epoch - 690us/step\n",
      "Epoch 20/50\n",
      "29/29 - 0s - loss: 0.1511 - accuracy: 0.9347 - 21ms/epoch - 731us/step\n",
      "Epoch 21/50\n",
      "29/29 - 0s - loss: 0.1451 - accuracy: 0.9369 - 19ms/epoch - 656us/step\n",
      "Epoch 22/50\n",
      "29/29 - 0s - loss: 0.1395 - accuracy: 0.9391 - 21ms/epoch - 725us/step\n",
      "Epoch 23/50\n",
      "29/29 - 0s - loss: 0.1276 - accuracy: 0.9423 - 19ms/epoch - 666us/step\n",
      "Epoch 24/50\n",
      "29/29 - 0s - loss: 0.1259 - accuracy: 0.9456 - 17ms/epoch - 579us/step\n",
      "Epoch 25/50\n",
      "29/29 - 0s - loss: 0.1193 - accuracy: 0.9478 - 26ms/epoch - 900us/step\n",
      "Epoch 26/50\n",
      "29/29 - 0s - loss: 0.1131 - accuracy: 0.9543 - 18ms/epoch - 634us/step\n",
      "Epoch 27/50\n",
      "29/29 - 0s - loss: 0.1118 - accuracy: 0.9543 - 18ms/epoch - 632us/step\n",
      "Epoch 28/50\n",
      "29/29 - 0s - loss: 0.1021 - accuracy: 0.9576 - 20ms/epoch - 705us/step\n",
      "Epoch 29/50\n",
      "29/29 - 0s - loss: 0.1018 - accuracy: 0.9543 - 19ms/epoch - 671us/step\n",
      "Epoch 30/50\n",
      "29/29 - 0s - loss: 0.0938 - accuracy: 0.9630 - 21ms/epoch - 730us/step\n",
      "Epoch 31/50\n",
      "29/29 - 0s - loss: 0.0899 - accuracy: 0.9652 - 22ms/epoch - 749us/step\n",
      "Epoch 32/50\n",
      "29/29 - 0s - loss: 0.0897 - accuracy: 0.9608 - 19ms/epoch - 653us/step\n",
      "Epoch 33/50\n",
      "29/29 - 0s - loss: 0.0822 - accuracy: 0.9728 - 21ms/epoch - 722us/step\n",
      "Epoch 34/50\n",
      "29/29 - 0s - loss: 0.0832 - accuracy: 0.9684 - 23ms/epoch - 793us/step\n",
      "Epoch 35/50\n",
      "29/29 - 0s - loss: 0.0838 - accuracy: 0.9619 - 20ms/epoch - 682us/step\n",
      "Epoch 36/50\n",
      "29/29 - 0s - loss: 0.0768 - accuracy: 0.9717 - 19ms/epoch - 654us/step\n",
      "Epoch 37/50\n",
      "29/29 - 0s - loss: 0.0705 - accuracy: 0.9761 - 19ms/epoch - 664us/step\n",
      "Epoch 38/50\n",
      "29/29 - 0s - loss: 0.0680 - accuracy: 0.9750 - 22ms/epoch - 744us/step\n",
      "Epoch 39/50\n",
      "29/29 - 0s - loss: 0.0675 - accuracy: 0.9804 - 21ms/epoch - 726us/step\n",
      "Epoch 40/50\n",
      "29/29 - 0s - loss: 0.0654 - accuracy: 0.9739 - 19ms/epoch - 650us/step\n",
      "Epoch 41/50\n",
      "29/29 - 0s - loss: 0.0603 - accuracy: 0.9793 - 17ms/epoch - 601us/step\n",
      "Epoch 42/50\n",
      "29/29 - 0s - loss: 0.0602 - accuracy: 0.9815 - 18ms/epoch - 627us/step\n",
      "Epoch 43/50\n",
      "29/29 - 0s - loss: 0.0560 - accuracy: 0.9826 - 18ms/epoch - 622us/step\n",
      "Epoch 44/50\n",
      "29/29 - 0s - loss: 0.0539 - accuracy: 0.9826 - 19ms/epoch - 638us/step\n",
      "Epoch 45/50\n",
      "29/29 - 0s - loss: 0.0544 - accuracy: 0.9837 - 18ms/epoch - 631us/step\n",
      "Epoch 46/50\n",
      "29/29 - 0s - loss: 0.0519 - accuracy: 0.9848 - 20ms/epoch - 689us/step\n",
      "Epoch 47/50\n",
      "29/29 - 0s - loss: 0.0487 - accuracy: 0.9869 - 19ms/epoch - 654us/step\n",
      "Epoch 48/50\n",
      "29/29 - 0s - loss: 0.0466 - accuracy: 0.9869 - 17ms/epoch - 597us/step\n",
      "Epoch 49/50\n",
      "29/29 - 0s - loss: 0.0449 - accuracy: 0.9891 - 20ms/epoch - 672us/step\n",
      "Epoch 50/50\n",
      "29/29 - 0s - loss: 0.0436 - accuracy: 0.9891 - 20ms/epoch - 700us/step\n",
      "8/8 - 0s - 40ms/epoch - 5ms/step\n",
      "Epoch 1/50\n",
      "29/29 - 0s - loss: 0.6874 - accuracy: 0.5680 - 447ms/epoch - 15ms/step\n",
      "Epoch 2/50\n",
      "29/29 - 0s - loss: 0.6477 - accuracy: 0.7476 - 19ms/epoch - 650us/step\n",
      "Epoch 3/50\n",
      "29/29 - 0s - loss: 0.5603 - accuracy: 0.8063 - 23ms/epoch - 804us/step\n",
      "Epoch 4/50\n",
      "29/29 - 0s - loss: 0.4701 - accuracy: 0.8662 - 17ms/epoch - 601us/step\n",
      "Epoch 5/50\n",
      "29/29 - 0s - loss: 0.3941 - accuracy: 0.8814 - 20ms/epoch - 678us/step\n",
      "Epoch 6/50\n",
      "29/29 - 0s - loss: 0.3294 - accuracy: 0.8923 - 18ms/epoch - 625us/step\n",
      "Epoch 7/50\n",
      "29/29 - 0s - loss: 0.2857 - accuracy: 0.8966 - 21ms/epoch - 717us/step\n",
      "Epoch 8/50\n",
      "29/29 - 0s - loss: 0.2555 - accuracy: 0.9032 - 17ms/epoch - 600us/step\n",
      "Epoch 9/50\n",
      "29/29 - 0s - loss: 0.2300 - accuracy: 0.9064 - 19ms/epoch - 654us/step\n",
      "Epoch 10/50\n",
      "29/29 - 0s - loss: 0.2128 - accuracy: 0.9140 - 18ms/epoch - 631us/step\n",
      "Epoch 11/50\n",
      "29/29 - 0s - loss: 0.1985 - accuracy: 0.9140 - 17ms/epoch - 597us/step\n",
      "Epoch 12/50\n",
      "29/29 - 0s - loss: 0.1857 - accuracy: 0.9151 - 26ms/epoch - 897us/step\n",
      "Epoch 13/50\n",
      "29/29 - 0s - loss: 0.1771 - accuracy: 0.9249 - 20ms/epoch - 682us/step\n",
      "Epoch 14/50\n",
      "29/29 - 0s - loss: 0.1670 - accuracy: 0.9293 - 21ms/epoch - 732us/step\n",
      "Epoch 15/50\n",
      "29/29 - 0s - loss: 0.1491 - accuracy: 0.9314 - 20ms/epoch - 679us/step\n",
      "Epoch 16/50\n",
      "29/29 - 0s - loss: 0.1408 - accuracy: 0.9336 - 20ms/epoch - 682us/step\n",
      "Epoch 17/50\n",
      "29/29 - 0s - loss: 0.1316 - accuracy: 0.9412 - 18ms/epoch - 636us/step\n",
      "Epoch 18/50\n",
      "29/29 - 0s - loss: 0.1276 - accuracy: 0.9445 - 19ms/epoch - 645us/step\n",
      "Epoch 19/50\n",
      "29/29 - 0s - loss: 0.1227 - accuracy: 0.9478 - 21ms/epoch - 725us/step\n",
      "Epoch 20/50\n",
      "29/29 - 0s - loss: 0.1152 - accuracy: 0.9532 - 22ms/epoch - 754us/step\n",
      "Epoch 21/50\n",
      "29/29 - 0s - loss: 0.1104 - accuracy: 0.9543 - 19ms/epoch - 649us/step\n",
      "Epoch 22/50\n",
      "29/29 - 0s - loss: 0.1048 - accuracy: 0.9576 - 21ms/epoch - 712us/step\n",
      "Epoch 23/50\n",
      "29/29 - 0s - loss: 0.0990 - accuracy: 0.9630 - 20ms/epoch - 705us/step\n",
      "Epoch 24/50\n",
      "29/29 - 0s - loss: 0.0961 - accuracy: 0.9652 - 18ms/epoch - 636us/step\n",
      "Epoch 25/50\n",
      "29/29 - 0s - loss: 0.0928 - accuracy: 0.9674 - 20ms/epoch - 685us/step\n",
      "Epoch 26/50\n",
      "29/29 - 0s - loss: 0.0926 - accuracy: 0.9663 - 24ms/epoch - 833us/step\n",
      "Epoch 27/50\n",
      "29/29 - 0s - loss: 0.0850 - accuracy: 0.9695 - 26ms/epoch - 881us/step\n",
      "Epoch 28/50\n",
      "29/29 - 0s - loss: 0.0823 - accuracy: 0.9761 - 19ms/epoch - 660us/step\n",
      "Epoch 29/50\n",
      "29/29 - 0s - loss: 0.0785 - accuracy: 0.9761 - 18ms/epoch - 622us/step\n",
      "Epoch 30/50\n",
      "29/29 - 0s - loss: 0.0768 - accuracy: 0.9771 - 19ms/epoch - 652us/step\n",
      "Epoch 31/50\n",
      "29/29 - 0s - loss: 0.0761 - accuracy: 0.9728 - 19ms/epoch - 641us/step\n",
      "Epoch 32/50\n",
      "29/29 - 0s - loss: 0.0698 - accuracy: 0.9793 - 18ms/epoch - 627us/step\n",
      "Epoch 33/50\n",
      "29/29 - 0s - loss: 0.0673 - accuracy: 0.9804 - 18ms/epoch - 615us/step\n",
      "Epoch 34/50\n",
      "29/29 - 0s - loss: 0.0650 - accuracy: 0.9761 - 18ms/epoch - 626us/step\n",
      "Epoch 35/50\n",
      "29/29 - 0s - loss: 0.0625 - accuracy: 0.9771 - 20ms/epoch - 694us/step\n",
      "Epoch 36/50\n",
      "29/29 - 0s - loss: 0.0608 - accuracy: 0.9782 - 17ms/epoch - 600us/step\n",
      "Epoch 37/50\n",
      "29/29 - 0s - loss: 0.0561 - accuracy: 0.9815 - 18ms/epoch - 608us/step\n",
      "Epoch 38/50\n",
      "29/29 - 0s - loss: 0.0533 - accuracy: 0.9837 - 19ms/epoch - 650us/step\n",
      "Epoch 39/50\n",
      "29/29 - 0s - loss: 0.0519 - accuracy: 0.9859 - 19ms/epoch - 642us/step\n",
      "Epoch 40/50\n",
      "29/29 - 0s - loss: 0.0516 - accuracy: 0.9837 - 17ms/epoch - 580us/step\n",
      "Epoch 41/50\n",
      "29/29 - 0s - loss: 0.0503 - accuracy: 0.9848 - 18ms/epoch - 626us/step\n",
      "Epoch 42/50\n",
      "29/29 - 0s - loss: 0.0475 - accuracy: 0.9859 - 17ms/epoch - 579us/step\n",
      "Epoch 43/50\n",
      "29/29 - 0s - loss: 0.0450 - accuracy: 0.9869 - 19ms/epoch - 667us/step\n",
      "Epoch 44/50\n",
      "29/29 - 0s - loss: 0.0442 - accuracy: 0.9848 - 19ms/epoch - 671us/step\n",
      "Epoch 45/50\n",
      "29/29 - 0s - loss: 0.0436 - accuracy: 0.9837 - 17ms/epoch - 585us/step\n",
      "Epoch 46/50\n",
      "29/29 - 0s - loss: 0.0420 - accuracy: 0.9859 - 19ms/epoch - 647us/step\n",
      "Epoch 47/50\n",
      "29/29 - 0s - loss: 0.0378 - accuracy: 0.9869 - 17ms/epoch - 587us/step\n",
      "Epoch 48/50\n",
      "29/29 - 0s - loss: 0.0364 - accuracy: 0.9848 - 18ms/epoch - 631us/step\n",
      "Epoch 49/50\n",
      "29/29 - 0s - loss: 0.0363 - accuracy: 0.9880 - 22ms/epoch - 767us/step\n",
      "Epoch 50/50\n",
      "29/29 - 0s - loss: 0.0336 - accuracy: 0.9902 - 19ms/epoch - 659us/step\n",
      "8/8 - 0s - 39ms/epoch - 5ms/step\n",
      "Epoch 1/50\n",
      "29/29 - 0s - loss: 0.6787 - accuracy: 0.5103 - 467ms/epoch - 16ms/step\n",
      "Epoch 2/50\n",
      "29/29 - 0s - loss: 0.6417 - accuracy: 0.5898 - 22ms/epoch - 768us/step\n",
      "Epoch 3/50\n",
      "29/29 - 0s - loss: 0.6057 - accuracy: 0.6681 - 20ms/epoch - 680us/step\n",
      "Epoch 4/50\n",
      "29/29 - 0s - loss: 0.5704 - accuracy: 0.7715 - 20ms/epoch - 697us/step\n",
      "Epoch 5/50\n",
      "29/29 - 0s - loss: 0.5383 - accuracy: 0.7933 - 21ms/epoch - 718us/step\n",
      "Epoch 6/50\n",
      "29/29 - 0s - loss: 0.5044 - accuracy: 0.8172 - 19ms/epoch - 657us/step\n",
      "Epoch 7/50\n",
      "29/29 - 0s - loss: 0.4688 - accuracy: 0.8400 - 19ms/epoch - 647us/step\n",
      "Epoch 8/50\n",
      "29/29 - 0s - loss: 0.4243 - accuracy: 0.8542 - 19ms/epoch - 670us/step\n",
      "Epoch 9/50\n",
      "29/29 - 0s - loss: 0.3771 - accuracy: 0.8770 - 18ms/epoch - 617us/step\n",
      "Epoch 10/50\n",
      "29/29 - 0s - loss: 0.3289 - accuracy: 0.8705 - 19ms/epoch - 647us/step\n",
      "Epoch 11/50\n",
      "29/29 - 0s - loss: 0.2936 - accuracy: 0.8836 - 22ms/epoch - 759us/step\n",
      "Epoch 12/50\n",
      "29/29 - 0s - loss: 0.2650 - accuracy: 0.8912 - 23ms/epoch - 803us/step\n",
      "Epoch 13/50\n",
      "29/29 - 0s - loss: 0.2424 - accuracy: 0.9097 - 20ms/epoch - 688us/step\n",
      "Epoch 14/50\n",
      "29/29 - 0s - loss: 0.2247 - accuracy: 0.9140 - 17ms/epoch - 598us/step\n",
      "Epoch 15/50\n",
      "29/29 - 0s - loss: 0.2089 - accuracy: 0.9119 - 18ms/epoch - 615us/step\n",
      "Epoch 16/50\n",
      "29/29 - 0s - loss: 0.1979 - accuracy: 0.9184 - 20ms/epoch - 687us/step\n",
      "Epoch 17/50\n",
      "29/29 - 0s - loss: 0.1839 - accuracy: 0.9282 - 18ms/epoch - 617us/step\n",
      "Epoch 18/50\n",
      "29/29 - 0s - loss: 0.1726 - accuracy: 0.9304 - 20ms/epoch - 694us/step\n",
      "Epoch 19/50\n",
      "29/29 - 0s - loss: 0.1701 - accuracy: 0.9336 - 19ms/epoch - 650us/step\n",
      "Epoch 20/50\n",
      "29/29 - 0s - loss: 0.1547 - accuracy: 0.9391 - 18ms/epoch - 637us/step\n",
      "Epoch 21/50\n",
      "29/29 - 0s - loss: 0.1465 - accuracy: 0.9434 - 20ms/epoch - 693us/step\n",
      "Epoch 22/50\n",
      "29/29 - 0s - loss: 0.1388 - accuracy: 0.9402 - 18ms/epoch - 606us/step\n",
      "Epoch 23/50\n",
      "29/29 - 0s - loss: 0.1366 - accuracy: 0.9489 - 19ms/epoch - 641us/step\n",
      "Epoch 24/50\n",
      "29/29 - 0s - loss: 0.1310 - accuracy: 0.9478 - 19ms/epoch - 658us/step\n",
      "Epoch 25/50\n",
      "29/29 - 0s - loss: 0.1265 - accuracy: 0.9499 - 20ms/epoch - 695us/step\n",
      "Epoch 26/50\n",
      "29/29 - 0s - loss: 0.1197 - accuracy: 0.9565 - 19ms/epoch - 650us/step\n",
      "Epoch 27/50\n",
      "29/29 - 0s - loss: 0.1155 - accuracy: 0.9543 - 20ms/epoch - 683us/step\n",
      "Epoch 28/50\n",
      "29/29 - 0s - loss: 0.1097 - accuracy: 0.9608 - 18ms/epoch - 634us/step\n",
      "Epoch 29/50\n",
      "29/29 - 0s - loss: 0.1040 - accuracy: 0.9587 - 19ms/epoch - 645us/step\n",
      "Epoch 30/50\n",
      "29/29 - 0s - loss: 0.1005 - accuracy: 0.9597 - 17ms/epoch - 596us/step\n",
      "Epoch 31/50\n",
      "29/29 - 0s - loss: 0.1009 - accuracy: 0.9641 - 17ms/epoch - 589us/step\n",
      "Epoch 32/50\n",
      "29/29 - 0s - loss: 0.0942 - accuracy: 0.9619 - 20ms/epoch - 704us/step\n",
      "Epoch 33/50\n",
      "29/29 - 0s - loss: 0.0927 - accuracy: 0.9652 - 18ms/epoch - 607us/step\n",
      "Epoch 34/50\n",
      "29/29 - 0s - loss: 0.0872 - accuracy: 0.9674 - 18ms/epoch - 636us/step\n",
      "Epoch 35/50\n",
      "29/29 - 0s - loss: 0.0838 - accuracy: 0.9674 - 19ms/epoch - 652us/step\n",
      "Epoch 36/50\n",
      "29/29 - 0s - loss: 0.0829 - accuracy: 0.9684 - 19ms/epoch - 643us/step\n",
      "Epoch 37/50\n",
      "29/29 - 0s - loss: 0.0783 - accuracy: 0.9739 - 18ms/epoch - 628us/step\n",
      "Epoch 38/50\n",
      "29/29 - 0s - loss: 0.0757 - accuracy: 0.9717 - 23ms/epoch - 782us/step\n",
      "Epoch 39/50\n",
      "29/29 - 0s - loss: 0.0718 - accuracy: 0.9728 - 18ms/epoch - 623us/step\n",
      "Epoch 40/50\n",
      "29/29 - 0s - loss: 0.0709 - accuracy: 0.9739 - 18ms/epoch - 622us/step\n",
      "Epoch 41/50\n",
      "29/29 - 0s - loss: 0.0668 - accuracy: 0.9804 - 18ms/epoch - 638us/step\n",
      "Epoch 42/50\n",
      "29/29 - 0s - loss: 0.0654 - accuracy: 0.9782 - 19ms/epoch - 659us/step\n",
      "Epoch 43/50\n",
      "29/29 - 0s - loss: 0.0623 - accuracy: 0.9782 - 18ms/epoch - 636us/step\n",
      "Epoch 44/50\n",
      "29/29 - 0s - loss: 0.0602 - accuracy: 0.9793 - 19ms/epoch - 647us/step\n",
      "Epoch 45/50\n",
      "29/29 - 0s - loss: 0.0590 - accuracy: 0.9815 - 19ms/epoch - 654us/step\n",
      "Epoch 46/50\n",
      "29/29 - 0s - loss: 0.0542 - accuracy: 0.9848 - 19ms/epoch - 647us/step\n",
      "Epoch 47/50\n",
      "29/29 - 0s - loss: 0.0554 - accuracy: 0.9837 - 19ms/epoch - 643us/step\n",
      "Epoch 48/50\n",
      "29/29 - 0s - loss: 0.0515 - accuracy: 0.9837 - 19ms/epoch - 647us/step\n",
      "Epoch 49/50\n",
      "29/29 - 0s - loss: 0.0498 - accuracy: 0.9848 - 20ms/epoch - 677us/step\n",
      "Epoch 50/50\n",
      "29/29 - 0s - loss: 0.0477 - accuracy: 0.9869 - 20ms/epoch - 689us/step\n",
      "8/8 - 0s - 39ms/epoch - 5ms/step\n",
      "Epoch 1/50\n",
      "29/29 - 0s - loss: 0.6893 - accuracy: 0.4978 - 463ms/epoch - 16ms/step\n",
      "Epoch 2/50\n",
      "29/29 - 0s - loss: 0.6611 - accuracy: 0.5141 - 18ms/epoch - 631us/step\n",
      "Epoch 3/50\n",
      "29/29 - 0s - loss: 0.6240 - accuracy: 0.6130 - 21ms/epoch - 732us/step\n",
      "Epoch 4/50\n",
      "29/29 - 0s - loss: 0.5829 - accuracy: 0.7326 - 21ms/epoch - 735us/step\n",
      "Epoch 5/50\n",
      "29/29 - 0s - loss: 0.5442 - accuracy: 0.8043 - 18ms/epoch - 617us/step\n",
      "Epoch 6/50\n",
      "29/29 - 0s - loss: 0.5070 - accuracy: 0.8543 - 19ms/epoch - 664us/step\n",
      "Epoch 7/50\n",
      "29/29 - 0s - loss: 0.4756 - accuracy: 0.8750 - 18ms/epoch - 618us/step\n",
      "Epoch 8/50\n",
      "29/29 - 0s - loss: 0.4509 - accuracy: 0.8946 - 19ms/epoch - 650us/step\n",
      "Epoch 9/50\n",
      "29/29 - 0s - loss: 0.4289 - accuracy: 0.9130 - 20ms/epoch - 675us/step\n",
      "Epoch 10/50\n",
      "29/29 - 0s - loss: 0.4100 - accuracy: 0.9152 - 17ms/epoch - 595us/step\n",
      "Epoch 11/50\n",
      "29/29 - 0s - loss: 0.3933 - accuracy: 0.9283 - 19ms/epoch - 659us/step\n",
      "Epoch 12/50\n",
      "29/29 - 0s - loss: 0.3779 - accuracy: 0.9370 - 18ms/epoch - 622us/step\n",
      "Epoch 13/50\n",
      "29/29 - 0s - loss: 0.3639 - accuracy: 0.9380 - 19ms/epoch - 668us/step\n",
      "Epoch 14/50\n",
      "29/29 - 0s - loss: 0.3515 - accuracy: 0.9467 - 18ms/epoch - 607us/step\n",
      "Epoch 15/50\n",
      "29/29 - 0s - loss: 0.3396 - accuracy: 0.9500 - 18ms/epoch - 626us/step\n",
      "Epoch 16/50\n",
      "29/29 - 0s - loss: 0.3280 - accuracy: 0.9630 - 18ms/epoch - 635us/step\n",
      "Epoch 17/50\n",
      "29/29 - 0s - loss: 0.3195 - accuracy: 0.9565 - 19ms/epoch - 638us/step\n",
      "Epoch 18/50\n",
      "29/29 - 0s - loss: 0.3071 - accuracy: 0.9652 - 21ms/epoch - 723us/step\n",
      "Epoch 19/50\n",
      "29/29 - 0s - loss: 0.2971 - accuracy: 0.9685 - 20ms/epoch - 684us/step\n",
      "Epoch 20/50\n",
      "29/29 - 0s - loss: 0.2880 - accuracy: 0.9739 - 16ms/epoch - 554us/step\n",
      "Epoch 21/50\n",
      "29/29 - 0s - loss: 0.2791 - accuracy: 0.9728 - 18ms/epoch - 628us/step\n",
      "Epoch 22/50\n",
      "29/29 - 0s - loss: 0.2735 - accuracy: 0.9685 - 21ms/epoch - 714us/step\n",
      "Epoch 23/50\n",
      "29/29 - 0s - loss: 0.2655 - accuracy: 0.9728 - 18ms/epoch - 609us/step\n",
      "Epoch 24/50\n",
      "29/29 - 0s - loss: 0.2567 - accuracy: 0.9761 - 17ms/epoch - 601us/step\n",
      "Epoch 25/50\n",
      "29/29 - 0s - loss: 0.2499 - accuracy: 0.9772 - 19ms/epoch - 667us/step\n",
      "Epoch 26/50\n",
      "29/29 - 0s - loss: 0.2436 - accuracy: 0.9772 - 20ms/epoch - 681us/step\n",
      "Epoch 27/50\n",
      "29/29 - 0s - loss: 0.2369 - accuracy: 0.9793 - 19ms/epoch - 652us/step\n",
      "Epoch 28/50\n",
      "29/29 - 0s - loss: 0.2313 - accuracy: 0.9815 - 20ms/epoch - 689us/step\n",
      "Epoch 29/50\n",
      "29/29 - 0s - loss: 0.2259 - accuracy: 0.9826 - 19ms/epoch - 653us/step\n",
      "Epoch 30/50\n",
      "29/29 - 0s - loss: 0.2198 - accuracy: 0.9804 - 16ms/epoch - 559us/step\n",
      "Epoch 31/50\n",
      "29/29 - 0s - loss: 0.2140 - accuracy: 0.9815 - 17ms/epoch - 586us/step\n",
      "Epoch 32/50\n",
      "29/29 - 0s - loss: 0.2085 - accuracy: 0.9837 - 21ms/epoch - 726us/step\n",
      "Epoch 33/50\n",
      "29/29 - 0s - loss: 0.2049 - accuracy: 0.9848 - 18ms/epoch - 618us/step\n",
      "Epoch 34/50\n",
      "29/29 - 0s - loss: 0.1998 - accuracy: 0.9837 - 25ms/epoch - 852us/step\n",
      "Epoch 35/50\n",
      "29/29 - 0s - loss: 0.1966 - accuracy: 0.9815 - 21ms/epoch - 721us/step\n",
      "Epoch 36/50\n",
      "29/29 - 0s - loss: 0.1910 - accuracy: 0.9848 - 22ms/epoch - 763us/step\n",
      "Epoch 37/50\n",
      "29/29 - 0s - loss: 0.1864 - accuracy: 0.9815 - 18ms/epoch - 607us/step\n",
      "Epoch 38/50\n",
      "29/29 - 0s - loss: 0.1818 - accuracy: 0.9870 - 19ms/epoch - 649us/step\n",
      "Epoch 39/50\n",
      "29/29 - 0s - loss: 0.1769 - accuracy: 0.9870 - 19ms/epoch - 664us/step\n",
      "Epoch 40/50\n",
      "29/29 - 0s - loss: 0.1728 - accuracy: 0.9891 - 18ms/epoch - 622us/step\n",
      "Epoch 41/50\n",
      "29/29 - 0s - loss: 0.1688 - accuracy: 0.9870 - 18ms/epoch - 622us/step\n",
      "Epoch 42/50\n",
      "29/29 - 0s - loss: 0.1669 - accuracy: 0.9913 - 19ms/epoch - 656us/step\n",
      "Epoch 43/50\n",
      "29/29 - 0s - loss: 0.1616 - accuracy: 0.9891 - 17ms/epoch - 581us/step\n",
      "Epoch 44/50\n",
      "29/29 - 0s - loss: 0.1585 - accuracy: 0.9891 - 20ms/epoch - 702us/step\n",
      "Epoch 45/50\n",
      "29/29 - 0s - loss: 0.1555 - accuracy: 0.9902 - 18ms/epoch - 628us/step\n",
      "Epoch 46/50\n",
      "29/29 - 0s - loss: 0.1513 - accuracy: 0.9924 - 25ms/epoch - 865us/step\n",
      "Epoch 47/50\n",
      "29/29 - 0s - loss: 0.1489 - accuracy: 0.9924 - 19ms/epoch - 642us/step\n",
      "Epoch 48/50\n",
      "29/29 - 0s - loss: 0.1455 - accuracy: 0.9935 - 18ms/epoch - 607us/step\n",
      "Epoch 49/50\n",
      "29/29 - 0s - loss: 0.1412 - accuracy: 0.9935 - 19ms/epoch - 656us/step\n",
      "Epoch 50/50\n",
      "29/29 - 0s - loss: 0.1385 - accuracy: 0.9924 - 19ms/epoch - 649us/step\n",
      "8/8 - 0s - 41ms/epoch - 5ms/step\n"
     ]
    },
    {
     "data": {
      "text/plain": [
       "array([0.96521739, 0.95652174, 0.95652174, 0.95652174, 0.95633188])"
      ]
     },
     "execution_count": 37,
     "metadata": {},
     "output_type": "execute_result"
    }
   ],
   "source": [
    "cross_val_score(keras_model, X_pure_train, y_pure_train)"
   ]
  },
  {
   "attachments": {},
   "cell_type": "markdown",
   "metadata": {},
   "source": [
    "## Regularization"
   ]
  },
  {
   "attachments": {},
   "cell_type": "markdown",
   "metadata": {},
   "source": [
    "Does regularization make sense in the context of neural networks? <br/>\n",
    "\n",
    "Yes! We still have all of the salient ingredients: a loss function, overfitting vs. underfitting, and coefficients (weights) that could get too large.\n",
    "\n",
    "But there are now a few different flavors besides L1 and L2 regularization. (Note that L1 regularization is not common in the context of  neural networks.)\n",
    "\n",
    "We'll add a few more layers to give regularization a better chance of making a difference!"
   ]
  },
  {
   "cell_type": "code",
   "execution_count": 38,
   "metadata": {
    "ExecuteTime": {
     "end_time": "2023-06-12T19:33:33.872825Z",
     "start_time": "2023-06-12T19:33:30.131824Z"
    }
   },
   "outputs": [
    {
     "data": {
      "image/png": "[encoded data removed]",
      "text/plain": [
       "<Figure size 1000x500 with 2 Axes>"
      ]
     },
     "metadata": {},
     "output_type": "display_data"
    }
   ],
   "source": [
    "model = Sequential()\n",
    "model.add(Dense(30, activation='relu', input_dim=64))\n",
    "\n",
    "# We can add L2 (or L1) regularization right into\n",
    "# the layer with the kernel_regularizer parameter.\n",
    "\n",
    "model.add(Dense(20, activation='relu',\n",
    "                kernel_regularizer=l2(l2=0.05)))\n",
    "\n",
    "# Note that there is also a bias_regularizer,\n",
    "# but this tends to have less effect.\n",
    "\n",
    "model.add(Dense(12, activation='relu'))\n",
    "model.add(Dense(12, activation='relu'))\n",
    "model.add(Dense(12, activation='relu'))\n",
    "model.add(Dense(8, activation='relu'))\n",
    "model.add(Dense(4, activation='relu'))\n",
    "model.add(Dense(1, activation ='sigmoid'))\n",
    "\n",
    "model.compile(optimizer='adam',\n",
    "              loss='binary_crossentropy',\n",
    "              metrics=['accuracy'])\n",
    "\n",
    "results = model.fit(X_pure_train, y_pure_train, epochs=20, batch_size=32,\n",
    "                    verbose=0, validation_data=(X_val, y_val))\n",
    "\n",
    "train_loss = results.history['loss']\n",
    "train_acc = results.history['accuracy']\n",
    "val_loss = results.history['val_loss']\n",
    "val_acc = results.history['val_accuracy']\n",
    "\n",
    "\n",
    "fig, (ax1, ax2) = plt.subplots(1, 2, figsize=(10, 5))\n",
    "sns.lineplot(x=results.epoch, y=train_loss, ax=ax1, label='train_loss')\n",
    "sns.lineplot(x=results.epoch, y=train_acc, ax=ax2, label='train_accuracy')\n",
    "\n",
    "sns.lineplot(x=results.epoch, y=val_loss, ax=ax1, label='val_loss')\n",
    "sns.lineplot(x=results.epoch, y=val_acc, ax=ax2, label='val_accuracy');"
   ]
  },
  {
   "attachments": {},
   "cell_type": "markdown",
   "metadata": {},
   "source": [
    "Adding L2 to multiple layers:"
   ]
  },
  {
   "cell_type": "code",
   "execution_count": 39,
   "metadata": {
    "ExecuteTime": {
     "end_time": "2023-06-12T19:33:39.018732Z",
     "start_time": "2023-06-12T19:33:34.868769Z"
    }
   },
   "outputs": [
    {
     "data": {
      "image/png": "[encoded data removed]",
      "text/plain": [
       "<Figure size 1000x500 with 2 Axes>"
      ]
     },
     "metadata": {},
     "output_type": "display_data"
    }
   ],
   "source": [
    "model = Sequential()\n",
    "model.add(Dense(30, activation='relu',\n",
    "                input_dim=64))\n",
    "model.add(Dense(20, activation='relu',\n",
    "                kernel_regularizer=l2(l2=0.01)))\n",
    "\n",
    "model.add(Dense(12, activation='relu',\n",
    "                kernel_regularizer=l2(l2=0.01)))\n",
    "model.add(Dense(12, activation='relu',\n",
    "                kernel_regularizer=l2(l2=0.01)))\n",
    "model.add(Dense(12, activation='relu',\n",
    "                kernel_regularizer=l2(l2=0.01)))\n",
    "model.add(Dense(8, activation='relu',\n",
    "                kernel_regularizer=l2(l2=0.01)))\n",
    "model.add(Dense(4, activation='relu',\n",
    "                kernel_regularizer=l2(l2=0.01)))\n",
    "model.add(Dense(1, activation='sigmoid'))\n",
    "\n",
    "model.compile(optimizer='adam',\n",
    "              loss='binary_crossentropy',\n",
    "              metrics=['accuracy'])\n",
    "\n",
    "results = model.fit(X_pure_train, y_pure_train, epochs=20, batch_size=32,\n",
    "                    verbose=0, validation_data=(X_val, y_val))\n",
    "\n",
    "train_loss = results.history['loss']\n",
    "train_acc = results.history['accuracy']\n",
    "val_loss = results.history['val_loss']\n",
    "val_acc = results.history['val_accuracy']\n",
    "\n",
    "\n",
    "fig, (ax1, ax2) = plt.subplots(1, 2, figsize=(10, 5))\n",
    "sns.lineplot(x=results.epoch, y=train_loss, ax=ax1, label='train_loss')\n",
    "sns.lineplot(x=results.epoch, y=train_acc, ax=ax2, label='train_accuracy')\n",
    "\n",
    "sns.lineplot(x=results.epoch, y=val_loss, ax=ax1, label='val_loss')\n",
    "sns.lineplot(x=results.epoch, y=val_acc, ax=ax2, label='val_accuracy');"
   ]
  },
  {
   "attachments": {},
   "cell_type": "markdown",
   "metadata": {},
   "source": [
    "### Dropout\n",
    "\n",
    "We can also specify a dropout layer in keras, which randomly shuts off different nodes during training. This can help to prevent overfitting.\n",
    "\n",
    "![drop_out](images/drop_out.png)"
   ]
  },
  {
   "attachments": {},
   "cell_type": "markdown",
   "metadata": {},
   "source": [
    "### Exercise\n",
    "\n",
    "To add dropout to a `keras` network, simply add it as though it were a layer. It will apply to the immediately preceding layer.\n",
    "\n",
    "Add Dropout to one or more layers below."
   ]
  },
  {
   "cell_type": "code",
   "execution_count": 40,
   "metadata": {
    "ExecuteTime": {
     "end_time": "2023-06-12T19:33:47.957908Z",
     "start_time": "2023-06-12T19:33:40.019305Z"
    },
    "scrolled": false
   },
   "outputs": [
    {
     "data": {
      "image/png": "[encoded data removed]",
      "text/plain": [
       "<Figure size 1000x500 with 2 Axes>"
      ]
     },
     "metadata": {},
     "output_type": "display_data"
    }
   ],
   "source": [
    "# model.add(Dropout(0.5))\n",
    "\n",
    "model = Sequential()\n",
    "model.add(Dense(30, activation='relu', input_dim=64))\n",
    "model.add(Dense(20, activation='relu'))\n",
    "model.add(Dropout(0.5))\n",
    "model.add(Dense(12, activation='relu'))\n",
    "model.add(Dropout(0.2))\n",
    "model.add(Dense(12, activation='relu'))\n",
    "model.add(Dense(12, activation='relu'))\n",
    "model.add(Dense(8, activation='relu'))\n",
    "model.add(Dense(4, activation='relu'))\n",
    "model.add(Dense(1, activation ='sigmoid'))\n",
    "\n",
    "model.compile(optimizer='adam',\n",
    "              loss='binary_crossentropy',\n",
    "              metrics=['accuracy'])\n",
    "\n",
    "results = model.fit(X_pure_train, y_pure_train, epochs=50,\n",
    "                    batch_size= 32, verbose=0,\n",
    "                    validation_data=(X_val, y_val))\n",
    "\n",
    "\n",
    "\n",
    "\n",
    "\n",
    "\n",
    "\n",
    "\n",
    "train_loss = results.history['loss']\n",
    "train_acc = results.history['accuracy']\n",
    "val_loss = results.history['val_loss']\n",
    "val_acc = results.history['val_accuracy']\n",
    "\n",
    "\n",
    "fig, (ax1, ax2) = plt.subplots(1, 2, figsize=(10, 5))\n",
    "sns.lineplot(x=results.epoch, y=train_loss, ax=ax1, label='train_loss')\n",
    "sns.lineplot(x=results.epoch, y=train_acc, ax=ax2, label='train_accuracy')\n",
    "\n",
    "sns.lineplot(x=results.epoch, y=val_loss, ax=ax1, label='val_loss')\n",
    "sns.lineplot(x=results.epoch, y=val_acc, ax=ax2, label='val_accuracy');"
   ]
  },
  {
   "attachments": {},
   "cell_type": "markdown",
   "metadata": {},
   "source": [
    "<details>\n",
    "    <summary>One answer here</summary>\n",
    "<code>model = Sequential()\n",
    "model.add(Dense(30, activation='relu', input_dim=64))\n",
    "model.add(Dense(20, activation='relu'))\n",
    "model.add(Dropout(0.5))\n",
    "model.add(Dense(12, activation='relu'))\n",
    "model.add(Dropout(0.2))\n",
    "model.add(Dense(12, activation='relu'))\n",
    "model.add(Dense(12, activation='relu'))\n",
    "model.add(Dense(8, activation='relu'))\n",
    "model.add(Dense(4, activation='relu'))\n",
    "model.add(Dense(1, activation ='sigmoid'))\n",
    "\n",
    "model.compile(optimizer='adam',\n",
    "              loss='binary_crossentropy',\n",
    "              metrics=['accuracy'])\n",
    "\n",
    "results = model.fit(X_pure_train, y_pure_train, epochs=50,\n",
    "                    batch_size= 32, verbose=0,\n",
    "                    validation_data=(X_val, y_val))\n",
    "\n",
    "train_loss = results.history['loss']\n",
    "train_acc = results.history['accuracy']\n",
    "val_loss = results.history['val_loss']\n",
    "val_acc = results.history['val_accuracy']\n",
    "\n",
    "\n",
    "fig, (ax1, ax2) = plt.subplots(1, 2, figsize=(10, 5))\n",
    "sns.lineplot(x=results.epoch, y=train_loss, ax=ax1, label='train_loss')\n",
    "sns.lineplot(x=results.epoch, y=train_acc, ax=ax2, label='train_accuracy')\n",
    "\n",
    "sns.lineplot(x=results.epoch, y=val_loss, ax=ax1, label='val_loss')\n",
    "sns.lineplot(x=results.epoch, y=val_acc, ax=ax2, label='val_accuracy');</code>\n",
    "</details>"
   ]
  },
  {
   "cell_type": "code",
   "execution_count": 41,
   "metadata": {
    "ExecuteTime": {
     "end_time": "2023-06-12T19:33:49.228412Z",
     "start_time": "2023-06-12T19:33:49.133435Z"
    }
   },
   "outputs": [
    {
     "data": {
      "text/plain": [
       "0.9756944179534912"
      ]
     },
     "execution_count": 41,
     "metadata": {},
     "output_type": "execute_result"
    }
   ],
   "source": [
    "results.history['val_accuracy'][-1]"
   ]
  },
  {
   "attachments": {},
   "cell_type": "markdown",
   "metadata": {},
   "source": [
    "### Early Stopping"
   ]
  },
  {
   "attachments": {},
   "cell_type": "markdown",
   "metadata": {},
   "source": [
    "We can also tell our neural network to stop once it stops realizing any gain.\n",
    "\n",
    "Here we tell it to stop once the a very small positive change in the validation loss occurs:"
   ]
  },
  {
   "cell_type": "code",
   "execution_count": null,
   "metadata": {
    "ExecuteTime": {
     "end_time": "2023-06-12T19:33:51.476305Z",
     "start_time": "2023-06-12T19:33:50.273576Z"
    }
   },
   "outputs": [],
   "source": [
    "model = Sequential()\n",
    "model.add(Dense(30, activation='relu', input_dim=64))\n",
    "model.add(Dense(20, activation='relu'))\n",
    "model.add(Dropout(0.5))\n",
    "model.add(Dense(12, activation='relu'))\n",
    "model.add(Dense(12, activation='relu'))\n",
    "model.add(Dense(12, activation='relu'))\n",
    "model.add(Dense(8, activation='relu'))\n",
    "model.add(Dense(4, activation='relu'))\n",
    "model.add(Dense(1, activation ='sigmoid'))\n",
    "\n",
    "model.compile(optimizer='adam',\n",
    "              loss='binary_crossentropy',\n",
    "              metrics=['accuracy'])\n",
    "\n",
    "# Define the EarlyStopping object\n",
    "early_stop = EarlyStopping(monitor='val_loss', min_delta=1e-4,\n",
    "                           verbose=1,\n",
    "                           mode='min')\n",
    "\n",
    "# Place this in a list as the value of the `callbacks` parameter\n",
    "# in the `.fit()` method.\n",
    "results = model.fit(X_pure_train, y_pure_train,\n",
    "                    epochs=20, batch_size=32,\n",
    "                    verbose=0, validation_data=(X_val, y_val),\n",
    "                    callbacks=[early_stop])\n",
    "\n",
    "train_loss = results.history['loss']\n",
    "train_acc = results.history['accuracy']\n",
    "val_loss = results.history['val_loss']\n",
    "val_acc = results.history['val_accuracy']\n",
    "\n",
    "\n",
    "fig, (ax1, ax2) = plt.subplots(1, 2, figsize=(10, 5))\n",
    "sns.lineplot(x=results.epoch, y=train_loss, ax=ax1, label='train_loss')\n",
    "sns.lineplot(x=results.epoch, y=train_acc, ax=ax2, label='train_accuracy')\n",
    "\n",
    "sns.lineplot(x=results.epoch, y=val_loss, ax=ax1, label='val_loss')\n",
    "sns.lineplot(x=results.epoch, y=val_acc, ax=ax2, label='val_accuracy');"
   ]
  },
  {
   "attachments": {},
   "cell_type": "markdown",
   "metadata": {},
   "source": [
    "### Exercise\n",
    "\n",
    "That probably stopped too early. We can specify the number of epochs in which it doesn't see decrease in the loss with the `patience` parameter. Modify the code below to include an Early Stop with a patience of 5 epochs."
   ]
  },
  {
   "cell_type": "code",
   "execution_count": null,
   "metadata": {
    "ExecuteTime": {
     "end_time": "2023-06-12T19:33:59.223710Z",
     "start_time": "2023-06-12T19:33:52.522113Z"
    }
   },
   "outputs": [],
   "source": [
    "model = Sequential()\n",
    "model.add(Dense(30, activation='relu', input_dim=64))\n",
    "model.add(Dense(20, activation='relu'))\n",
    "model.add(Dropout(0.5))\n",
    "model.add(Dense(12, activation='relu'))\n",
    "model.add(Dense(12, activation='relu'))\n",
    "model.add(Dense(12, activation='relu'))\n",
    "model.add(Dense(8, activation='relu'))\n",
    "model.add(Dense(4, activation='relu'))\n",
    "model.add(Dense(1, activation ='sigmoid'))\n",
    "\n",
    "model.compile(optimizer='adam',\n",
    "              loss='binary_crossentropy',\n",
    "              metrics=['accuracy'])\n",
    "\n",
    "# Define the EarlyStopping object\n",
    "early_stop = EarlyStopping(monitor='val_loss', min_delta=1e-8,\n",
    "                           verbose=1, patience=5,\n",
    "                           mode='min')\n",
    "\n",
    "# Place this in a list as the value of the `callbacks` parameter\n",
    "# in the `.fit()` method.\n",
    "results = model.fit(X_pure_train, y_pure_train,\n",
    "                    epochs=50, batch_size= 32,\n",
    "                    verbose=0, validation_data=(X_val, y_val),\n",
    "                    callbacks=[early_stop])\n",
    "\n",
    "train_loss = results.history['loss']\n",
    "train_acc = results.history['accuracy']\n",
    "val_loss = results.history['val_loss']\n",
    "val_acc = results.history['val_accuracy']\n",
    "\n",
    "\n",
    "fig, (ax1, ax2) = plt.subplots(1, 2, figsize=(10, 5))\n",
    "sns.lineplot(x=results.epoch, y=train_loss, ax=ax1, label='train_loss')\n",
    "sns.lineplot(x=results.epoch, y=train_acc, ax=ax2, label='train_accuracy')\n",
    "\n",
    "sns.lineplot(x=results.epoch, y=val_loss, ax=ax1, label='val_loss')\n",
    "sns.lineplot(x=results.epoch, y=val_acc, ax=ax2, label='val_accuracy');"
   ]
  },
  {
   "attachments": {},
   "cell_type": "markdown",
   "metadata": {},
   "source": [
    "<details>\n",
    "    <summary>One answer here</summary>\n",
    "<code>model = Sequential()\n",
    "model.add(Dense(30, activation='relu', input_dim=64))\n",
    "model.add(Dense(20, activation='relu'))\n",
    "model.add(Dropout(0.5))\n",
    "model.add(Dense(12, activation='relu'))\n",
    "model.add(Dense(12, activation='relu'))\n",
    "model.add(Dense(12, activation='relu'))\n",
    "model.add(Dense(8, activation='relu'))\n",
    "model.add(Dense(4, activation='relu'))\n",
    "model.add(Dense(1, activation ='sigmoid'))\n",
    "\n",
    "model.compile(optimizer='adam',\n",
    "              loss='binary_crossentropy',\n",
    "              metrics=['accuracy'])\n",
    "\n",
    "# Define the EarlyStopping object\n",
    "\n",
    "\n",
    "\n",
    "# Place this in a list as the value of the `callbacks` parameter\n",
    "# in the `.fit()` method.\n",
    "results = model.fit(X_pure_train, y_pure_train,\n",
    "                    epochs=50, batch_size= 32,\n",
    "                    verbose=0, validation_data=(X_val, y_val),\n",
    "                    callbacks=[early_stop])\n",
    "\n",
    "train_loss = results.history['loss']\n",
    "train_acc = results.history['accuracy']\n",
    "val_loss = results.history['val_loss']\n",
    "val_acc = results.history['val_accuracy']\n",
    "\n",
    "\n",
    "fig, (ax1, ax2) = plt.subplots(1, 2, figsize=(10, 5))\n",
    "sns.lineplot(x=results.epoch, y=train_loss, ax=ax1, label='train_loss')\n",
    "sns.lineplot(x=results.epoch, y=train_acc, ax=ax2, label='train_accuracy')\n",
    "\n",
    "sns.lineplot(x=results.epoch, y=val_loss, ax=ax1, label='val_loss')\n",
    "sns.lineplot(x=results.epoch, y=val_acc, ax=ax2, label='val_accuracy');</code>\n",
    "</details>"
   ]
  },
  {
   "cell_type": "code",
   "execution_count": null,
   "metadata": {
    "ExecuteTime": {
     "end_time": "2023-06-12T19:34:00.350679Z",
     "start_time": "2023-06-12T19:34:00.242679Z"
    }
   },
   "outputs": [],
   "source": [
    "results.history['val_accuracy'][-1]"
   ]
  },
  {
   "attachments": {},
   "cell_type": "markdown",
   "metadata": {},
   "source": [
    "## Multiclass Classification and Softmax"
   ]
  },
  {
   "attachments": {},
   "cell_type": "markdown",
   "metadata": {},
   "source": [
    "Now let's return to the problem of predicting digits 0 through 9."
   ]
  },
  {
   "cell_type": "code",
   "execution_count": null,
   "metadata": {
    "ExecuteTime": {
     "end_time": "2023-06-12T19:34:01.480390Z",
     "start_time": "2023-06-12T19:34:01.340391Z"
    }
   },
   "outputs": [],
   "source": [
    "digits = load_digits()\n",
    "X = digits.data\n",
    "y = digits.target"
   ]
  },
  {
   "cell_type": "code",
   "execution_count": null,
   "metadata": {
    "ExecuteTime": {
     "end_time": "2023-06-12T19:34:02.617437Z",
     "start_time": "2023-06-12T19:34:02.506438Z"
    }
   },
   "outputs": [],
   "source": [
    "X_train, X_test, y_train, y_test = train_test_split(X, y,\n",
    "                                                    random_state=42,\n",
    "                                                    test_size=0.2)\n",
    "X_pure_train, X_val, y_pure_train, y_val =\\\n",
    "    train_test_split(X_train, y_train,\n",
    "                     random_state=42, test_size=0.2)\n",
    "X_pure_train, X_val, X_test = X_pure_train/16, X_val/16, X_test/16"
   ]
  },
  {
   "attachments": {},
   "cell_type": "markdown",
   "metadata": {},
   "source": [
    "For a multiclass output, our neural net expects our target to be in a certain form."
   ]
  },
  {
   "cell_type": "code",
   "execution_count": null,
   "metadata": {
    "ExecuteTime": {
     "end_time": "2023-06-12T19:34:03.708089Z",
     "start_time": "2023-06-12T19:34:03.601210Z"
    }
   },
   "outputs": [],
   "source": [
    "ohe = OneHotEncoder(sparse=False)\n",
    "y_pure_train = ohe.fit_transform(y_pure_train.reshape(-1,1))\n",
    "y_val = ohe.transform(y_val.reshape(-1,1))\n",
    "y_test = ohe.transform(y_test.reshape(-1,1))"
   ]
  },
  {
   "cell_type": "code",
   "execution_count": null,
   "metadata": {
    "ExecuteTime": {
     "end_time": "2023-06-12T19:34:04.815190Z",
     "start_time": "2023-06-12T19:34:04.709090Z"
    }
   },
   "outputs": [],
   "source": [
    "y_test"
   ]
  },
  {
   "cell_type": "code",
   "execution_count": null,
   "metadata": {
    "ExecuteTime": {
     "end_time": "2023-06-12T19:34:23.577089Z",
     "start_time": "2023-06-12T19:34:05.787089Z"
    }
   },
   "outputs": [],
   "source": [
    "# Model from above, but now with ten output neurons:\n",
    "\n",
    "model = Sequential()\n",
    "model.add(Dense(12, activation='relu', input_dim=64))\n",
    "model.add(Dense(8, activation='relu'))\n",
    "model.add(Dense(10, activation='softmax'))\n",
    "\n",
    "model.compile(optimizer='adam',\n",
    "              loss='categorical_crossentropy',\n",
    "              metrics=['accuracy'])\n",
    "\n",
    "results = model.fit(X_pure_train, y_pure_train,\n",
    "                   epochs=50, batch_size=10,\n",
    "                   validation_data=(X_val, y_val))"
   ]
  },
  {
   "attachments": {},
   "cell_type": "markdown",
   "metadata": {},
   "source": [
    "$$\\large \\text{Softmax}(x_{i}) = \\frac{\\exp(x_i)}{\\sum_j \\exp(x_j)}$$\n",
    "\n",
    "The sofmax function outputs a number between 0 and 1 for each of our classes.  All of the probabilities of the classes sum up to 1.\n",
    "\n",
    "The number of nodes in our output layer equals the number of categories in our dataset.\n",
    "\n",
    "We also need a new loss function: **categorical crossentropy**, which calculates a separate loss for each label and then sums the results."
   ]
  },
  {
   "cell_type": "code",
   "execution_count": null,
   "metadata": {
    "ExecuteTime": {
     "end_time": "2023-06-12T19:34:24.738119Z",
     "start_time": "2023-06-12T19:34:24.630115Z"
    }
   },
   "outputs": [],
   "source": [
    "history = results.history\n",
    "training_loss = history['loss']\n",
    "val_loss = history['val_loss']\n",
    "training_accuracy = history['accuracy']\n",
    "val_accuracy = history['val_accuracy']"
   ]
  },
  {
   "cell_type": "code",
   "execution_count": null,
   "metadata": {
    "ExecuteTime": {
     "end_time": "2023-06-12T19:34:26.215090Z",
     "start_time": "2023-06-12T19:34:25.828091Z"
    }
   },
   "outputs": [],
   "source": [
    "fig, (ax1,ax2) = plt.subplots(1,2,figsize=(15,5))\n",
    "\n",
    "\n",
    "sns.lineplot(x=list(range(len(training_loss))),\n",
    "             y=training_loss, color='r', label='training', ax=ax1)\n",
    "sns.lineplot(x=list(range(len(val_loss))),\n",
    "             y=val_loss, color='b', label='validation', ax=ax1)\n",
    "sns.lineplot(x=list(range(len(training_loss))),\n",
    "             y=training_accuracy, color='r', label='training',ax=ax2)\n",
    "sns.lineplot(x=list(range(len(val_loss))),\n",
    "             y=val_accuracy, color='b', label='validation',ax=ax2)\n",
    "ax1.legend();"
   ]
  },
  {
   "cell_type": "code",
   "execution_count": null,
   "metadata": {
    "ExecuteTime": {
     "end_time": "2023-06-12T19:34:27.432123Z",
     "start_time": "2023-06-12T19:34:27.261089Z"
    }
   },
   "outputs": [],
   "source": [
    "y_hat_test = np.argmax(model.predict(X_test), axis=-1)"
   ]
  },
  {
   "cell_type": "code",
   "execution_count": null,
   "metadata": {
    "ExecuteTime": {
     "end_time": "2023-06-12T19:34:28.527564Z",
     "start_time": "2023-06-12T19:34:28.434593Z"
    }
   },
   "outputs": [],
   "source": [
    "y_test_restore = ohe.inverse_transform(y_test)\n",
    "confusion_matrix(y_test_restore, y_hat_test)"
   ]
  },
  {
   "attachments": {},
   "cell_type": "markdown",
   "metadata": {},
   "source": [
    "Wow, look at that performance!  \n",
    "\n",
    "That is great, but remember, we were dealing with simple black and white images.  With color, our basic neural net will have less success.\n",
    "\n",
    "We will explore more advanced tools in the coming days.\n"
   ]
  }
 ],
 "metadata": {
  "celltoolbar": "Raw Cell Format",
  "colab": {
   "collapsed_sections": [],
   "name": "intro-to-keras.ipynb",
   "provenance": []
  },
  "kernelspec": {
   "display_name": "learn-env",
   "language": "python",
   "name": "python3"
  },
  "language_info": {
   "codemirror_mode": {
    "name": "ipython",
    "version": 3
   },
   "file_extension": ".py",
   "mimetype": "text/x-python",
   "name": "python",
   "nbconvert_exporter": "python",
   "pygments_lexer": "ipython3",
   "version": "3.9.16"
  },
  "toc": {
   "base_numbering": 1,
   "nav_menu": {},
   "number_sections": true,
   "sideBar": true,
   "skip_h1_title": false,
   "title_cell": "Table of Contents",
   "title_sidebar": "Contents",
   "toc_cell": false,
   "toc_position": {},
   "toc_section_display": true,
   "toc_window_display": false
  },
  "varInspector": {
   "cols": {
    "lenName": 16,
    "lenType": 16,
    "lenVar": 40
   },
   "kernels_config": {
    "python": {
     "delete_cmd_postfix": "",
     "delete_cmd_prefix": "del ",
     "library": "var_list.py",
     "varRefreshCmd": "print(var_dic_list())"
    },
    "r": {
     "delete_cmd_postfix": ") ",
     "delete_cmd_prefix": "rm(",
     "library": "var_list.r",
     "varRefreshCmd": "cat(var_dic_list()) "
    }
   },
   "types_to_exclude": [
    "module",
    "function",
    "builtin_function_or_method",
    "instance",
    "_Feature"
   ],
   "window_display": false
  }
 },
 "nbformat": 4,
 "nbformat_minor": 4
}
